{
 "cells": [
  {
   "cell_type": "code",
   "execution_count": null,
   "id": "77f27879",
   "metadata": {},
   "outputs": [],
   "source": [
    "import os\n",
    "import json\n",
    "os.chdir('/mnt/openfact/users/msawinski/factue-task2')\n",
    "from langchain.prompts import ChatPromptTemplate\n",
    "from factue.methods.llm_langchain.llm import Llm"
   ]
  },
  {
   "cell_type": "code",
   "execution_count": 2,
   "id": "21c9c7af",
   "metadata": {},
   "outputs": [
    {
     "name": "stdout",
     "output_type": "stream",
     "text": [
      "seed:  42\n"
     ]
    }
   ],
   "source": [
    "chat_model = Llm(\n",
    "            model_name='llama3.1:8b',# type: ignore\n",
    "            provider='ollama',  # type: ignore\n",
    "            mode='chat',  # type: ignore\n",
    "            temperature='0.0',  # type: ignore\n",
    "            seed=42\n",
    "        )"
   ]
  },
  {
   "cell_type": "code",
   "execution_count": null,
   "id": "9abb48f2",
   "metadata": {},
   "outputs": [],
   "source": [
    "def improve_claim(claim, post, prmpt_system, prmpt_user, promt_format, chat_model):\n",
    "    prompt_template = ChatPromptTemplate.from_messages(\n",
    "    [\n",
    "        (\"system\", prmpt_system+promt_format),\n",
    "        (\"human\", prmpt_user),\n",
    "    ]\n",
    ")\n",
    "    print(claim)\n",
    "    while claim and len(claim) > 0:\n",
    "        prompt = prompt_template.invoke(\n",
    "        {\n",
    "            \"post\": post,\n",
    "            \"claim\": claim\n",
    "        })\n",
    "        reposonse = chat_model.invoke(prompt).content\n",
    "\n",
    "        try:\n",
    "            response = json.loads(reposonse)\n",
    "            rating = response['rating']\n",
    "            reason = response['reason']\n",
    "            alternative = response['improved_claim']\n",
    "            print(str(rating)+\" | \"+reason)\n",
    "            print(\"*\"*200)\n",
    "\n",
    "            print(alternative)\n",
    "        except:\n",
    "            print('Error in response')\n",
    "            print(reposonse)\n",
    "            claim = None\n",
    "        if alternative and claim != alternative:\n",
    "            claim = alternative\n",
    "        else:\n",
    "            print(\"*\"*200)\n",
    "            print(\"*\"*200)\n",
    "            break"
   ]
  },
  {
   "cell_type": "code",
   "execution_count": 4,
   "id": "6a0e357b",
   "metadata": {},
   "outputs": [
    {
     "name": "stdout",
     "output_type": "stream",
     "text": [
      "Photo shows Louis Armstrong as a child\n",
      "8 | The claim is mostly correct, but it doesn't mention the Karnofsky family's name or their connection to the boy. The post also implies that the boy was employed by the Karnofskys and received financial support from them.\n",
      "********************************************************************************************************************************************************************************************************\n",
      "Photo shows Louis Armstrong as a child who was employed by the Karnofsky Jewish family in the United States.\n",
      "8 | The claim is mostly correct, but it lacks specific details about the employment and adoption of the boy. The post mentions that the boy was given homework to get food, which implies a more complex situation than just being employed.\n",
      "********************************************************************************************************************************************************************************************************\n",
      "A photo shows Louis Armstrong as a child who was employed by the Karnofsky Jewish family in the United States, where he was initially given homework to obtain food and later adopted into their home.\n",
      "8 | The claim is mostly correct but lacks specific details about the Karnofsky family's employment of Louis Armstrong. The post mentions that Armstrong remained under their employ until he was 12, which is not mentioned in the claim.\n",
      "********************************************************************************************************************************************************************************************************\n",
      "A photo shows Louis Armstrong as a child who was employed by the Karnofsky Jewish family in the United States, where he initially received homework to obtain food and remained under their employ until he was 12 years old.\n",
      "8 | The claim is mostly correct but lacks specific details about Louis Armstrong's musical talent being recognized by the Karnofsky family.\n",
      "********************************************************************************************************************************************************************************************************\n",
      "A photo shows Louis Armstrong as a child who was employed by the Karnofsky Jewish family in the United States, where he initially received homework to obtain food and remained under their employ until he was 12 years old, eventually developing his musical talents with their support.\n",
      "8 | The claim accurately describes Louis Armstrong's early life experience with the Karnofsky Jewish family, including receiving homework for food and remaining under their employ until age 12. However, it does not explicitly state that he was a starving kid or that they employed him at 7 years old.\n",
      "********************************************************************************************************************************************************************************************************\n",
      "A photo shows Louis Armstrong as a child who was taken in by the Karnofsky Jewish family in the United States, initially receiving homework to obtain food due to his poverty, and remained under their employ until he was 12 years old, eventually developing his musical talents with their support.\n",
      "8 | The claim is mostly accurate but lacks specific details about Louis Armstrong's adoption by the Karnofsky family. The post does not explicitly state that a photo shows Louis Armstrong as a child taken in by the Karnofsky family, and it also mentions that he was given homework to get food because he was starving.\n",
      "********************************************************************************************************************************************************************************************************\n",
      "A young Louis Armstrong was employed by the Karnofsky Jewish family in the United States, initially receiving homework to obtain food due to his poverty, and remained under their employ until he was 12 years old.\n",
      "8 | The claim accurately describes the employment of a young Louis Armstrong by the Karnofsky Jewish family, including the initial reason for the employment (homework for food) and the duration of his stay with them. However, it does not mention the Karnofskys' adoption-like behavior towards him or their encouragement of his musical talent.\n",
      "********************************************************************************************************************************************************************************************************\n",
      "A young Louis Armstrong was employed by the Karnofsky Jewish family in the United States, initially receiving homework to obtain food due to his poverty, and remained under their employ until he was 12 years old, during which time they provided for him and encouraged his musical talents.\n",
      "8 | The claim accurately describes Louis Armstrong's employment by the Karnofsky family, but it incorrectly states that he received homework to obtain food. The original post actually says he was given homework 'to get food' implying that it was a task assigned to him as part of his work.\n",
      "********************************************************************************************************************************************************************************************************\n",
      "A young Louis Armstrong was employed by the Karnofsky Jewish family in the United States, initially receiving tasks to help with his poverty, and remained under their employ until he was 12 years old.\n",
      "8 | The claim accurately states that a young Louis Armstrong was employed by the Karnofsky Jewish family in the US, but it incorrectly states that he received tasks to help with his poverty. The original post mentions that the boy was given homework to get food because he was starving.\n",
      "********************************************************************************************************************************************************************************************************\n",
      "A young Louis Armstrong was employed by the Karnofsky Jewish family in the United States and initially received tasks to obtain food due to his starvation, remaining under their employ until he was 12 years old.\n",
      "8 | The claim accurately states that a young Louis Armstrong was employed by the Karnofsky Jewish family in the US, initially received tasks for food, and remained under their employ until age 12. However, it does not mention the Karnofskys' adoption of him or providing him with his first instrument.\n",
      "********************************************************************************************************************************************************************************************************\n",
      "A young Louis Armstrong was employed by the Karnofsky Jewish family in the United States, initially receiving tasks to obtain food due to starvation, and remained under their employ until he was 12 years old.\n",
      "8 | The claim accurately describes the employment of a young Louis Armstrong by the Karnofsky Jewish family, including his initial circumstances and duration of employment. However, it does not mention the adoption-like situation or the gift of an instrument.\n",
      "********************************************************************************************************************************************************************************************************\n",
      "A young Louis Armstrong was employed by the Karnofsky Jewish family in the United States, initially receiving tasks to obtain food due to starvation, and remained under their employ until he was 12 years old, during which time they also provided him with support and encouragement for his musical talent.\n",
      "8 | The claim accurately captures the essence of the original post, including the Karnofsky family's employment of a young Louis Armstrong, his initial struggles with starvation, and their support for his musical talent. However, it does not explicitly mention that Armstrong was adopted by the family.\n",
      "********************************************************************************************************************************************************************************************************\n",
      "A young Louis Armstrong was employed by the Karnofsky Jewish family in the United States, initially receiving tasks to obtain food due to starvation, and remained under their employ until he was 12 years old, during which time they also provided him with support and encouragement for his musical talent, essentially adopting him into their home.\n",
      "9 | The claim accurately represents the original post's information about Louis Armstrong's employment by the Karnofsky Jewish family in the United States, including his initial circumstances and the family's support of his musical talent.\n",
      "********************************************************************************************************************************************************************************************************\n",
      "None\n",
      "********************************************************************************************************************************************************************************************************\n",
      "********************************************************************************************************************************************************************************************************\n"
     ]
    }
   ],
   "source": [
    "claim = \"\"\"Photo shows Louis Armstrong as a child\"\"\"\n",
    "post = \"\"\"The Karnofsky Jewish family, who immigrated to the United States from Lithuania, employed a 7-year-old boy and adopted (so to speak) him into their home.  He was originally given homework to get food because he was a starving kid.  He remained under the Jewish families employ, until he was 12  Karnofsky gave him money to buy his first instrument, which was a common instrument in Jewish families.  They really admired his musical talent.Later, when he became a professional\"\"\"\n",
    "\n",
    "prmpt_system = \"\"\"You are a “Normalized Claim Generator.” \n",
    "Input: a noisy, unstructured social-media post.\n",
    "Output:\n",
    "- Include only information from the original post; minimal disambiguation allowed.\n",
    "- Use formal, simple, non-offensive language.\n",
    "- Preserve all named entities exactly as in the input.\n",
    "- Keep numerical values intact; convert units when helpful.\n",
    "- Retain original wording where possible; avoid fluff.\n",
    "- Preserve semantic meaning; do not correct factual errors.\n",
    "- Maintain a neutral, unbiased tone; no moral judgment.\n",
    "- Expand acronyms and shorthand (e.g., “NYC” → “New York City”) unless part of an official name.\n",
    "\n",
    "You will receive a claim generated before and an orginal post.\n",
    "Your task is to rate the claim on a scale from 0 to 10, where 0 means the claim is completely wrong and 10 means the claim is completely correct. Generate reason for the rating.\n",
    "If the claim is not correct, you need to formulate a new one sentence claim that better represents the text of post.\n",
    "\"\"\"\n",
    "\n",
    "promt_format = \"\"\"\\nOutput ONLY JSON: in the format {{\"rating\": 0-10, \"reason\": \"reason for rating\",\"alternative\": \"formulate new one sentence claim that better represents the text of post}}.\"\"\"\n",
    "\n",
    "prmpt_user = \"\"\"POST:\\n{post}\\n\\nCLAIM:\\n{claim}\"\"\"\n",
    "\n",
    "improve_claim(claim, post, prmpt_system, prmpt_user, promt_format, chat_model)"
   ]
  },
  {
   "cell_type": "code",
   "execution_count": 14,
   "id": "719437f2",
   "metadata": {},
   "outputs": [
    {
     "name": "stdout",
     "output_type": "stream",
     "text": [
      "Photo shows Louis Armstrong as a child\n",
      "2 | The claim is partially correct but does not accurately describe the post's content. The post mentions a Jewish family and a boy who was employed by them, whereas the claim refers to a photo of Louis Armstrong.\n",
      "********************************************************************************************************************************************************************************************************\n",
      "A young boy from a Jewish family in Lithuania was employed by the Karnofsky family and showed musical talent.\n",
      "8 | The claim captures the essence of the post but omits some specific details such as the boy's age, his initial purpose for working with the Karnofsky family (to get food), and the fact that he was adopted into their home.\n",
      "********************************************************************************************************************************************************************************************************\n",
      "A 7-year-old Jewish boy from Lithuania was employed by the Karnofsky family to get food and later became a part of their household, showing musical talent.\n",
      "8 | The claim captures the essence of the post but omits some details such as the boy's age at adoption (12) and the fact that he was given money to buy his first instrument.\n",
      "********************************************************************************************************************************************************************************************************\n",
      "A 7-year-old Jewish boy from Lithuania, employed by the Karnofsky family for food, later became a part of their household and showed musical talent.\n",
      "8 | The claim captures the essence of the post but omits some details such as the boy's age at adoption (12) and the specific instrument he was given.\n",
      "********************************************************************************************************************************************************************************************************\n",
      "A 7-year-old Jewish boy from Lithuania, employed by the Karnofsky family for food, later became a part of their household at age 12 and showed musical talent.\n",
      "8 | The claim captures the essence of the post but omits some details such as the boy's profession and the Karnofsky family's admiration for his talent.\n",
      "********************************************************************************************************************************************************************************************************\n",
      "A 7-year-old Jewish boy from Lithuania, employed by the Karnofsky family for food, later became a part of their household at age 12 and showed musical talent.\n",
      "********************************************************************************************************************************************************************************************************\n",
      "********************************************************************************************************************************************************************************************************\n"
     ]
    }
   ],
   "source": [
    "claim = \"\"\"Photo shows Louis Armstrong as a child\"\"\"\n",
    "post = \"\"\"The Karnofsky Jewish family, who immigrated to the United States from Lithuania, employed a 7-year-old boy and adopted (so to speak) him into their home.  He was originally given homework to get food because he was a starving kid.  He remained under the Jewish families employ, until he was 12  Karnofsky gave him money to buy his first instrument, which was a common instrument in Jewish families.  They really admired his musical talent.Later, when he became a professional\"\"\"\n",
    "\n",
    "prmpt_system = \"\"\"You are a “Normalized Claim Generator.”  \n",
    "Input: a noisy, unstructured social-media post plus a previously generated claim.  \n",
    "Task:\n",
    "1. Rate the claim’s faithfulness on a 0–10 scale (0 = completely wrong, 10 = fully correct).  \n",
    "2. Explain your rating in a brief reason.  \n",
    "3. If the rating is less than 10, rewrite a single‐sentence claim that better reflects the post.  \n",
    "\n",
    "When generating or evaluating a claim, it must:\n",
    "- Include **only** information present in the original post (minimal disambiguation allowed).\n",
    "- **Not** introduce or infer any new entities, identities, or facts not explicitly mentioned in post. \n",
    "- Use clear, formal, simple, non-offensive language.  \n",
    "- Preserve every named entity exactly as in the input.  \n",
    "- Keep numerical values intact; convert units only when necessary.  \n",
    "- Retain original phrasing where possible; remove all filler.  \n",
    "- Preserve the post’s semantic meaning; do not correct factual errors.  \n",
    "- Maintain a neutral, unbiased tone without moral judgment.  \n",
    "- Expand acronyms and shorthand (e.g., “NYC” → “New York City”) unless part of an official name.\n",
    "- If the post contains too much information for one sentence, select only the most important claim.\"\"\"\n",
    "\n",
    "promt_format = \"\"\"\n",
    "Output **only** valid JSON, for example:\n",
    "{{\n",
    "  \"rating\": 7,\n",
    "  \"reason\": \"The claim captures the main event but omits the time and location mentioned in the post.\",\n",
    "  \"improved_claim\": \"John Doe completed the 5K race in Central Park on August 12 in 22 minutes.\"\n",
    "}}\"\"\"\n",
    "\n",
    "prmpt_user = \"\"\"POST:\\n{post}\\n\\nCLAIM:\\n{claim}\"\"\"\n",
    "\n",
    "improve_claim(claim, post, prmpt_system, prmpt_user, promt_format, chat_model)\n",
    "\n",
    "\n",
    "\n",
    "\n"
   ]
  },
  {
   "cell_type": "code",
   "execution_count": 15,
   "id": "b7fb9e71",
   "metadata": {},
   "outputs": [
    {
     "name": "stdout",
     "output_type": "stream",
     "text": [
      "You are a “Normalized Claim Generator.”  \n",
      "Input: a noisy, unstructured social-media post plus a previously generated claim.  \n",
      "Task:\n",
      "1. Rate the claim’s faithfulness on a 0–10 scale (0 = completely wrong, 10 = fully correct).  \n",
      "2. Explain your rating in a brief reason.  \n",
      "3. If the rating is less than 10, rewrite a single‐sentence claim that better reflects the post.  \n",
      "\n",
      "When generating or evaluating a claim, it must:\n",
      "- Include **only** information present in the original post (minimal disambiguation allowed).\n",
      "- **Not** introduce or infer any new entities, identities, or facts not explicitly mentioned in post. \n",
      "- Use clear, formal, simple, non-offensive language.  \n",
      "- Preserve every named entity exactly as in the input.  \n",
      "- Keep numerical values intact; convert units only when necessary.  \n",
      "- Retain original phrasing where possible; remove all filler.  \n",
      "- Preserve the post’s semantic meaning; do not correct factual errors.  \n",
      "- Maintain a neutral, unbiased tone without moral judgment.  \n",
      "- Expand acronyms and shorthand (e.g., “NYC” → “New York City”) unless part of an official name.\n",
      "- If the post contains too much information for one sentence, select only the most important claim.\n",
      "Output **only** valid JSON, for example:\n",
      "{\n",
      "  \"rating\": 7,\n",
      "  \"reason\": \"The claim captures the main event but omits the time and location mentioned in the post.\",\n",
      "  \"improved_claim\": \"John Doe completed the 5K race in Central Park on August 12 in 22 minutes.\"\n",
      "}\n",
      "POST:\n",
      "The Karnofsky Jewish family, who immigrated to the United States from Lithuania, employed a 7-year-old boy and adopted (so to speak) him into their home.  He was originally given homework to get food because he was a starving kid.  He remained under the Jewish families employ, until he was 12  Karnofsky gave him money to buy his first instrument, which was a common instrument in Jewish families.  They really admired his musical talent.Later, when he became a professional\n",
      "\n",
      "CLAIM:\n",
      "Photo shows Louis Armstrong as a child\n"
     ]
    }
   ],
   "source": [
    "prompt_template = ChatPromptTemplate.from_messages(\n",
    "    [\n",
    "        (\"system\", prmpt_system+promt_format),\n",
    "        (\"human\", prmpt_user),\n",
    "    ]\n",
    ")\n",
    "prompt = prompt_template.invoke(\n",
    "        {\n",
    "            \"post\": post,\n",
    "            \"claim\": claim\n",
    "        })\n",
    "prompt\n",
    "print(\"\\n\".join([p.content for p in prompt.messages]))"
   ]
  },
  {
   "cell_type": "code",
   "execution_count": 7,
   "id": "b146312b",
   "metadata": {},
   "outputs": [
    {
     "ename": "TypeError",
     "evalue": "'list' object is not callable",
     "output_type": "error",
     "traceback": [
      "\u001b[31m---------------------------------------------------------------------------\u001b[39m",
      "\u001b[31mTypeError\u001b[39m                                 Traceback (most recent call last)",
      "\u001b[36mCell\u001b[39m\u001b[36m \u001b[39m\u001b[32mIn[7]\u001b[39m\u001b[32m, line 1\u001b[39m\n\u001b[32m----> \u001b[39m\u001b[32m1\u001b[39m \u001b[43mprompt\u001b[49m\u001b[43m.\u001b[49m\u001b[43mmessages\u001b[49m\u001b[43m(\u001b[49m\u001b[43m)\u001b[49m\n",
      "\u001b[31mTypeError\u001b[39m: 'list' object is not callable"
     ]
    }
   ],
   "source": [
    "prompt.messages()"
   ]
  }
 ],
 "metadata": {
  "kernelspec": {
   "display_name": "Python (MS FactUE)",
   "language": "python",
   "name": "factue"
  },
  "language_info": {
   "codemirror_mode": {
    "name": "ipython",
    "version": 3
   },
   "file_extension": ".py",
   "mimetype": "text/x-python",
   "name": "python",
   "nbconvert_exporter": "python",
   "pygments_lexer": "ipython3",
   "version": "3.11.8"
  }
 },
 "nbformat": 4,
 "nbformat_minor": 5
}
