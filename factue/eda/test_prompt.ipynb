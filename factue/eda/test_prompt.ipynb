{
 "cells": [
  {
   "cell_type": "code",
   "execution_count": 1,
   "id": "9c0156d0",
   "metadata": {},
   "outputs": [],
   "source": [
    "from factue.methods.llm_calls import make_call\n",
    "from factue.methods.llm_langchain.llm import Llm\n",
    "from factue.utils.types import ModelMode, ModelName, ModelProvider"
   ]
  },
  {
   "cell_type": "code",
   "execution_count": 2,
   "id": "e249ef30",
   "metadata": {},
   "outputs": [],
   "source": [
    "t = \"\"\"\n",
    "The Karnofsky Jewish family, who immigrated to the United States from Lithuania, employed a 7-year-old boy and adopted (so to speak) him into their home.  He was originally given homework to get food because he was a starving kid.  He remained under the Jewish families employ, until he was 12  Karnofsky gave him money to buy his first instrument, which was a common instrument in Jewish families.  They really admired his musical talent.Later, when he became a professional … See More The Karnofsky Jewish family, who immigrated to the United States from Lithuania, employed a 7-year-old boy and adopted (so to speak) him into their home.  He was originally given homework to get food because he was a starving kid.  He remained under the Jewish families employ, until he was 12  Karnofsky gave him money to buy his first instrument, which was a common instrument in Jewish families.  They really admired his musical talent.Later, when he became a professional … See More The Karnofsky Jewish family, who immigrated to the United States from Lithuania, employed a 7-year-old boy and adopted (so to speak) him into their home.  He was originally given homework to get food because he was a starving kid.  He remained under the Jewish families employ, until he was 12  Karnofsky gave him money to buy his first instrument, which was a common instrument in Jewish families.  They really admired his musical talent.Later, when he became a professional … See More None\n",
    "\"\"\"\n",
    "# t = 'car'"
   ]
  },
  {
   "cell_type": "code",
   "execution_count": null,
   "id": "bb4f1e6f",
   "metadata": {},
   "outputs": [
    {
     "name": "stdout",
     "output_type": "stream",
     "text": [
      "******************** 0.8\n"
     ]
    }
   ],
   "source": [
    "llm = Llm(\n",
    "            model_name=ModelName.LLAMA_31_8B,\n",
    "            provider=ModelProvider.OLLAMA,\n",
    "            mode=ModelMode.CHAT,\n",
    "            temperature=0.8,\n",
    "            num_predict=15,\n",
    "            seed=100\n",
    "        )\n",
    "\n",
    "\n",
    "make_call(llm,'extract_task','extract_001',{'text':t}, 5)"
   ]
  }
 ],
 "metadata": {
  "kernelspec": {
   "display_name": ".venv",
   "language": "python",
   "name": "python3"
  },
  "language_info": {
   "codemirror_mode": {
    "name": "ipython",
    "version": 3
   },
   "file_extension": ".py",
   "mimetype": "text/x-python",
   "name": "python",
   "nbconvert_exporter": "python",
   "pygments_lexer": "ipython3",
   "version": "3.12.9"
  }
 },
 "nbformat": 4,
 "nbformat_minor": 5
}
