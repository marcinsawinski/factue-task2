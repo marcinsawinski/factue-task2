{
 "cells": [
  {
   "cell_type": "code",
   "execution_count": 1,
   "id": "d152e931",
   "metadata": {},
   "outputs": [
    {
     "name": "stdout",
     "output_type": "stream",
     "text": [
      "Saved /Users/marcinsawinski/Documents/GitHub/factue-task2/data/preprocessed/persuasion/train/train-pl/batch0000.parquet\n",
      "Saved /Users/marcinsawinski/Documents/GitHub/factue-task2/data/preprocessed/persuasion/train/train-pl/batch0001.parquet\n",
      "Saved /Users/marcinsawinski/Documents/GitHub/factue-task2/data/preprocessed/persuasion/train/train-ru/batch0000.parquet\n",
      "Saved /Users/marcinsawinski/Documents/GitHub/factue-task2/data/preprocessed/persuasion/train/train-bg/batch0000.parquet\n",
      "Saved /Users/marcinsawinski/Documents/GitHub/factue-task2/data/preprocessed/persuasion/train/train-bg/batch0001.parquet\n",
      "Saved /Users/marcinsawinski/Documents/GitHub/factue-task2/data/preprocessed/persuasion/train/train-bg/batch0002.parquet\n",
      "Saved /Users/marcinsawinski/Documents/GitHub/factue-task2/data/preprocessed/persuasion/train/train-bg/batch0003.parquet\n",
      "Saved /Users/marcinsawinski/Documents/GitHub/factue-task2/data/preprocessed/persuasion/train/train-si/batch0000.parquet\n"
     ]
    }
   ],
   "source": [
    "from pathlib import Path\n",
    "import pandas as pd\n",
    "from factue.utils.vars import project_root\n",
    "\n",
    "base_dir = project_root / \"data/raw/persuasion/trial_data/TRIAL-ANNOTATED\"\n",
    "langs = [\"PL\", \"RU\", \"BG\", \"SI\"]\n",
    "\n",
    "records = []\n",
    "\n",
    "for lang in langs:\n",
    "    lang_path = base_dir / lang\n",
    "    raw_docs_path = lang_path / \"raw-documents\"\n",
    "    subtask1_path = lang_path / \"subtask-1-annotations.txt\"\n",
    "    subtask2_path = lang_path / \"subtask-2-annotations.txt\"\n",
    "\n",
    "    # Load all raw documents\n",
    "    raw_docs = {\n",
    "        f.name: f.read_text(encoding=\"utf-8\")\n",
    "        for f in raw_docs_path.glob(\"*.txt\")\n",
    "    }\n",
    "\n",
    "    # Load subtask-2 annotations into a dict\n",
    "    subtask2_map = {}\n",
    "    if subtask2_path.exists():\n",
    "        with subtask2_path.open(encoding=\"utf-8\") as f:\n",
    "            for line in f:\n",
    "                parts = line.strip().split(\"\\t\")\n",
    "                if len(parts) >= 4:\n",
    "                    fname, start, end, *labels = parts\n",
    "                    key = (fname, int(start), int(end))\n",
    "                    subtask2_map[key] = labels\n",
    "\n",
    "    # Parse subtask-1 annotations and extract spans\n",
    "    with subtask1_path.open(encoding=\"utf-8\") as f:\n",
    "        for line in f:\n",
    "            parts = line.strip().split(\"\\t\")\n",
    "            if len(parts) != 4:\n",
    "                continue\n",
    "            fname, start, end, label_bin = parts\n",
    "            start, end = int(start), int(end)\n",
    "            text = raw_docs.get(fname, \"\")[start:end]\n",
    "            labels_multi = subtask2_map.get((fname, start, end), [])\n",
    "\n",
    "            records.append({\n",
    "                \"lang\": lang,\n",
    "                \"filename\": fname,\n",
    "                \"start\": start,\n",
    "                \"end\": end,\n",
    "                \"text\": text,\n",
    "                \"label_bin\": label_bin.lower() == \"true\",\n",
    "                \"labels_multi\": labels_multi,\n",
    "\n",
    "            })\n",
    "\n",
    "# Create a DataFrame\n",
    "df = pd.DataFrame(records)\n",
    "\n",
    "from pathlib import Path\n",
    "\n",
    "batch_size = 20\n",
    "output_base = project_root / \"data/preprocessed/persuasion/train\"\n",
    "output_base.mkdir(parents=True, exist_ok=True)\n",
    "\n",
    "for lang in df[\"lang\"].unique():\n",
    "    df_lang = df[df[\"lang\"] == lang].reset_index(drop=True)\n",
    "    lang_dir = output_base / f\"train-{lang.lower()}\"\n",
    "    lang_dir.mkdir(parents=True, exist_ok=True)\n",
    "\n",
    "    # Save in batches of 20\n",
    "    for i in range(0, len(df_lang), batch_size):\n",
    "        batch_df = df_lang.iloc[i:i + batch_size]\n",
    "        batch_index = i // batch_size\n",
    "        batch_filename = f\"batch{batch_index:04d}.parquet\"\n",
    "        batch_path = lang_dir / batch_filename\n",
    "        batch_df.to_parquet(batch_path, index=False)\n",
    "        print(f\"Saved {batch_path}\")"
   ]
  },
  {
   "cell_type": "code",
   "execution_count": 2,
   "id": "d1231127",
   "metadata": {},
   "outputs": [
    {
     "data": {
      "text/plain": [
       "lang\n",
       "BG    75\n",
       "PL    27\n",
       "RU    18\n",
       "SI     9\n",
       "Name: count, dtype: int64"
      ]
     },
     "execution_count": 2,
     "metadata": {},
     "output_type": "execute_result"
    }
   ],
   "source": [
    "df.value_counts('lang')"
   ]
  },
  {
   "cell_type": "code",
   "execution_count": null,
   "id": "f70df1aa",
   "metadata": {},
   "outputs": [],
   "source": [
    "from collections import Counter\n",
    "\n",
    "# Flatten all labels_multi lists into one list\n",
    "all_labels = df['labels_multi'].explode()\n",
    "\n",
    "# Drop None or NaN values (in case some entries have empty label lists)\n",
    "all_labels = all_labels.dropna()\n",
    "\n",
    "# Count occurrences\n",
    "label_counts = Counter(all_labels)\n",
    "\n",
    "# Convert to DataFrame for display or saving\n",
    "label_counts_df = pd.DataFrame(label_counts.items(), columns=[\"label\", \"count\"]).sort_values(\"count\", ascending=False)\n",
    "\n",
    "print(label_counts_df)"
   ]
  }
 ],
 "metadata": {
  "kernelspec": {
   "display_name": ".venv",
   "language": "python",
   "name": "python3"
  },
  "language_info": {
   "codemirror_mode": {
    "name": "ipython",
    "version": 3
   },
   "file_extension": ".py",
   "mimetype": "text/x-python",
   "name": "python",
   "nbconvert_exporter": "python",
   "pygments_lexer": "ipython3",
   "version": "3.12.9"
  }
 },
 "nbformat": 4,
 "nbformat_minor": 5
}
