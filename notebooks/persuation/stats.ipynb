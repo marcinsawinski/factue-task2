{
 "cells": [
  {
   "cell_type": "code",
   "execution_count": 1,
   "id": "bc303d0a",
   "metadata": {},
   "outputs": [],
   "source": [
    "wd = '/mnt/openfact/users/msawinski/factue-task2'\n",
    "import sys, os\n",
    "os.chdir(wd)"
   ]
  },
  {
   "cell_type": "code",
   "execution_count": 2,
   "id": "babd803f",
   "metadata": {},
   "outputs": [],
   "source": [
    "import pandas as pd\n",
    "from pathlib import Path\n",
    "import os\n",
    "root = Path(\"data/llm_output/persuasion\")\n",
    "# Example path template\n",
    "files = root.rglob(\"*/*.parquet\")\n",
    "\n",
    "# Read all files and add file path as a column\n",
    "df_list = []\n",
    "for f in files:\n",
    "    df_part = pd.read_parquet(f)\n",
    "    df_part['source_file'] = f  # add the file path\n",
    "    df_list.append(df_part)\n",
    "\n",
    "# Combine into one DataFrame\n",
    "df = pd.concat(df_list, ignore_index=True)"
   ]
  },
  {
   "cell_type": "code",
   "execution_count": 3,
   "id": "c3da0615",
   "metadata": {},
   "outputs": [
    {
     "data": {
      "text/plain": [
       "source_file\n",
       "data/llm_output/persuasion/detect/ModelName.LLAMA_31_8B-justification/Appeal_to_Values_v001/train/train-bg/batch_0003.parquet    20\n",
       "data/llm_output/persuasion/detect/ModelName.LLAMA_31_8B-justification/Appeal_to_Values_v001/train/train-bg/batch_0008.parquet    20\n",
       "data/llm_output/persuasion/detect/ModelName.LLAMA_31_8B-justification/Appeal_to_Values_v001/train/train-bg/batch_0009.parquet    20\n",
       "data/llm_output/persuasion/detect/ModelName.LLAMA_31_8B-justification/Appeal_to_Values_v001/train/train-bg/batch_0010.parquet    20\n",
       "data/llm_output/persuasion/detect/ModelName.LLAMA_31_8B-justification/Appeal_to_Values_v001/train/train-bg/batch_0012.parquet    20\n",
       "data/llm_output/persuasion/detect/ModelName.LLAMA_31_8B-justification/Appeal_to_Values_v001/train/train-bg/batch_0015.parquet    20\n",
       "data/llm_output/persuasion/detect/ModelName.LLAMA_31_8B-justification/Appeal_to_Values_v001/train/train-bg/batch_0016.parquet    20\n",
       "data/llm_output/persuasion/detect/ModelName.LLAMA_31_8B-justification/Appeal_to_Values_v001/train/train-pl/batch_0000.parquet    20\n",
       "data/llm_output/persuasion/detect/ModelName.LLAMA_31_8B-justification/Appeal_to_Values_v001/train/train-pl/batch_0001.parquet    20\n",
       "data/llm_output/persuasion/detect/ModelName.LLAMA_31_8B-justification/Appeal_to_Values_v001/train/train-pl/batch_0002.parquet    20\n",
       "data/llm_output/persuasion/detect/ModelName.LLAMA_31_8B-justification/Appeal_to_Values_v001/train/train-pl/batch_0005.parquet    20\n",
       "data/llm_output/persuasion/detect/ModelName.LLAMA_31_8B-justification/Appeal_to_Values_v001/train/train-pl/batch_0008.parquet    20\n",
       "data/llm_output/persuasion/detect/ModelName.LLAMA_31_8B-justification/Appeal_to_Values_v001/train/train-pl/batch_0010.parquet    20\n",
       "data/llm_output/persuasion/detect/ModelName.LLAMA_31_8B-justification/Appeal_to_Values_v001/train/train-pl/batch_0011.parquet    20\n",
       "data/llm_output/persuasion/detect/ModelName.LLAMA_31_8B-justification/Appeal_to_Values_v001/train/train-ru/batch_0001.parquet    20\n",
       "data/llm_output/persuasion/detect/ModelName.LLAMA_31_8B-justification/Appeal_to_Values_v001/train/train-ru/batch_0002.parquet    20\n",
       "data/llm_output/persuasion/detect/ModelName.LLAMA_31_8B-justification/Appeal_to_Values_v001/train/train-ru/batch_0003.parquet    20\n",
       "data/llm_output/persuasion/detect/ModelName.LLAMA_31_8B-justification/Appeal_to_Values_v001/train/train-ru/batch_0007.parquet    20\n",
       "data/llm_output/persuasion/detect/ModelName.LLAMA_31_8B-justification/Appeal_to_Values_v001/train/train-ru/batch_0010.parquet    20\n",
       "data/llm_output/persuasion/detect/ModelName.LLAMA_31_8B-justification/Appeal_to_Values_v001/train/train-si/batch_0005.parquet     8\n",
       "Name: count, dtype: int64"
      ]
     },
     "execution_count": 3,
     "metadata": {},
     "output_type": "execute_result"
    }
   ],
   "source": [
    "df['source_file'].value_counts().sort_index()"
   ]
  },
  {
   "cell_type": "code",
   "execution_count": 4,
   "id": "df0d0f92",
   "metadata": {},
   "outputs": [
    {
     "data": {
      "application/vnd.microsoft.datawrangler.viewer.v0+json": {
       "columns": [
        {
         "name": "index",
         "rawType": "int64",
         "type": "integer"
        },
        {
         "name": "filename",
         "rawType": "object",
         "type": "string"
        },
        {
         "name": "start",
         "rawType": "int64",
         "type": "integer"
        },
        {
         "name": "end",
         "rawType": "int64",
         "type": "integer"
        },
        {
         "name": "text_lang",
         "rawType": "object",
         "type": "string"
        },
        {
         "name": "text",
         "rawType": "object",
         "type": "string"
        },
        {
         "name": "label_bin",
         "rawType": "bool",
         "type": "boolean"
        },
        {
         "name": "labels_multi",
         "rawType": "object",
         "type": "unknown"
        },
        {
         "name": "identifier",
         "rawType": "object",
         "type": "string"
        },
        {
         "name": "technique_id",
         "rawType": "object",
         "type": "string"
        },
        {
         "name": "raw_result",
         "rawType": "object",
         "type": "unknown"
        },
        {
         "name": "Description",
         "rawType": "object",
         "type": "unknown"
        },
        {
         "name": "Verdict",
         "rawType": "object",
         "type": "unknown"
        },
        {
         "name": "pred",
         "rawType": "bool",
         "type": "boolean"
        },
        {
         "name": "gold",
         "rawType": "bool",
         "type": "boolean"
        },
        {
         "name": "source_file",
         "rawType": "object",
         "type": "unknown"
        }
       ],
       "conversionMethod": "pd.DataFrame",
       "ref": "b338c209-bf61-4493-9532-8826107bcd76",
       "rows": [
        [
         "0",
         "RU_discrediting_the_west_1.txt",
         "1635",
         "1834",
         "RU",
         "Человека превратят в суррогат.\nА суррогату не гарантированы права человека, главное из которых — право на жизнь.\nЭто будет удобная и безмолвная марионетка для выполнения определённых функций и задач.",
         "True",
         "['Consequential_Oversimplification']",
         "ModelName.LLAMA_31_8B-justification/Appeal_to_Values_v001",
         "Appeal_to_Values",
         "['{\\n    \"Description\": \"Appeal to Values technique was used by referencing the fundamental human right \\'the right to life\\' and implying that its absence would lead to dehumanization.\",\\n    \"Verdict\": true\\n}'\n '{\\n    \"Description\": \"Appeal to Values technique was used by evoking the value of \\'right to life\\' and emphasizing its importance, highlighting what might happen if this right is not protected.\",\\n    \"Verdict\": true\\n}'\n '{\\n  \"Description\": \"Appeal to Values: The text appeals to the value of human rights, specifically the right to life, to emphasize the negative consequences of treating a person as a surrogate.\",\\n  \"Verdict\": true\\n}'\n '{\\n  \"Description\": \"Appeal to Values technique was used by referencing the fundamental human right of \\'right to life\\' in an attempt to evoke emotional response and emphasize potential consequences.\",\\n  \"Verdict\": true\\n}'\n '{\\n  \"Description\": \"Appeal to Values technique was used by referencing the fundamental right of human life and implying that stripping a person of this status would be morally reprehensible.\",\\n  \"Verdict\": true\\n}']",
         "[\"Appeal to Values technique was used by referencing the fundamental human right 'the right to life' and implying that its absence would lead to dehumanization.\"\n \"Appeal to Values technique was used by evoking the value of 'right to life' and emphasizing its importance, highlighting what might happen if this right is not protected.\"\n 'Appeal to Values: The text appeals to the value of human rights, specifically the right to life, to emphasize the negative consequences of treating a person as a surrogate.'\n \"Appeal to Values technique was used by referencing the fundamental human right of 'right to life' in an attempt to evoke emotional response and emphasize potential consequences.\"\n 'Appeal to Values technique was used by referencing the fundamental right of human life and implying that stripping a person of this status would be morally reprehensible.']",
         "[ True  True  True  True  True]",
         "True",
         "False",
         "data/llm_output/persuasion/detect/ModelName.LLAMA_31_8B-justification/Appeal_to_Values_v001/train/train-ru/batch_0007.parquet"
        ],
        [
         "1",
         "RU_discrediting_the_west_1.txt",
         "1836",
         "2138",
         "RU",
         "Нам очень важно спасти людей от этого, уберечь от дальнейшего расчеловечивания.\nСегодня это вызов для всего мира.\nИ для нашей страны, и для миллионов других людей, в том числе и на Западе, которые также выступают за сохранение традиционных ценностей и борются с тем, что активно им навязывается взамен.",
         "True",
         "['Appeal_to_Values']",
         "ModelName.LLAMA_31_8B-justification/Appeal_to_Values_v001",
         "Appeal_to_Values",
         "['{\\n  \"Description\": \"Appeal to Values technique was used by evoking traditional values and contrasting them with the current state of affairs.\",\\n  \"Verdict\": true\\n}'\n '{\\n  \"Description\": \"Appeal to Values was used by referencing \\'traditional values\\' and implying that they are being threatened.\",\\n  \"Verdict\": true\\n}'\n '{\\n  \"Description\": \"Appeal to Values technique was used by evoking the importance of preserving traditional values and opposing the forced imposition of alternative ones.\",\\n  \"Verdict\": true\\n}'\n '{\\n  \"Description\": \"Appeal to Values was used by emphasizing the importance of preserving traditional values and protecting people from \\'дечеловичивание\\' (a Russian term implying dehumanization or degradation). The speaker is appealing to the audience\\'s sense of morality and their commitment to preserving human dignity.\",\\n  \"Verdict\": true\\n}'\n '{\\n  \"Description\": \"The speaker appeals to the values of preserving traditional values and protecting humanity from dehumanization.\",\\n  \"Verdict\": true\\n}']",
         "['Appeal to Values technique was used by evoking traditional values and contrasting them with the current state of affairs.'\n \"Appeal to Values was used by referencing 'traditional values' and implying that they are being threatened.\"\n 'Appeal to Values technique was used by evoking the importance of preserving traditional values and opposing the forced imposition of alternative ones.'\n \"Appeal to Values was used by emphasizing the importance of preserving traditional values and protecting people from 'дечеловичивание' (a Russian term implying dehumanization or degradation). The speaker is appealing to the audience's sense of morality and their commitment to preserving human dignity.\"\n 'The speaker appeals to the values of preserving traditional values and protecting humanity from dehumanization.']",
         "[ True  True  True  True  True]",
         "True",
         "True",
         "data/llm_output/persuasion/detect/ModelName.LLAMA_31_8B-justification/Appeal_to_Values_v001/train/train-ru/batch_0007.parquet"
        ],
        [
         "2",
         "RU_discrediting_the_west_1.txt",
         "2140",
         "2176",
         "RU",
         "Человек должен оставаться человеком.",
         "True",
         "['Conversation_Killer']",
         "ModelName.LLAMA_31_8B-justification/Appeal_to_Values_v001",
         "Appeal_to_Values",
         "['{\\n  \"Description\": \"This phrase appeals to the value of humanity and dignity, emphasizing that a person should be treated with respect and retain their human qualities.\",\\n  \"Verdict\": true\\n}'\n '{\\n  \"Description\": \"Appeal to Values is partially used, as the phrase \\'человек должен оставаться человеком\\' (a person should remain a person) appeals to human dignity and values of humanity.\",\\n  \"Verdict\": true\\n}'\n '{\\n  \"Description\": \"The phrase \\\\\"Человек должен оставаться человеком\\\\\" (A person should remain a person) appeals to values such as humanity, dignity, and basic human rights, suggesting that the speaker is emphasizing the importance of maintaining these core aspects in various situations.\",\\n  \"Verdict\": true\\n}'\n '{\\n  \"Description\": \"The input does not describe a clear appeal to values, as it is a short and abstract phrase that does not explicitly reference any specific value or principle.\",\\n  \"Verdict\": false\\n}'\n '{\\n  \"Description\": \"The statement appeals to the value of humanity, suggesting that a person should maintain their dignity and human nature.\",\\n  \"Verdict\": true\\n}']",
         "['This phrase appeals to the value of humanity and dignity, emphasizing that a person should be treated with respect and retain their human qualities.'\n \"Appeal to Values is partially used, as the phrase 'человек должен оставаться человеком' (a person should remain a person) appeals to human dignity and values of humanity.\"\n 'The phrase \"Человек должен оставаться человеком\" (A person should remain a person) appeals to values such as humanity, dignity, and basic human rights, suggesting that the speaker is emphasizing the importance of maintaining these core aspects in various situations.'\n 'The input does not describe a clear appeal to values, as it is a short and abstract phrase that does not explicitly reference any specific value or principle.'\n 'The statement appeals to the value of humanity, suggesting that a person should maintain their dignity and human nature.']",
         "[ True  True  True False  True]",
         "True",
         "False",
         "data/llm_output/persuasion/detect/ModelName.LLAMA_31_8B-justification/Appeal_to_Values_v001/train/train-ru/batch_0007.parquet"
        ]
       ],
       "shape": {
        "columns": 15,
        "rows": 3
       }
      },
      "text/html": [
       "<div>\n",
       "<style scoped>\n",
       "    .dataframe tbody tr th:only-of-type {\n",
       "        vertical-align: middle;\n",
       "    }\n",
       "\n",
       "    .dataframe tbody tr th {\n",
       "        vertical-align: top;\n",
       "    }\n",
       "\n",
       "    .dataframe thead th {\n",
       "        text-align: right;\n",
       "    }\n",
       "</style>\n",
       "<table border=\"1\" class=\"dataframe\">\n",
       "  <thead>\n",
       "    <tr style=\"text-align: right;\">\n",
       "      <th></th>\n",
       "      <th>filename</th>\n",
       "      <th>start</th>\n",
       "      <th>end</th>\n",
       "      <th>text_lang</th>\n",
       "      <th>text</th>\n",
       "      <th>label_bin</th>\n",
       "      <th>labels_multi</th>\n",
       "      <th>identifier</th>\n",
       "      <th>technique_id</th>\n",
       "      <th>raw_result</th>\n",
       "      <th>Description</th>\n",
       "      <th>Verdict</th>\n",
       "      <th>pred</th>\n",
       "      <th>gold</th>\n",
       "      <th>source_file</th>\n",
       "    </tr>\n",
       "  </thead>\n",
       "  <tbody>\n",
       "    <tr>\n",
       "      <th>0</th>\n",
       "      <td>RU_discrediting_the_west_1.txt</td>\n",
       "      <td>1635</td>\n",
       "      <td>1834</td>\n",
       "      <td>RU</td>\n",
       "      <td>Человека превратят в суррогат.\\nА суррогату не...</td>\n",
       "      <td>True</td>\n",
       "      <td>[Consequential_Oversimplification]</td>\n",
       "      <td>ModelName.LLAMA_31_8B-justification/Appeal_to_...</td>\n",
       "      <td>Appeal_to_Values</td>\n",
       "      <td>[{\\n    \"Description\": \"Appeal to Values techn...</td>\n",
       "      <td>[Appeal to Values technique was used by refere...</td>\n",
       "      <td>[True, True, True, True, True]</td>\n",
       "      <td>True</td>\n",
       "      <td>False</td>\n",
       "      <td>data/llm_output/persuasion/detect/ModelName.LL...</td>\n",
       "    </tr>\n",
       "    <tr>\n",
       "      <th>1</th>\n",
       "      <td>RU_discrediting_the_west_1.txt</td>\n",
       "      <td>1836</td>\n",
       "      <td>2138</td>\n",
       "      <td>RU</td>\n",
       "      <td>Нам очень важно спасти людей от этого, уберечь...</td>\n",
       "      <td>True</td>\n",
       "      <td>[Appeal_to_Values]</td>\n",
       "      <td>ModelName.LLAMA_31_8B-justification/Appeal_to_...</td>\n",
       "      <td>Appeal_to_Values</td>\n",
       "      <td>[{\\n  \"Description\": \"Appeal to Values techniq...</td>\n",
       "      <td>[Appeal to Values technique was used by evokin...</td>\n",
       "      <td>[True, True, True, True, True]</td>\n",
       "      <td>True</td>\n",
       "      <td>True</td>\n",
       "      <td>data/llm_output/persuasion/detect/ModelName.LL...</td>\n",
       "    </tr>\n",
       "    <tr>\n",
       "      <th>2</th>\n",
       "      <td>RU_discrediting_the_west_1.txt</td>\n",
       "      <td>2140</td>\n",
       "      <td>2176</td>\n",
       "      <td>RU</td>\n",
       "      <td>Человек должен оставаться человеком.</td>\n",
       "      <td>True</td>\n",
       "      <td>[Conversation_Killer]</td>\n",
       "      <td>ModelName.LLAMA_31_8B-justification/Appeal_to_...</td>\n",
       "      <td>Appeal_to_Values</td>\n",
       "      <td>[{\\n  \"Description\": \"This phrase appeals to t...</td>\n",
       "      <td>[This phrase appeals to the value of humanity ...</td>\n",
       "      <td>[True, True, True, False, True]</td>\n",
       "      <td>True</td>\n",
       "      <td>False</td>\n",
       "      <td>data/llm_output/persuasion/detect/ModelName.LL...</td>\n",
       "    </tr>\n",
       "  </tbody>\n",
       "</table>\n",
       "</div>"
      ],
      "text/plain": [
       "                         filename  start   end text_lang  \\\n",
       "0  RU_discrediting_the_west_1.txt   1635  1834        RU   \n",
       "1  RU_discrediting_the_west_1.txt   1836  2138        RU   \n",
       "2  RU_discrediting_the_west_1.txt   2140  2176        RU   \n",
       "\n",
       "                                                text  label_bin  \\\n",
       "0  Человека превратят в суррогат.\\nА суррогату не...       True   \n",
       "1  Нам очень важно спасти людей от этого, уберечь...       True   \n",
       "2               Человек должен оставаться человеком.       True   \n",
       "\n",
       "                         labels_multi  \\\n",
       "0  [Consequential_Oversimplification]   \n",
       "1                  [Appeal_to_Values]   \n",
       "2               [Conversation_Killer]   \n",
       "\n",
       "                                          identifier      technique_id  \\\n",
       "0  ModelName.LLAMA_31_8B-justification/Appeal_to_...  Appeal_to_Values   \n",
       "1  ModelName.LLAMA_31_8B-justification/Appeal_to_...  Appeal_to_Values   \n",
       "2  ModelName.LLAMA_31_8B-justification/Appeal_to_...  Appeal_to_Values   \n",
       "\n",
       "                                          raw_result  \\\n",
       "0  [{\\n    \"Description\": \"Appeal to Values techn...   \n",
       "1  [{\\n  \"Description\": \"Appeal to Values techniq...   \n",
       "2  [{\\n  \"Description\": \"This phrase appeals to t...   \n",
       "\n",
       "                                         Description  \\\n",
       "0  [Appeal to Values technique was used by refere...   \n",
       "1  [Appeal to Values technique was used by evokin...   \n",
       "2  [This phrase appeals to the value of humanity ...   \n",
       "\n",
       "                           Verdict  pred   gold  \\\n",
       "0   [True, True, True, True, True]  True  False   \n",
       "1   [True, True, True, True, True]  True   True   \n",
       "2  [True, True, True, False, True]  True  False   \n",
       "\n",
       "                                         source_file  \n",
       "0  data/llm_output/persuasion/detect/ModelName.LL...  \n",
       "1  data/llm_output/persuasion/detect/ModelName.LL...  \n",
       "2  data/llm_output/persuasion/detect/ModelName.LL...  "
      ]
     },
     "execution_count": 4,
     "metadata": {},
     "output_type": "execute_result"
    }
   ],
   "source": [
    "df.head(3)"
   ]
  },
  {
   "cell_type": "code",
   "execution_count": 7,
   "id": "228d066e",
   "metadata": {},
   "outputs": [
    {
     "name": "stdout",
     "output_type": "stream",
     "text": [
      "       technique_id text_lang  accuracy    recall        f1  support\n",
      "0  Appeal_to_Values        RU  0.580000  0.857143  0.363636      100\n",
      "1  Appeal_to_Values        BG  0.621429  1.000000  0.036364      140\n",
      "2  Appeal_to_Values        PL  0.707143  1.000000  0.549451      140\n",
      "3  Appeal_to_Values        SI  0.500000  0.500000  0.500000        8\n"
     ]
    }
   ],
   "source": [
    "from sklearn.metrics import accuracy_score, recall_score, f1_score\n",
    "# Define a function to compute metrics for a group\n",
    "# Assume df has columns: technique_id, text_lang, gold, pred\n",
    "rows = []\n",
    "for technique_id in df['technique_id'].unique():\n",
    "    for text_lang in df.loc[df['technique_id'] == technique_id, 'text_lang'].unique():\n",
    "        group = df[(df['technique_id'] == technique_id) & (df['text_lang'] == text_lang)]\n",
    "        \n",
    "        row = {\n",
    "            'technique_id': technique_id,\n",
    "            'text_lang': text_lang,\n",
    "            'accuracy': accuracy_score(group['gold'], group['pred']),\n",
    "            'recall': recall_score(group['gold'], group['pred'], zero_division=0),\n",
    "            'f1': f1_score(group['gold'], group['pred'], zero_division=0),\n",
    "            'support': len(group)  # ✅ count of examples\n",
    "        }\n",
    "        rows.append(row)\n",
    "\n",
    "results = pd.DataFrame(rows)\n",
    "print(results)"
   ]
  },
  {
   "cell_type": "markdown",
   "id": "4986bc32",
   "metadata": {},
   "source": [
    "# total"
   ]
  },
  {
   "cell_type": "code",
   "execution_count": 6,
   "id": "3090eea2",
   "metadata": {},
   "outputs": [
    {
     "name": "stdout",
     "output_type": "stream",
     "text": [
      "Accuracy: 0.639\n",
      "Recall: 0.909\n",
      "F1-score: 0.364\n"
     ]
    }
   ],
   "source": [
    "\n",
    "\n",
    "# Metrics\n",
    "acc = accuracy_score(df['gold'], df['pred'])\n",
    "recall = recall_score(df['gold'], df['pred'], average='binary')\n",
    "f1 = f1_score(df['gold'], df['pred'], average='binary')\n",
    "\n",
    "print(f\"Accuracy: {acc:.3f}\")\n",
    "print(f\"Recall: {recall:.3f}\")\n",
    "print(f\"F1-score: {f1:.3f}\")"
   ]
  }
 ],
 "metadata": {
  "kernelspec": {
   "display_name": "Python (MS FactUE)",
   "language": "python",
   "name": "factue"
  },
  "language_info": {
   "codemirror_mode": {
    "name": "ipython",
    "version": 3
   },
   "file_extension": ".py",
   "mimetype": "text/x-python",
   "name": "python",
   "nbconvert_exporter": "python",
   "pygments_lexer": "ipython3",
   "version": "3.11.8"
  }
 },
 "nbformat": 4,
 "nbformat_minor": 5
}
