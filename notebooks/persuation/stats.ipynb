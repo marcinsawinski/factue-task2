{
 "cells": [
  {
   "cell_type": "code",
   "execution_count": 2,
   "id": "bc303d0a",
   "metadata": {},
   "outputs": [],
   "source": [
    "wd = '/mnt/openfact/users/msawinski/factue-task2'\n",
    "import sys, os\n",
    "os.chdir(wd)"
   ]
  },
  {
   "cell_type": "code",
   "execution_count": 5,
   "id": "babd803f",
   "metadata": {},
   "outputs": [],
   "source": [
    "import pandas as pd\n",
    "from pathlib import Path\n",
    "import os\n",
    "root = Path(\"data/llm_output/persuasion\")\n",
    "# Example path template\n",
    "files = root.rglob(\"*/*.parquet\")\n",
    "\n",
    "# Read all files and add file path as a column\n",
    "df_list = []\n",
    "for f in files:\n",
    "    df_part = pd.read_parquet(f)\n",
    "    df_part['source_file'] = f  # add the file path\n",
    "    df_list.append(df_part)\n",
    "\n",
    "# Combine into one DataFrame\n",
    "df = pd.concat(df_list, ignore_index=True)"
   ]
  },
  {
   "cell_type": "code",
   "execution_count": 7,
   "id": "c3da0615",
   "metadata": {},
   "outputs": [
    {
     "data": {
      "text/plain": [
       "source_file\n",
       "data/llm_output/persuasion/detect/ModelName.LLAMA_31_8B-justification/Appeal_to_Values_v001/train/train-pl/batch_0000.parquet    20\n",
       "data/llm_output/persuasion/detect/ModelName.LLAMA_31_8B-justification/Appeal_to_Values_v001/train/train-pl/batch_0001.parquet    20\n",
       "data/llm_output/persuasion/detect/ModelName.LLAMA_31_8B-justification/Appeal_to_Values_v001/train/train-pl/batch_0002.parquet    20\n",
       "data/llm_output/persuasion/detect/ModelName.LLAMA_31_8B-justification/Appeal_to_Values_v001/train/train-pl/batch_0003.parquet    20\n",
       "data/llm_output/persuasion/detect/ModelName.LLAMA_31_8B-justification/Appeal_to_Values_v001/train/train-pl/batch_0004.parquet    20\n",
       "data/llm_output/persuasion/detect/ModelName.LLAMA_31_8B-justification/Appeal_to_Values_v001/train/train-pl/batch_0005.parquet    20\n",
       "data/llm_output/persuasion/detect/ModelName.LLAMA_31_8B-justification/Appeal_to_Values_v001/train/train-pl/batch_0006.parquet    20\n",
       "data/llm_output/persuasion/detect/ModelName.LLAMA_31_8B-justification/Appeal_to_Values_v001/train/train-pl/batch_0007.parquet    20\n",
       "data/llm_output/persuasion/detect/ModelName.LLAMA_31_8B-justification/Appeal_to_Values_v001/train/train-pl/batch_0008.parquet    20\n",
       "data/llm_output/persuasion/detect/ModelName.LLAMA_31_8B-justification/Appeal_to_Values_v001/train/train-pl/batch_0009.parquet    20\n",
       "Name: count, dtype: int64"
      ]
     },
     "execution_count": 7,
     "metadata": {},
     "output_type": "execute_result"
    }
   ],
   "source": [
    "df['source_file'].value_counts().sort_index()"
   ]
  },
  {
   "cell_type": "code",
   "execution_count": 8,
   "id": "df0d0f92",
   "metadata": {},
   "outputs": [
    {
     "data": {
      "application/vnd.microsoft.datawrangler.viewer.v0+json": {
       "columns": [
        {
         "name": "index",
         "rawType": "int64",
         "type": "integer"
        },
        {
         "name": "filename",
         "rawType": "object",
         "type": "string"
        },
        {
         "name": "start",
         "rawType": "int64",
         "type": "integer"
        },
        {
         "name": "end",
         "rawType": "int64",
         "type": "integer"
        },
        {
         "name": "text_lang",
         "rawType": "object",
         "type": "string"
        },
        {
         "name": "text",
         "rawType": "object",
         "type": "string"
        },
        {
         "name": "label_bin",
         "rawType": "bool",
         "type": "boolean"
        },
        {
         "name": "labels_multi",
         "rawType": "object",
         "type": "unknown"
        },
        {
         "name": "identifier",
         "rawType": "object",
         "type": "string"
        },
        {
         "name": "technique_id",
         "rawType": "object",
         "type": "unknown"
        },
        {
         "name": "raw_result",
         "rawType": "object",
         "type": "unknown"
        },
        {
         "name": "Description",
         "rawType": "object",
         "type": "unknown"
        },
        {
         "name": "Verdict",
         "rawType": "object",
         "type": "unknown"
        },
        {
         "name": "pred",
         "rawType": "bool",
         "type": "boolean"
        },
        {
         "name": "gold",
         "rawType": "bool",
         "type": "boolean"
        },
        {
         "name": "source_file",
         "rawType": "object",
         "type": "unknown"
        }
       ],
       "conversionMethod": "pd.DataFrame",
       "ref": "5822ba45-9003-4b45-8092-99e772e785cf",
       "rows": [
        [
         "0",
         "pl_abortion_11_04_2024_n04.txt",
         "0",
         "95",
         "PL",
         "Wicemarszałek Włodzimierz Czarzasty:\nDziękuję.\nBardzo proszę panią posłankę Katarzynę Ueberhan.",
         "False",
         "[]",
         "ModelName.LLAMA_31_8B-justification/Appeal_to_Values_v001",
         null,
         "['{\\n  \"Description\": null,\\n  \"Verdict\": false\\n}'\n '{\\n  \"Description\": \"\",\\n  \"Verdict\": false\\n}']",
         "[None '']",
         "[False False]",
         "False",
         "False",
         "data/llm_output/persuasion/detect/ModelName.LLAMA_31_8B-justification/Appeal_to_Values_v001/train/train-pl/batch_0001.parquet"
        ],
        [
         "1",
         "pl_abortion_11_04_2024_n04.txt",
         "97",
         "861",
         "PL",
         "Poseł Katarzyna Ueberhan:\nSzanowny Panie Marszałku! Wysoka Izbo! Drogie\nKoleżanki, Siostry Aktywistki! Dziękuję, że jesteście\ndzisiaj z nami. Zakaz aborcji w Polsce nie działa.\nObowiązujący od ponad 30 lat fałszywy, zakłamany\nkompromis pozbawiający nas, Polki, naszych\npodstawowych praw, prawa do decydowania o sobie nie\ndziała. Aborcja była, jest i będzie. W Polsce jedna kobieta\nna trzy miała aborcję. Jedna na trzy. Jestem jedną\nz nich i myślę, że nie jestem tu dziś sama. Większość\nz tych aborcji to aborcje farmakologiczne wykonane\nwłaśnie takimi tabletkami. Może je dziś wykonać\nkażda kobieta, osoba w ciąży, sama we własnym\ndomu, każda, która tego potrzebuje, zamawiając\ntabletki przez Internet z Women Help Women czy z\nWomen on Web, tak jak zrobiłam to ja.",
         "True",
         "['Conversation_Killer' 'Exaggeration-Minimisation' 'Flag_Waving'\n 'Loaded_Language' 'Appeal_to_Popularity' 'Repetition']",
         "ModelName.LLAMA_31_8B-justification/Appeal_to_Values_v001",
         null,
         "['{\\n  \"Description\": \"Appeal to Values technique is used by evoking the idea of self-determination and women\\'s rights, stating that a woman has the right to decide about herself.\",\\n  \"Verdict\": true\\n}'\n '{\\n  \"Description\": \"Appeal to Values was used when the speaker mentioned \\'prawa do decydowania o sobie\\' (the right to decide about oneself), highlighting the importance of autonomy and self-determination in the context of reproductive rights.\",\\n  \"Verdict\": true\\n}'\n '{\\n  \"Description\": \"Appeal to Values was used when the speaker mentioned that the current law \\'pozbawia nas, Polki, naszych podstawowych praw\\' (takes away from us women our basic rights) and emphasized the importance of a woman\\'s right to decide about herself.\",\\n  \"Verdict\": true\\n}'\n '{\\n  \"Description\": \"Appeal to Values technique was not detected in the input.\",\\n  \"Verdict\": false\\n}'\n '{\\n  \"Description\": \"Appeal to Values was used by emphasizing the importance of women\\'s rights and self-determination in the context of abortion laws.\",\\n  \"Verdict\": true\\n}']",
         "[\"Appeal to Values technique is used by evoking the idea of self-determination and women's rights, stating that a woman has the right to decide about herself.\"\n \"Appeal to Values was used when the speaker mentioned 'prawa do decydowania o sobie' (the right to decide about oneself), highlighting the importance of autonomy and self-determination in the context of reproductive rights.\"\n \"Appeal to Values was used when the speaker mentioned that the current law 'pozbawia nas, Polki, naszych podstawowych praw' (takes away from us women our basic rights) and emphasized the importance of a woman's right to decide about herself.\"\n 'Appeal to Values technique was not detected in the input.'\n \"Appeal to Values was used by emphasizing the importance of women's rights and self-determination in the context of abortion laws.\"]",
         "[ True  True  True False  True]",
         "True",
         "False",
         "data/llm_output/persuasion/detect/ModelName.LLAMA_31_8B-justification/Appeal_to_Values_v001/train/train-pl/batch_0001.parquet"
        ],
        [
         "2",
         "pl_abortion_11_04_2024_n04.txt",
         "863",
         "1318",
         "PL",
         "Aborcję farmakologiczną można zastosować\nzaraz po stwierdzeniu ciąży, a więc już w pierwszych\ntygodniach jej trwania. Dzięki dostępności aborcji\nfarmakologicznej można wcześniej, a tym samym\nbezpieczniej przerwać ciążę. Miliony osób na świecie\nprzeprowadzają aborcję we wczesnym stadium ciąży\ni nie zaobserwowano u nich żadnych długoterminowych\nnegatywnych skutków dla ich zdrowia. Zakaz\naborcji w Polsce nie działa, a takie osoby jak ja są na to dowodem.",
         "True",
         "['Conversation_Killer' 'Consequential_Oversimplification'\n 'Appeal_to_Popularity' 'Repetition']",
         "ModelName.LLAMA_31_8B-justification/Appeal_to_Values_v001",
         null,
         "['{\\n  \"Description\": \"Appeal to Values technique was used by mentioning the safety and health benefits of abortion in early stages of pregnancy, emphasizing that millions of people worldwide have undergone it without negative long-term consequences.\",\\n  \"Verdict\": true\\n}'\n '{\\n  \"Description\": \"The text appeals to values by emphasizing the convenience and safety of early abortion, citing the example of millions of people worldwide who have done so without negative health consequences.\",\\n  \"Verdict\": true\\n}'\n '{\\n  \"Description\": \"Appeal to Values: The speaker appeals to the value of safety and autonomy by highlighting the availability and safety of medical abortion in early stages of pregnancy.\",\\n  \"Verdict\": true\\n}'\n '{\\n  \"Description\": \"Appeal to Values: The text appeals to the value of safety and health by referencing \\'bezpieczniej\\' (safer) and \\'nie zaobserwowano u nich żadnych długoterminowych negatywnych skutków dla ich zdrowia\\' (no long-term negative effects on their health). Additionally, it appeals to the value of autonomy and personal choice by citing examples of people from around the world who have safely had abortions.\",\\n  \"Verdict\": true\\n}'\n '{\\n  \"Description\": \"The Appeal to Values technique is used by highlighting the value of safety and freedom in making reproductive choices. The text emphasizes that having access to abortion pills allows for a safer termination of pregnancy.\",\\n  \"Verdict\": true\\n}']",
         "['Appeal to Values technique was used by mentioning the safety and health benefits of abortion in early stages of pregnancy, emphasizing that millions of people worldwide have undergone it without negative long-term consequences.'\n 'The text appeals to values by emphasizing the convenience and safety of early abortion, citing the example of millions of people worldwide who have done so without negative health consequences.'\n 'Appeal to Values: The speaker appeals to the value of safety and autonomy by highlighting the availability and safety of medical abortion in early stages of pregnancy.'\n \"Appeal to Values: The text appeals to the value of safety and health by referencing 'bezpieczniej' (safer) and 'nie zaobserwowano u nich żadnych długoterminowych negatywnych skutków dla ich zdrowia' (no long-term negative effects on their health). Additionally, it appeals to the value of autonomy and personal choice by citing examples of people from around the world who have safely had abortions.\"\n 'The Appeal to Values technique is used by highlighting the value of safety and freedom in making reproductive choices. The text emphasizes that having access to abortion pills allows for a safer termination of pregnancy.']",
         "[ True  True  True  True  True]",
         "True",
         "False",
         "data/llm_output/persuasion/detect/ModelName.LLAMA_31_8B-justification/Appeal_to_Values_v001/train/train-pl/batch_0001.parquet"
        ]
       ],
       "shape": {
        "columns": 15,
        "rows": 3
       }
      },
      "text/html": [
       "<div>\n",
       "<style scoped>\n",
       "    .dataframe tbody tr th:only-of-type {\n",
       "        vertical-align: middle;\n",
       "    }\n",
       "\n",
       "    .dataframe tbody tr th {\n",
       "        vertical-align: top;\n",
       "    }\n",
       "\n",
       "    .dataframe thead th {\n",
       "        text-align: right;\n",
       "    }\n",
       "</style>\n",
       "<table border=\"1\" class=\"dataframe\">\n",
       "  <thead>\n",
       "    <tr style=\"text-align: right;\">\n",
       "      <th></th>\n",
       "      <th>filename</th>\n",
       "      <th>start</th>\n",
       "      <th>end</th>\n",
       "      <th>text_lang</th>\n",
       "      <th>text</th>\n",
       "      <th>label_bin</th>\n",
       "      <th>labels_multi</th>\n",
       "      <th>identifier</th>\n",
       "      <th>technique_id</th>\n",
       "      <th>raw_result</th>\n",
       "      <th>Description</th>\n",
       "      <th>Verdict</th>\n",
       "      <th>pred</th>\n",
       "      <th>gold</th>\n",
       "      <th>source_file</th>\n",
       "    </tr>\n",
       "  </thead>\n",
       "  <tbody>\n",
       "    <tr>\n",
       "      <th>0</th>\n",
       "      <td>pl_abortion_11_04_2024_n04.txt</td>\n",
       "      <td>0</td>\n",
       "      <td>95</td>\n",
       "      <td>PL</td>\n",
       "      <td>Wicemarszałek Włodzimierz Czarzasty:\\nDziękuję...</td>\n",
       "      <td>False</td>\n",
       "      <td>[]</td>\n",
       "      <td>ModelName.LLAMA_31_8B-justification/Appeal_to_...</td>\n",
       "      <td>None</td>\n",
       "      <td>[{\\n  \"Description\": null,\\n  \"Verdict\": false...</td>\n",
       "      <td>[None, ]</td>\n",
       "      <td>[False, False]</td>\n",
       "      <td>False</td>\n",
       "      <td>False</td>\n",
       "      <td>data/llm_output/persuasion/detect/ModelName.LL...</td>\n",
       "    </tr>\n",
       "    <tr>\n",
       "      <th>1</th>\n",
       "      <td>pl_abortion_11_04_2024_n04.txt</td>\n",
       "      <td>97</td>\n",
       "      <td>861</td>\n",
       "      <td>PL</td>\n",
       "      <td>Poseł Katarzyna Ueberhan:\\nSzanowny Panie Mars...</td>\n",
       "      <td>True</td>\n",
       "      <td>[Conversation_Killer, Exaggeration-Minimisatio...</td>\n",
       "      <td>ModelName.LLAMA_31_8B-justification/Appeal_to_...</td>\n",
       "      <td>None</td>\n",
       "      <td>[{\\n  \"Description\": \"Appeal to Values techniq...</td>\n",
       "      <td>[Appeal to Values technique is used by evoking...</td>\n",
       "      <td>[True, True, True, False, True]</td>\n",
       "      <td>True</td>\n",
       "      <td>False</td>\n",
       "      <td>data/llm_output/persuasion/detect/ModelName.LL...</td>\n",
       "    </tr>\n",
       "    <tr>\n",
       "      <th>2</th>\n",
       "      <td>pl_abortion_11_04_2024_n04.txt</td>\n",
       "      <td>863</td>\n",
       "      <td>1318</td>\n",
       "      <td>PL</td>\n",
       "      <td>Aborcję farmakologiczną można zastosować\\nzara...</td>\n",
       "      <td>True</td>\n",
       "      <td>[Conversation_Killer, Consequential_Oversimpli...</td>\n",
       "      <td>ModelName.LLAMA_31_8B-justification/Appeal_to_...</td>\n",
       "      <td>None</td>\n",
       "      <td>[{\\n  \"Description\": \"Appeal to Values techniq...</td>\n",
       "      <td>[Appeal to Values technique was used by mentio...</td>\n",
       "      <td>[True, True, True, True, True]</td>\n",
       "      <td>True</td>\n",
       "      <td>False</td>\n",
       "      <td>data/llm_output/persuasion/detect/ModelName.LL...</td>\n",
       "    </tr>\n",
       "  </tbody>\n",
       "</table>\n",
       "</div>"
      ],
      "text/plain": [
       "                         filename  start   end text_lang  \\\n",
       "0  pl_abortion_11_04_2024_n04.txt      0    95        PL   \n",
       "1  pl_abortion_11_04_2024_n04.txt     97   861        PL   \n",
       "2  pl_abortion_11_04_2024_n04.txt    863  1318        PL   \n",
       "\n",
       "                                                text  label_bin  \\\n",
       "0  Wicemarszałek Włodzimierz Czarzasty:\\nDziękuję...      False   \n",
       "1  Poseł Katarzyna Ueberhan:\\nSzanowny Panie Mars...       True   \n",
       "2  Aborcję farmakologiczną można zastosować\\nzara...       True   \n",
       "\n",
       "                                        labels_multi  \\\n",
       "0                                                 []   \n",
       "1  [Conversation_Killer, Exaggeration-Minimisatio...   \n",
       "2  [Conversation_Killer, Consequential_Oversimpli...   \n",
       "\n",
       "                                          identifier technique_id  \\\n",
       "0  ModelName.LLAMA_31_8B-justification/Appeal_to_...         None   \n",
       "1  ModelName.LLAMA_31_8B-justification/Appeal_to_...         None   \n",
       "2  ModelName.LLAMA_31_8B-justification/Appeal_to_...         None   \n",
       "\n",
       "                                          raw_result  \\\n",
       "0  [{\\n  \"Description\": null,\\n  \"Verdict\": false...   \n",
       "1  [{\\n  \"Description\": \"Appeal to Values techniq...   \n",
       "2  [{\\n  \"Description\": \"Appeal to Values techniq...   \n",
       "\n",
       "                                         Description  \\\n",
       "0                                           [None, ]   \n",
       "1  [Appeal to Values technique is used by evoking...   \n",
       "2  [Appeal to Values technique was used by mentio...   \n",
       "\n",
       "                           Verdict   pred   gold  \\\n",
       "0                   [False, False]  False  False   \n",
       "1  [True, True, True, False, True]   True  False   \n",
       "2   [True, True, True, True, True]   True  False   \n",
       "\n",
       "                                         source_file  \n",
       "0  data/llm_output/persuasion/detect/ModelName.LL...  \n",
       "1  data/llm_output/persuasion/detect/ModelName.LL...  \n",
       "2  data/llm_output/persuasion/detect/ModelName.LL...  "
      ]
     },
     "execution_count": 8,
     "metadata": {},
     "output_type": "execute_result"
    }
   ],
   "source": [
    "df.head(3)"
   ]
  },
  {
   "cell_type": "code",
   "execution_count": 10,
   "id": "3090eea2",
   "metadata": {},
   "outputs": [
    {
     "name": "stdout",
     "output_type": "stream",
     "text": [
      "Accuracy: 0.685\n",
      "Recall: 0.957\n",
      "F1-score: 0.583\n"
     ]
    }
   ],
   "source": [
    "from sklearn.metrics import accuracy_score, recall_score, f1_score\n",
    "\n",
    "# Metrics\n",
    "acc = accuracy_score(df['gold'], df['pred'])\n",
    "recall = recall_score(df['gold'], df['pred'], average='binary')\n",
    "f1 = f1_score(df['gold'], df['pred'], average='binary')\n",
    "\n",
    "print(f\"Accuracy: {acc:.3f}\")\n",
    "print(f\"Recall: {recall:.3f}\")\n",
    "print(f\"F1-score: {f1:.3f}\")"
   ]
  }
 ],
 "metadata": {
  "kernelspec": {
   "display_name": "Python (MS FactUE)",
   "language": "python",
   "name": "factue"
  },
  "language_info": {
   "codemirror_mode": {
    "name": "ipython",
    "version": 3
   },
   "file_extension": ".py",
   "mimetype": "text/x-python",
   "name": "python",
   "nbconvert_exporter": "python",
   "pygments_lexer": "ipython3",
   "version": "3.11.8"
  }
 },
 "nbformat": 4,
 "nbformat_minor": 5
}
