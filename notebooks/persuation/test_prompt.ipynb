{
 "cells": [
  {
   "cell_type": "code",
   "execution_count": 1,
   "id": "f6977cc3",
   "metadata": {},
   "outputs": [],
   "source": [
    "wd = '/Users/marcinsawinski/Documents/GitHub/factue-task2'\n",
    "import sys, os\n",
    "os.chdir(wd)"
   ]
  },
  {
   "cell_type": "code",
   "execution_count": 3,
   "id": "04a4cb66",
   "metadata": {},
   "outputs": [],
   "source": [
    "from factue.methods.llm_calls import load_template_parts"
   ]
  },
  {
   "cell_type": "code",
   "execution_count": 4,
   "id": "1c3ff350",
   "metadata": {},
   "outputs": [],
   "source": [
    "job = \"persuasion\"\n",
    "step = \"detect\"\n",
    "prompt_id = \"manipulative/Loaded_Language_v001.yaml\"\n",
    "\n",
    "template_parts = load_template_parts(job, step, prompt_id)"
   ]
  },
  {
   "cell_type": "code",
   "execution_count": null,
   "id": "08ad8fa4",
   "metadata": {},
   "outputs": [],
   "source": [
    "messages = []\n"
   ]
  },
  {
   "cell_type": "code",
   "execution_count": null,
   "id": "c8148ae3",
   "metadata": {},
   "outputs": [],
   "source": [
    "{\n",
    "  \"Description\": \"The phrase 'feeding these people with trash' uses strong negative emotional language to provoke disgust or anger in the audience. This is a clear use of Loaded Language, as it frames the situation in a way that is meant to emotionally charge the listener rather than rely on neutral or factual language.\",\n",
    "  \"Verdict\": true\n",
    "}"
   ]
  }
 ],
 "metadata": {
  "kernelspec": {
   "display_name": ".venv",
   "language": "python",
   "name": "python3"
  },
  "language_info": {
   "codemirror_mode": {
    "name": "ipython",
    "version": 3
   },
   "file_extension": ".py",
   "mimetype": "text/x-python",
   "name": "python",
   "nbconvert_exporter": "python",
   "pygments_lexer": "ipython3",
   "version": "3.12.9"
  }
 },
 "nbformat": 4,
 "nbformat_minor": 5
}
