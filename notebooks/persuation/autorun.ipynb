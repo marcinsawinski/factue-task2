{
 "cells": [
  {
   "cell_type": "code",
   "execution_count": 1,
   "id": "b7731f9c",
   "metadata": {},
   "outputs": [],
   "source": [
    "wd = '/Users/marcinsawinski/Documents/GitHub/factue-task2'\n",
    "import sys, os\n",
    "os.chdir(wd)"
   ]
  },
  {
   "cell_type": "code",
   "execution_count": 4,
   "id": "ba58e290",
   "metadata": {},
   "outputs": [
    {
     "name": "stdout",
     "output_type": "stream",
     "text": [
      "attack/Questioning_the_Reputation_v001.yaml\n",
      "attack/Doubt_v001.yaml\n",
      "justification/Appeal_to_Values_v001.yaml\n",
      "manipulative/Loaded_Language_v001.yaml\n"
     ]
    }
   ],
   "source": [
    "from pathlib import Path\n",
    "\n",
    "base_path = Path(\"prompts/persuasion/detect\")\n",
    "yaml_files = list(base_path.rglob(\"*.yaml\"))\n",
    "\n",
    "for file in yaml_files:\n",
    "    prompt_id = str(file.relative_to(base_path))\n",
    "    print(prompt_id)"
   ]
  }
 ],
 "metadata": {
  "kernelspec": {
   "display_name": ".venv",
   "language": "python",
   "name": "python3"
  },
  "language_info": {
   "codemirror_mode": {
    "name": "ipython",
    "version": 3
   },
   "file_extension": ".py",
   "mimetype": "text/x-python",
   "name": "python",
   "nbconvert_exporter": "python",
   "pygments_lexer": "ipython3",
   "version": "3.12.9"
  }
 },
 "nbformat": 4,
 "nbformat_minor": 5
}
