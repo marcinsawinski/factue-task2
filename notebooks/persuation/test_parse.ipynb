{
 "cells": [
  {
   "cell_type": "code",
   "execution_count": 27,
   "id": "f6977cc3",
   "metadata": {},
   "outputs": [
    {
     "name": "stdout",
     "output_type": "stream",
     "text": [
      "The autoreload extension is already loaded. To reload it, use:\n",
      "  %reload_ext autoreload\n"
     ]
    }
   ],
   "source": [
    "%load_ext autoreload\n",
    "%autoreload 2\n",
    "# wd = '/Users/marcinsawinski/Documents/GitHub/factue-task2'\n",
    "wd = '/mnt/openfact/users/msawinski/factue-task2'\n",
    "import sys, os\n",
    "os.chdir(wd)\n",
    "from factue.methods.llm_calls import make_call, load_template_parts, load_template_list\n",
    "from factue.methods.llm_langchain.llm import Llm\n",
    "from factue.utils.types import ModelMode, ModelProvider, ModelName, Job\n",
    "from factue.utils.parsers import extract_json_from_payload\n",
    "import pandas as pd"
   ]
  },
  {
   "cell_type": "code",
   "execution_count": 34,
   "id": "db783eb1",
   "metadata": {},
   "outputs": [
    {
     "name": "stdout",
     "output_type": "stream",
     "text": [
      "\"Name_Calling-Labeling\"\n",
      "\"Doubt\"\n",
      "\"Questioning_the_Reputation\"\n",
      "\"Appeal_to_Fear-Prejudice\"\n",
      "\"Appeal_to_Values\"\n",
      "\"Exaggeration-Minimisation\"\n",
      "\"Loaded_Language\"\n",
      "\"Repetition\"\n",
      "\"new\"\n"
     ]
    }
   ],
   "source": [
    "for x in load_template_list(job='persuasion', step=\"detect\", prompt_version='v001').keys():\n",
    "    print(f'\"{x}\"')"
   ]
  },
  {
   "cell_type": "code",
   "execution_count": 2,
   "id": "b1dd3b1d",
   "metadata": {},
   "outputs": [
    {
     "name": "stdout",
     "output_type": "stream",
     "text": [
      "seed:  -1\n"
     ]
    }
   ],
   "source": [
    "llm_params = {\n",
    "            \"model_name\": ModelName.LLAMA_32_3B,\n",
    "            \"model_provider\": ModelProvider.OLLAMA,\n",
    "            \"model_mode\": ModelMode.CHAT,\n",
    "            \"seed\": -1,\n",
    "        }\n",
    "llm = Llm(**llm_params)"
   ]
  },
  {
   "cell_type": "code",
   "execution_count": 3,
   "id": "38c59404",
   "metadata": {},
   "outputs": [
    {
     "data": {
      "application/vnd.microsoft.datawrangler.viewer.v0+json": {
       "columns": [
        {
         "name": "index",
         "rawType": "int64",
         "type": "integer"
        },
        {
         "name": "txt",
         "rawType": "object",
         "type": "string"
        }
       ],
       "conversionMethod": "pd.DataFrame",
       "ref": "b5e93d5d-1add-4ab5-9c47-d1751c3a45d3",
       "rows": [
        [
         "0",
         "Poseł Anna Gembicka:\nBardzo dziękuję.\nPanie Marszałku! Wysoka Izbo! Pani Minister!\nPrzypomnę pani kilka faktów, bo widzę, że faktycznie w wielu obszarach jest pani zielona.\n"
        ],
        [
         "1",
         "Poseł Anna Gembicka:\nBardzo dziękuję.\nPanie Marszałku! Wysoka Izbo! Pani Minister!\nPrzypomnę pani kilka faktów, bo widzę, że faktycznie w wielu obszarach jest pani zielona.\n"
        ]
       ],
       "shape": {
        "columns": 1,
        "rows": 2
       }
      },
      "text/html": [
       "<div>\n",
       "<style scoped>\n",
       "    .dataframe tbody tr th:only-of-type {\n",
       "        vertical-align: middle;\n",
       "    }\n",
       "\n",
       "    .dataframe tbody tr th {\n",
       "        vertical-align: top;\n",
       "    }\n",
       "\n",
       "    .dataframe thead th {\n",
       "        text-align: right;\n",
       "    }\n",
       "</style>\n",
       "<table border=\"1\" class=\"dataframe\">\n",
       "  <thead>\n",
       "    <tr style=\"text-align: right;\">\n",
       "      <th></th>\n",
       "      <th>txt</th>\n",
       "    </tr>\n",
       "  </thead>\n",
       "  <tbody>\n",
       "    <tr>\n",
       "      <th>0</th>\n",
       "      <td>Poseł Anna Gembicka:\\nBardzo dziękuję.\\nPanie ...</td>\n",
       "    </tr>\n",
       "    <tr>\n",
       "      <th>1</th>\n",
       "      <td>Poseł Anna Gembicka:\\nBardzo dziękuję.\\nPanie ...</td>\n",
       "    </tr>\n",
       "  </tbody>\n",
       "</table>\n",
       "</div>"
      ],
      "text/plain": [
       "                                                 txt\n",
       "0  Poseł Anna Gembicka:\\nBardzo dziękuję.\\nPanie ...\n",
       "1  Poseł Anna Gembicka:\\nBardzo dziękuję.\\nPanie ..."
      ]
     },
     "execution_count": 3,
     "metadata": {},
     "output_type": "execute_result"
    }
   ],
   "source": [
    "text = \"\"\"Poseł Anna Gembicka:\n",
    "Bardzo dziękuję.\n",
    "Panie Marszałku! Wysoka Izbo! Pani Minister!\n",
    "Przypomnę pani kilka faktów, bo widzę, że faktycznie w wielu obszarach jest pani zielona.\n",
    "\"\"\"\n",
    "df = pd.DataFrame({\n",
    "    'txt': [\n",
    "        text,\n",
    "        text\n",
    "    ]\n",
    "})\n",
    "df"
   ]
  },
  {
   "cell_type": "code",
   "execution_count": 21,
   "id": "40536a79",
   "metadata": {},
   "outputs": [
    {
     "name": "stderr",
     "output_type": "stream",
     "text": [
      "2025-05-06 18:19:24,407 [INFO] httpx: HTTP Request: POST http://0.0.0.0:5000/api/chat \"HTTP/1.1 200 OK\"\n",
      "2025-05-06 18:19:25,327 [INFO] factue.methods.llm_calls: True\n",
      "2025-05-06 18:19:25,408 [INFO] httpx: HTTP Request: POST http://0.0.0.0:5000/api/chat \"HTTP/1.1 200 OK\"\n",
      "2025-05-06 18:19:26,375 [INFO] factue.methods.llm_calls: True\n",
      "2025-05-06 18:19:26,431 [INFO] httpx: HTTP Request: POST http://0.0.0.0:5000/api/chat \"HTTP/1.1 200 OK\"\n",
      "2025-05-06 18:19:27,385 [INFO] factue.methods.llm_calls: True\n",
      "2025-05-06 18:19:27,457 [INFO] httpx: HTTP Request: POST http://0.0.0.0:5000/api/chat \"HTTP/1.1 200 OK\"\n",
      "2025-05-06 18:19:29,576 [INFO] factue.methods.llm_calls: False\n"
     ]
    },
    {
     "data": {
      "text/plain": [
       "[[{'raw': '{\"Description\": \"Technique used: Yes — Name Calling / Labeling is present. The use of titles (Panie Marszałku, Pani Minister) and honorifics (Wysoka Izbo) creates a formality and emphasizes the speaker\\'s position. Additionally, the phrase \\\\\"Pani zielona\\\\\" is an example of Name Calling - Labeling: it labels Anna Gembicka with a pejorative term that refers to her political views or affiliations, without providing any evidence or argumentation.\", \"Verdict\": true}',\n",
       "   'extra_properties': None,\n",
       "   'think_content': None,\n",
       "   'extra_content': None,\n",
       "   'illegal_value': {},\n",
       "   'is_valid': True,\n",
       "   'description': 'Technique used: Yes — Name Calling / Labeling is present. The use of titles (Panie Marszałku, Pani Minister) and honorifics (Wysoka Izbo) creates a formality and emphasizes the speaker\\'s position. Additionally, the phrase \"Pani zielona\" is an example of Name Calling - Labeling: it labels Anna Gembicka with a pejorative term that refers to her political views or affiliations, without providing any evidence or argumentation.',\n",
       "   'verdict': True},\n",
       "  {'raw': '```\\n{\"Description\": \"Technique used: Yes — Name Calling / Labeling is present. The use of titles such as Panie Marszałku (Mr. President) and Pani Minister (Ms. Minister) are loaded labels that create a formal, yet condescending tone. The phrase \\'Pani zielona\\' (Ms. Green) can be interpreted as a pejorative label, implying that the speaker is biased or one-sided in their view of the facts. This labeling reduces the subject to a hostile identity and shapes perception without argument.\",\\n \"Verdict\": true}\\n```',\n",
       "   'extra_properties': None,\n",
       "   'think_content': None,\n",
       "   'extra_content': None,\n",
       "   'illegal_value': {},\n",
       "   'is_valid': True,\n",
       "   'description': \"Technique used: Yes — Name Calling / Labeling is present. The use of titles such as Panie Marszałku (Mr. President) and Pani Minister (Ms. Minister) are loaded labels that create a formal, yet condescending tone. The phrase 'Pani zielona' (Ms. Green) can be interpreted as a pejorative label, implying that the speaker is biased or one-sided in their view of the facts. This labeling reduces the subject to a hostile identity and shapes perception without argument.\",\n",
       "   'verdict': True}],\n",
       " [{'raw': '{\"Description\": \"Technique used: Yes — Name Calling / Labeling is present. The use of titles such as \\\\\"Panie Marszałku!\\\\\" and \\\\\"Pani Minister!\\\\\" followed by the term \\\\\"zielona\\\\\" (which means green in Polish) is a form of Name Calling - Labeling. The word \\\\\"zielona\\\\\" is loaded with negative connotations, implying that someone is naive or inexperienced, often used to mock or belittle others. This is manipulative wording aimed at provoking emotional judgment and shaping perception without argument.\",\\n \"Verdict\": true}',\n",
       "   'extra_properties': None,\n",
       "   'think_content': None,\n",
       "   'extra_content': None,\n",
       "   'illegal_value': {},\n",
       "   'is_valid': True,\n",
       "   'description': 'Technique used: Yes — Name Calling / Labeling is present. The use of titles such as \"Panie Marszałku!\" and \"Pani Minister!\" followed by the term \"zielona\" (which means green in Polish) is a form of Name Calling - Labeling. The word \"zielona\" is loaded with negative connotations, implying that someone is naive or inexperienced, often used to mock or belittle others. This is manipulative wording aimed at provoking emotional judgment and shaping perception without argument.',\n",
       "   'verdict': True},\n",
       "  {'raw': '```\\n{\"Description\": \"Technique used: Yes — Name Calling / Labeling is present. The phrases  \\\\\\\\\\\\&quot;Panie Marszałku!\\\\\\\\\\\\\\'\\\\\\\\\\\\&quot;, \\\\\\\\\\\\\\\\&quot;Wysoka Izbo!\\\\\\\\\\\\\\'\\\\\\\\\\\\&quot;, i \\\\\\\\\\\\\\\\&quot;Pani Minister!\\\\\\\\\\\\\\'\\\\\\\\\\\\&quot; nazywają posła Anna Gembicki w sposób tytułowy, nadając mu tytuły, które są wyższe niż jego godność. Te tytuły redukują go do poziomu nieswoistej władzy oraz ustanawiają napięcie. Przykład ten ilustruje Name Calling / Labeling technique: nazywając personifiku posła tytułami godności, autor zastosowa\\\\u0142 \\\\\\\\\\\\&quot;etyki\\\\\\\\\\\\&quot;etycznej nazwy i redukuje go do postaci nieswoistej władzy. To jest na przyk\\\\u0142d manipulacyjne użycie j\\\\u0119zyka, niepełne argumentacji z prezentacją dowod\\\\u015b\\\\&quot;, \\n \"Verdict\": true}\\n```',\n",
       "   'extra_properties': None,\n",
       "   'think_content': None,\n",
       "   'extra_content': None,\n",
       "   'illegal_value': {},\n",
       "   'is_valid': False,\n",
       "   'description': None,\n",
       "   'verdict': None}]]"
      ]
     },
     "execution_count": 21,
     "metadata": {},
     "output_type": "execute_result"
    }
   ],
   "source": [
    "schema = {\n",
    "    \"type\": \"object\",\n",
    "    \"properties\": {\n",
    "        \"Description\": {\"type\": \"string\"},\n",
    "        \"Verdict\": {\"type\": \"boolean\"}\n",
    "    },\n",
    "    \"required\": [\"Description\", \"Verdict\"],\n",
    "    \"additionalProperties\": True\n",
    "}\n",
    "\n",
    "call_result = df.apply(lambda row: make_call(\n",
    "                llm=llm,\n",
    "                job=Job.PERSUASION.value,\n",
    "                step='detect',\n",
    "                prompt_id=\"attack/Name_Calling-Labeling_v001\",\n",
    "                variables={\"text\": row['txt']},\n",
    "                max_iterations=2,\n",
    "                json_schema=schema,\n",
    "                max_retries=0)\n",
    "            ,axis=1,)\n",
    "call_result.tolist()"
   ]
  },
  {
   "cell_type": "code",
   "execution_count": 13,
   "id": "2dc53d14",
   "metadata": {},
   "outputs": [],
   "source": [
    "from collections import Counter, defaultdict\n"
   ]
  },
  {
   "cell_type": "code",
   "execution_count": 25,
   "id": "0849d106",
   "metadata": {},
   "outputs": [
    {
     "ename": "AttributeError",
     "evalue": "'list' object has no attribute 'get'",
     "output_type": "error",
     "traceback": [
      "\u001b[0;31m---------------------------------------------------------------------------\u001b[0m",
      "\u001b[0;31mAttributeError\u001b[0m                            Traceback (most recent call last)",
      "Cell \u001b[0;32mIn[25], line 18\u001b[0m\n\u001b[1;32m     15\u001b[0m             result[\u001b[38;5;124m'\u001b[39m\u001b[38;5;124merror\u001b[39m\u001b[38;5;124m'\u001b[39m]\u001b[38;5;241m.\u001b[39mappend(\u001b[38;5;124m\"\u001b[39m\u001b[38;5;124mNo content extracted\u001b[39m\u001b[38;5;124m\"\u001b[39m)\n\u001b[1;32m     16\u001b[0m     \u001b[38;5;28;01mreturn\u001b[39;00m \u001b[38;5;28mdict\u001b[39m(result)\n\u001b[0;32m---> 18\u001b[0m \u001b[43mextract_all_fields_from_list_of_dicts\u001b[49m\u001b[43m(\u001b[49m\u001b[43mcall_result\u001b[49m\u001b[38;5;241;43m.\u001b[39;49m\u001b[43mtolist\u001b[49m\u001b[43m(\u001b[49m\u001b[43m)\u001b[49m\u001b[43m)\u001b[49m\n",
      "Cell \u001b[0;32mIn[25], line 7\u001b[0m, in \u001b[0;36mextract_all_fields_from_list_of_dicts\u001b[0;34m(list_of_dicts)\u001b[0m\n\u001b[1;32m      5\u001b[0m \u001b[38;5;28;01mfor\u001b[39;00m d \u001b[38;5;129;01min\u001b[39;00m list_of_dicts:\n\u001b[1;32m      6\u001b[0m     \u001b[38;5;28;01mif\u001b[39;00m d \u001b[38;5;129;01mis\u001b[39;00m \u001b[38;5;129;01mnot\u001b[39;00m \u001b[38;5;28;01mNone\u001b[39;00m \u001b[38;5;129;01mand\u001b[39;00m d:\n\u001b[0;32m----> 7\u001b[0m         result[\u001b[38;5;124m'\u001b[39m\u001b[38;5;124mthink_content\u001b[39m\u001b[38;5;124m'\u001b[39m]\u001b[38;5;241m.\u001b[39mappend(\u001b[43md\u001b[49m\u001b[38;5;241;43m.\u001b[39;49m\u001b[43mget\u001b[49m(\u001b[38;5;124m'\u001b[39m\u001b[38;5;124mthink_content\u001b[39m\u001b[38;5;124m'\u001b[39m, \u001b[38;5;28;01mNone\u001b[39;00m))\n\u001b[1;32m      8\u001b[0m         json_data \u001b[38;5;241m=\u001b[39m d\u001b[38;5;241m.\u001b[39mget(\u001b[38;5;124m'\u001b[39m\u001b[38;5;124mjson_data\u001b[39m\u001b[38;5;124m'\u001b[39m)\n\u001b[1;32m      9\u001b[0m         \u001b[38;5;28;01mif\u001b[39;00m \u001b[38;5;28misinstance\u001b[39m(json_data, \u001b[38;5;28mdict\u001b[39m):\n",
      "\u001b[0;31mAttributeError\u001b[0m: 'list' object has no attribute 'get'"
     ]
    }
   ],
   "source": [
    "from collections import defaultdict\n",
    "\n",
    "def extract_all_fields_from_list_of_dicts(list_of_dicts):\n",
    "    result = defaultdict(list)\n",
    "    for d in list_of_dicts:\n",
    "        if d is not None and d:\n",
    "            result['think_content'].append(d.get('think_content', None))\n",
    "            json_data = d.get('json_data')\n",
    "            if isinstance(json_data, dict):\n",
    "                for k, v in json_data.items():\n",
    "                    result[k].append(v)\n",
    "            else:\n",
    "                result['error'].append(\"Invalid or missing json_data\")\n",
    "        else:\n",
    "            result['error'].append(\"No content extracted\")\n",
    "    return dict(result)\n",
    "\n",
    "extract_all_fields_from_list_of_dicts(call_result.tolist())"
   ]
  },
  {
   "cell_type": "code",
   "execution_count": null,
   "id": "105709d4",
   "metadata": {},
   "outputs": [],
   "source": [
    "extract_all_fields_from_list_of_dicts"
   ]
  },
  {
   "cell_type": "code",
   "execution_count": 24,
   "id": "bce3d641",
   "metadata": {},
   "outputs": [
    {
     "name": "stdout",
     "output_type": "stream",
     "text": [
      "j [{'raw': '{\"Description\": \"Technique used: Yes — Name Calling / Labeling is present. The use of titles (Panie Marszałku, Pani Minister) and honorifics (Wysoka Izbo) creates a formality and emphasizes the speaker\\'s position. Additionally, the phrase \\\\\"Pani zielona\\\\\" is an example of Name Calling - Labeling: it labels Anna Gembicka with a pejorative term that refers to her political views or affiliations, without providing any evidence or argumentation.\", \"Verdict\": true}', 'extra_properties': None, 'think_content': None, 'extra_content': None, 'illegal_value': {}, 'is_valid': True, 'description': 'Technique used: Yes — Name Calling / Labeling is present. The use of titles (Panie Marszałku, Pani Minister) and honorifics (Wysoka Izbo) creates a formality and emphasizes the speaker\\'s position. Additionally, the phrase \"Pani zielona\" is an example of Name Calling - Labeling: it labels Anna Gembicka with a pejorative term that refers to her political views or affiliations, without providing any evidence or argumentation.', 'verdict': True}, {'raw': '```\\n{\"Description\": \"Technique used: Yes — Name Calling / Labeling is present. The use of titles such as Panie Marszałku (Mr. President) and Pani Minister (Ms. Minister) are loaded labels that create a formal, yet condescending tone. The phrase \\'Pani zielona\\' (Ms. Green) can be interpreted as a pejorative label, implying that the speaker is biased or one-sided in their view of the facts. This labeling reduces the subject to a hostile identity and shapes perception without argument.\",\\n \"Verdict\": true}\\n```', 'extra_properties': None, 'think_content': None, 'extra_content': None, 'illegal_value': {}, 'is_valid': True, 'description': \"Technique used: Yes — Name Calling / Labeling is present. The use of titles such as Panie Marszałku (Mr. President) and Pani Minister (Ms. Minister) are loaded labels that create a formal, yet condescending tone. The phrase 'Pani zielona' (Ms. Green) can be interpreted as a pejorative label, implying that the speaker is biased or one-sided in their view of the facts. This labeling reduces the subject to a hostile identity and shapes perception without argument.\", 'verdict': True}]\n",
      "k {'raw': '{\"Description\": \"Technique used: Yes — Name Calling / Labeling is present. The use of titles (Panie Marszałku, Pani Minister) and honorifics (Wysoka Izbo) creates a formality and emphasizes the speaker\\'s position. Additionally, the phrase \\\\\"Pani zielona\\\\\" is an example of Name Calling - Labeling: it labels Anna Gembicka with a pejorative term that refers to her political views or affiliations, without providing any evidence or argumentation.\", \"Verdict\": true}', 'extra_properties': None, 'think_content': None, 'extra_content': None, 'illegal_value': {}, 'is_valid': True, 'description': 'Technique used: Yes — Name Calling / Labeling is present. The use of titles (Panie Marszałku, Pani Minister) and honorifics (Wysoka Izbo) creates a formality and emphasizes the speaker\\'s position. Additionally, the phrase \"Pani zielona\" is an example of Name Calling - Labeling: it labels Anna Gembicka with a pejorative term that refers to her political views or affiliations, without providing any evidence or argumentation.', 'verdict': True}\n",
      "k {'raw': '```\\n{\"Description\": \"Technique used: Yes — Name Calling / Labeling is present. The use of titles such as Panie Marszałku (Mr. President) and Pani Minister (Ms. Minister) are loaded labels that create a formal, yet condescending tone. The phrase \\'Pani zielona\\' (Ms. Green) can be interpreted as a pejorative label, implying that the speaker is biased or one-sided in their view of the facts. This labeling reduces the subject to a hostile identity and shapes perception without argument.\",\\n \"Verdict\": true}\\n```', 'extra_properties': None, 'think_content': None, 'extra_content': None, 'illegal_value': {}, 'is_valid': True, 'description': \"Technique used: Yes — Name Calling / Labeling is present. The use of titles such as Panie Marszałku (Mr. President) and Pani Minister (Ms. Minister) are loaded labels that create a formal, yet condescending tone. The phrase 'Pani zielona' (Ms. Green) can be interpreted as a pejorative label, implying that the speaker is biased or one-sided in their view of the facts. This labeling reduces the subject to a hostile identity and shapes perception without argument.\", 'verdict': True}\n",
      "j [{'raw': '{\"Description\": \"Technique used: Yes — Name Calling / Labeling is present. The use of titles such as \\\\\"Panie Marszałku!\\\\\" and \\\\\"Pani Minister!\\\\\" followed by the term \\\\\"zielona\\\\\" (which means green in Polish) is a form of Name Calling - Labeling. The word \\\\\"zielona\\\\\" is loaded with negative connotations, implying that someone is naive or inexperienced, often used to mock or belittle others. This is manipulative wording aimed at provoking emotional judgment and shaping perception without argument.\",\\n \"Verdict\": true}', 'extra_properties': None, 'think_content': None, 'extra_content': None, 'illegal_value': {}, 'is_valid': True, 'description': 'Technique used: Yes — Name Calling / Labeling is present. The use of titles such as \"Panie Marszałku!\" and \"Pani Minister!\" followed by the term \"zielona\" (which means green in Polish) is a form of Name Calling - Labeling. The word \"zielona\" is loaded with negative connotations, implying that someone is naive or inexperienced, often used to mock or belittle others. This is manipulative wording aimed at provoking emotional judgment and shaping perception without argument.', 'verdict': True}, {'raw': '```\\n{\"Description\": \"Technique used: Yes — Name Calling / Labeling is present. The phrases  \\\\\\\\\\\\&quot;Panie Marszałku!\\\\\\\\\\\\\\'\\\\\\\\\\\\&quot;, \\\\\\\\\\\\\\\\&quot;Wysoka Izbo!\\\\\\\\\\\\\\'\\\\\\\\\\\\&quot;, i \\\\\\\\\\\\\\\\&quot;Pani Minister!\\\\\\\\\\\\\\'\\\\\\\\\\\\&quot; nazywają posła Anna Gembicki w sposób tytułowy, nadając mu tytuły, które są wyższe niż jego godność. Te tytuły redukują go do poziomu nieswoistej władzy oraz ustanawiają napięcie. Przykład ten ilustruje Name Calling / Labeling technique: nazywając personifiku posła tytułami godności, autor zastosowa\\\\u0142 \\\\\\\\\\\\&quot;etyki\\\\\\\\\\\\&quot;etycznej nazwy i redukuje go do postaci nieswoistej władzy. To jest na przyk\\\\u0142d manipulacyjne użycie j\\\\u0119zyka, niepełne argumentacji z prezentacją dowod\\\\u015b\\\\&quot;, \\n \"Verdict\": true}\\n```', 'extra_properties': None, 'think_content': None, 'extra_content': None, 'illegal_value': {}, 'is_valid': False, 'description': None, 'verdict': None}]\n",
      "k {'raw': '{\"Description\": \"Technique used: Yes — Name Calling / Labeling is present. The use of titles such as \\\\\"Panie Marszałku!\\\\\" and \\\\\"Pani Minister!\\\\\" followed by the term \\\\\"zielona\\\\\" (which means green in Polish) is a form of Name Calling - Labeling. The word \\\\\"zielona\\\\\" is loaded with negative connotations, implying that someone is naive or inexperienced, often used to mock or belittle others. This is manipulative wording aimed at provoking emotional judgment and shaping perception without argument.\",\\n \"Verdict\": true}', 'extra_properties': None, 'think_content': None, 'extra_content': None, 'illegal_value': {}, 'is_valid': True, 'description': 'Technique used: Yes — Name Calling / Labeling is present. The use of titles such as \"Panie Marszałku!\" and \"Pani Minister!\" followed by the term \"zielona\" (which means green in Polish) is a form of Name Calling - Labeling. The word \"zielona\" is loaded with negative connotations, implying that someone is naive or inexperienced, often used to mock or belittle others. This is manipulative wording aimed at provoking emotional judgment and shaping perception without argument.', 'verdict': True}\n",
      "k {'raw': '```\\n{\"Description\": \"Technique used: Yes — Name Calling / Labeling is present. The phrases  \\\\\\\\\\\\&quot;Panie Marszałku!\\\\\\\\\\\\\\'\\\\\\\\\\\\&quot;, \\\\\\\\\\\\\\\\&quot;Wysoka Izbo!\\\\\\\\\\\\\\'\\\\\\\\\\\\&quot;, i \\\\\\\\\\\\\\\\&quot;Pani Minister!\\\\\\\\\\\\\\'\\\\\\\\\\\\&quot; nazywają posła Anna Gembicki w sposób tytułowy, nadając mu tytuły, które są wyższe niż jego godność. Te tytuły redukują go do poziomu nieswoistej władzy oraz ustanawiają napięcie. Przykład ten ilustruje Name Calling / Labeling technique: nazywając personifiku posła tytułami godności, autor zastosowa\\\\u0142 \\\\\\\\\\\\&quot;etyki\\\\\\\\\\\\&quot;etycznej nazwy i redukuje go do postaci nieswoistej władzy. To jest na przyk\\\\u0142d manipulacyjne użycie j\\\\u0119zyka, niepełne argumentacji z prezentacją dowod\\\\u015b\\\\&quot;, \\n \"Verdict\": true}\\n```', 'extra_properties': None, 'think_content': None, 'extra_content': None, 'illegal_value': {}, 'is_valid': False, 'description': None, 'verdict': None}\n"
     ]
    },
    {
     "data": {
      "text/plain": [
       "defaultdict(list, {'error': ['No content appended', 'No content appended']})"
      ]
     },
     "execution_count": 24,
     "metadata": {},
     "output_type": "execute_result"
    }
   ],
   "source": [
    "result = defaultdict(list)\n",
    "for j in call_result.tolist():\n",
    "    print(\"j\",j)\n",
    "    for k in j:\n",
    "            print(\"k\",k)\n",
    "            # result[k].append(j[k])\n",
    "    else:\n",
    "        result['error'].append(\"No content appended\")\n",
    "result"
   ]
  },
  {
   "cell_type": "code",
   "execution_count": 9,
   "id": "ebaad9ff",
   "metadata": {},
   "outputs": [
    {
     "ename": "TypeError",
     "evalue": "unhashable type: 'dict'",
     "output_type": "error",
     "traceback": [
      "\u001b[0;31m---------------------------------------------------------------------------\u001b[0m",
      "\u001b[0;31mTypeError\u001b[0m                                 Traceback (most recent call last)",
      "Cell \u001b[0;32mIn[9], line 1\u001b[0m\n\u001b[0;32m----> 1\u001b[0m \u001b[43mextract_all_fields_from_list_of_jsons\u001b[49m\u001b[43m(\u001b[49m\u001b[43mresult\u001b[49m\u001b[38;5;241;43m.\u001b[39;49m\u001b[43mtolist\u001b[49m\u001b[43m(\u001b[49m\u001b[43m)\u001b[49m\u001b[43m)\u001b[49m\n",
      "File \u001b[0;32m/mnt/openfact/users/msawinski/factue-task2/factue/utils/parsers.py:139\u001b[0m, in \u001b[0;36mextract_all_fields_from_list_of_jsons\u001b[0;34m(list_of_jsons)\u001b[0m\n\u001b[1;32m    136\u001b[0m \u001b[38;5;28;01mfor\u001b[39;00m j \u001b[38;5;129;01min\u001b[39;00m list_of_jsons:\n\u001b[1;32m    138\u001b[0m     \u001b[38;5;28;01mfor\u001b[39;00m k \u001b[38;5;129;01min\u001b[39;00m j:\n\u001b[0;32m--> 139\u001b[0m             \u001b[43mresult\u001b[49m\u001b[43m[\u001b[49m\u001b[43mk\u001b[49m\u001b[43m]\u001b[49m\u001b[38;5;241m.\u001b[39mappend(j[k])\n\u001b[1;32m    140\u001b[0m     \u001b[38;5;28;01melse\u001b[39;00m:\n\u001b[1;32m    141\u001b[0m         result[\u001b[38;5;124m'\u001b[39m\u001b[38;5;124merror\u001b[39m\u001b[38;5;124m'\u001b[39m]\u001b[38;5;241m.\u001b[39mappend(\u001b[38;5;124m\"\u001b[39m\u001b[38;5;124mNo content appended\u001b[39m\u001b[38;5;124m\"\u001b[39m)\n",
      "\u001b[0;31mTypeError\u001b[0m: unhashable type: 'dict'"
     ]
    }
   ],
   "source": [
    "extract_all_fields_from_list_of_jsons(result.tolist())"
   ]
  },
  {
   "cell_type": "code",
   "execution_count": 29,
   "id": "8df49fab",
   "metadata": {},
   "outputs": [
    {
     "data": {
      "application/vnd.microsoft.datawrangler.viewer.v0+json": {
       "columns": [
        {
         "name": "index",
         "rawType": "int64",
         "type": "integer"
        },
        {
         "name": "illegal_value",
         "rawType": "object",
         "type": "unknown"
        },
        {
         "name": "description",
         "rawType": "object",
         "type": "unknown"
        },
        {
         "name": "extra_properties",
         "rawType": "object",
         "type": "unknown"
        },
        {
         "name": "extra_content",
         "rawType": "object",
         "type": "unknown"
        },
        {
         "name": "raw",
         "rawType": "object",
         "type": "unknown"
        },
        {
         "name": "think_content",
         "rawType": "object",
         "type": "unknown"
        },
        {
         "name": "is_valid",
         "rawType": "object",
         "type": "unknown"
        },
        {
         "name": "verdict",
         "rawType": "object",
         "type": "unknown"
        }
       ],
       "conversionMethod": "pd.DataFrame",
       "ref": "07ee5f02-2d73-419e-a370-f23351cf6d68",
       "rows": [
        [
         "0",
         "[{}, {}]",
         "['Technique used: Yes — Name Calling / Labeling is present. The use of titles (Panie Marszałku, Pani Minister) and honorifics (Wysoka Izbo) creates a formality and emphasizes the speaker\\'s position. Additionally, the phrase \"Pani zielona\" is an example of Name Calling - Labeling: it labels Anna Gembicka with a pejorative term that refers to her political views or affiliations, without providing any evidence or argumentation.', \"Technique used: Yes — Name Calling / Labeling is present. The use of titles such as Panie Marszałku (Mr. President) and Pani Minister (Ms. Minister) are loaded labels that create a formal, yet condescending tone. The phrase 'Pani zielona' (Ms. Green) can be interpreted as a pejorative label, implying that the speaker is biased or one-sided in their view of the facts. This labeling reduces the subject to a hostile identity and shapes perception without argument.\"]",
         "[None, None]",
         "[None, None]",
         "['{\"Description\": \"Technique used: Yes — Name Calling / Labeling is present. The use of titles (Panie Marszałku, Pani Minister) and honorifics (Wysoka Izbo) creates a formality and emphasizes the speaker\\'s position. Additionally, the phrase \\\\\"Pani zielona\\\\\" is an example of Name Calling - Labeling: it labels Anna Gembicka with a pejorative term that refers to her political views or affiliations, without providing any evidence or argumentation.\", \"Verdict\": true}', '```\\n{\"Description\": \"Technique used: Yes — Name Calling / Labeling is present. The use of titles such as Panie Marszałku (Mr. President) and Pani Minister (Ms. Minister) are loaded labels that create a formal, yet condescending tone. The phrase \\'Pani zielona\\' (Ms. Green) can be interpreted as a pejorative label, implying that the speaker is biased or one-sided in their view of the facts. This labeling reduces the subject to a hostile identity and shapes perception without argument.\",\\n \"Verdict\": true}\\n```']",
         "[None, None]",
         "[True, True]",
         "[True, True]"
        ],
        [
         "1",
         "[{}, {}]",
         "['Technique used: Yes — Name Calling / Labeling is present. The use of titles such as \"Panie Marszałku!\" and \"Pani Minister!\" followed by the term \"zielona\" (which means green in Polish) is a form of Name Calling - Labeling. The word \"zielona\" is loaded with negative connotations, implying that someone is naive or inexperienced, often used to mock or belittle others. This is manipulative wording aimed at provoking emotional judgment and shaping perception without argument.', None]",
         "[None, None]",
         "[None, None]",
         "['{\"Description\": \"Technique used: Yes — Name Calling / Labeling is present. The use of titles such as \\\\\"Panie Marszałku!\\\\\" and \\\\\"Pani Minister!\\\\\" followed by the term \\\\\"zielona\\\\\" (which means green in Polish) is a form of Name Calling - Labeling. The word \\\\\"zielona\\\\\" is loaded with negative connotations, implying that someone is naive or inexperienced, often used to mock or belittle others. This is manipulative wording aimed at provoking emotional judgment and shaping perception without argument.\",\\n \"Verdict\": true}', '```\\n{\"Description\": \"Technique used: Yes — Name Calling / Labeling is present. The phrases  \\\\\\\\\\\\&quot;Panie Marszałku!\\\\\\\\\\\\\\'\\\\\\\\\\\\&quot;, \\\\\\\\\\\\\\\\&quot;Wysoka Izbo!\\\\\\\\\\\\\\'\\\\\\\\\\\\&quot;, i \\\\\\\\\\\\\\\\&quot;Pani Minister!\\\\\\\\\\\\\\'\\\\\\\\\\\\&quot; nazywają posła Anna Gembicki w sposób tytułowy, nadając mu tytuły, które są wyższe niż jego godność. Te tytuły redukują go do poziomu nieswoistej władzy oraz ustanawiają napięcie. Przykład ten ilustruje Name Calling / Labeling technique: nazywając personifiku posła tytułami godności, autor zastosowa\\\\u0142 \\\\\\\\\\\\&quot;etyki\\\\\\\\\\\\&quot;etycznej nazwy i redukuje go do postaci nieswoistej władzy. To jest na przyk\\\\u0142d manipulacyjne użycie j\\\\u0119zyka, niepełne argumentacji z prezentacją dowod\\\\u015b\\\\&quot;, \\n \"Verdict\": true}\\n```']",
         "[None, None]",
         "[True, False]",
         "[True, None]"
        ]
       ],
       "shape": {
        "columns": 8,
        "rows": 2
       }
      },
      "text/html": [
       "<div>\n",
       "<style scoped>\n",
       "    .dataframe tbody tr th:only-of-type {\n",
       "        vertical-align: middle;\n",
       "    }\n",
       "\n",
       "    .dataframe tbody tr th {\n",
       "        vertical-align: top;\n",
       "    }\n",
       "\n",
       "    .dataframe thead th {\n",
       "        text-align: right;\n",
       "    }\n",
       "</style>\n",
       "<table border=\"1\" class=\"dataframe\">\n",
       "  <thead>\n",
       "    <tr style=\"text-align: right;\">\n",
       "      <th></th>\n",
       "      <th>illegal_value</th>\n",
       "      <th>description</th>\n",
       "      <th>extra_properties</th>\n",
       "      <th>extra_content</th>\n",
       "      <th>raw</th>\n",
       "      <th>think_content</th>\n",
       "      <th>is_valid</th>\n",
       "      <th>verdict</th>\n",
       "    </tr>\n",
       "  </thead>\n",
       "  <tbody>\n",
       "    <tr>\n",
       "      <th>0</th>\n",
       "      <td>[{}, {}]</td>\n",
       "      <td>[Technique used: Yes — Name Calling / Labeling...</td>\n",
       "      <td>[None, None]</td>\n",
       "      <td>[None, None]</td>\n",
       "      <td>[{\"Description\": \"Technique used: Yes — Name C...</td>\n",
       "      <td>[None, None]</td>\n",
       "      <td>[True, True]</td>\n",
       "      <td>[True, True]</td>\n",
       "    </tr>\n",
       "    <tr>\n",
       "      <th>1</th>\n",
       "      <td>[{}, {}]</td>\n",
       "      <td>[Technique used: Yes — Name Calling / Labeling...</td>\n",
       "      <td>[None, None]</td>\n",
       "      <td>[None, None]</td>\n",
       "      <td>[{\"Description\": \"Technique used: Yes — Name C...</td>\n",
       "      <td>[None, None]</td>\n",
       "      <td>[True, False]</td>\n",
       "      <td>[True, None]</td>\n",
       "    </tr>\n",
       "  </tbody>\n",
       "</table>\n",
       "</div>"
      ],
      "text/plain": [
       "  illegal_value                                        description  \\\n",
       "0      [{}, {}]  [Technique used: Yes — Name Calling / Labeling...   \n",
       "1      [{}, {}]  [Technique used: Yes — Name Calling / Labeling...   \n",
       "\n",
       "  extra_properties extra_content  \\\n",
       "0     [None, None]  [None, None]   \n",
       "1     [None, None]  [None, None]   \n",
       "\n",
       "                                                 raw think_content  \\\n",
       "0  [{\"Description\": \"Technique used: Yes — Name C...  [None, None]   \n",
       "1  [{\"Description\": \"Technique used: Yes — Name C...  [None, None]   \n",
       "\n",
       "        is_valid       verdict  \n",
       "0   [True, True]  [True, True]  \n",
       "1  [True, False]  [True, None]  "
      ]
     },
     "execution_count": 29,
     "metadata": {},
     "output_type": "execute_result"
    }
   ],
   "source": [
    "def expand_series_of_dict_lists(series):\n",
    "    # Extract all keys from all dicts to get full set of keys\n",
    "    all_keys = set()\n",
    "    for lst in series:#.dropna():\n",
    "        for d in lst:\n",
    "            all_keys.update(d.keys())\n",
    "\n",
    "    # For each row, create a dict: key -> list of values for that key\n",
    "    def extract_keys(dicts):\n",
    "        return {key: [d.get(key) for d in dicts] for key in all_keys}\n",
    "\n",
    "    return series.apply(extract_keys).apply(pd.Series)\n",
    "\n",
    "# Apply the function\n",
    "df_expanded = expand_series_of_dict_lists(call_result)\n",
    "df_expanded"
   ]
  }
 ],
 "metadata": {
  "kernelspec": {
   "display_name": "Python (MS FactUE)",
   "language": "python",
   "name": "factue"
  }
 },
 "nbformat": 4,
 "nbformat_minor": 5
}
