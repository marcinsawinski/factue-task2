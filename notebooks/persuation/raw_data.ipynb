{
 "cells": [
  {
   "cell_type": "code",
   "execution_count": 1,
   "id": "7c39da84",
   "metadata": {},
   "outputs": [],
   "source": [
    "wd = '/Users/marcinsawinski/Documents/GitHub/factue-task2'\n",
    "import sys, os\n",
    "os.chdir(wd)"
   ]
  },
  {
   "cell_type": "code",
   "execution_count": 2,
   "id": "d152e931",
   "metadata": {},
   "outputs": [
    {
     "name": "stdout",
     "output_type": "stream",
     "text": [
      "Saved /Users/marcinsawinski/Documents/GitHub/factue-task2/data/preprocessed/persuasion/train/train-pl/batch0000.parquet\n",
      "Saved /Users/marcinsawinski/Documents/GitHub/factue-task2/data/preprocessed/persuasion/train/train-pl/batch0001.parquet\n",
      "Saved /Users/marcinsawinski/Documents/GitHub/factue-task2/data/preprocessed/persuasion/train/train-ru/batch0000.parquet\n",
      "Saved /Users/marcinsawinski/Documents/GitHub/factue-task2/data/preprocessed/persuasion/train/train-bg/batch0000.parquet\n",
      "Saved /Users/marcinsawinski/Documents/GitHub/factue-task2/data/preprocessed/persuasion/train/train-bg/batch0001.parquet\n",
      "Saved /Users/marcinsawinski/Documents/GitHub/factue-task2/data/preprocessed/persuasion/train/train-bg/batch0002.parquet\n",
      "Saved /Users/marcinsawinski/Documents/GitHub/factue-task2/data/preprocessed/persuasion/train/train-bg/batch0003.parquet\n",
      "Saved /Users/marcinsawinski/Documents/GitHub/factue-task2/data/preprocessed/persuasion/train/train-si/batch0000.parquet\n"
     ]
    }
   ],
   "source": [
    "from pathlib import Path\n",
    "import pandas as pd\n",
    "from factue.utils.vars import PROJECT_ROOT\n",
    "\n",
    "base_dir = PROJECT_ROOT / \"data/raw/persuasion/trial_data/TRIAL-ANNOTATED\"\n",
    "langs = [\"PL\", \"RU\", \"BG\", \"SI\"]\n",
    "\n",
    "records = []\n",
    "\n",
    "for lang in langs:\n",
    "    lang_path = base_dir / lang\n",
    "    raw_docs_path = lang_path / \"raw-documents\"\n",
    "    subtask1_path = lang_path / \"subtask-1-annotations.txt\"\n",
    "    subtask2_path = lang_path / \"subtask-2-annotations.txt\"\n",
    "\n",
    "    # Load all raw documents\n",
    "    raw_docs = {\n",
    "        f.name: f.read_text(encoding=\"utf-8\") for f in raw_docs_path.glob(\"*.txt\")\n",
    "    }\n",
    "\n",
    "    # Load subtask-2 annotations into a dict\n",
    "    subtask2_map = {}\n",
    "    if subtask2_path.exists():\n",
    "        with subtask2_path.open(encoding=\"utf-8\") as f:\n",
    "            for line in f:\n",
    "                parts = line.strip().split(\"\\t\")\n",
    "                if len(parts) >= 4:\n",
    "                    fname, start, end, *labels = parts\n",
    "                    key = (fname, int(start), int(end))\n",
    "                    subtask2_map[key] = labels\n",
    "\n",
    "    # Parse subtask-1 annotations and extract spans\n",
    "    with subtask1_path.open(encoding=\"utf-8\") as f:\n",
    "        for line in f:\n",
    "            parts = line.strip().split(\"\\t\")\n",
    "            if len(parts) != 4:\n",
    "                continue\n",
    "            fname, start, end, label_bin = parts\n",
    "            start, end = int(start), int(end)\n",
    "            text = raw_docs.get(fname, \"\")[start:end]\n",
    "            labels_multi = subtask2_map.get((fname, start, end), [])\n",
    "\n",
    "            records.append(\n",
    "                {\n",
    "                    \"filename\": fname,\n",
    "                    \"start\": start,\n",
    "                    \"end\": end,\n",
    "                    \"text_lang\": lang,\n",
    "                    \"text\": text,\n",
    "                    \"label_bin\": label_bin.lower() == \"true\",\n",
    "                    \"labels_multi\": labels_multi,\n",
    "                }\n",
    "            )\n",
    "\n",
    "# Create a DataFrame\n",
    "df = pd.DataFrame(records)\n",
    "\n",
    "from pathlib import Path\n",
    "\n",
    "batch_size = 20\n",
    "output_base = PROJECT_ROOT / \"data/preprocessed/persuasion/train\"\n",
    "output_base.mkdir(parents=True, exist_ok=True)\n",
    "\n",
    "for lang in df[\"text_lang\"].unique():\n",
    "    df_lang = df[df[\"text_lang\"] == lang].reset_index(drop=True)\n",
    "    lang_dir = output_base / f\"train-{lang.lower()}\"\n",
    "    lang_dir.mkdir(parents=True, exist_ok=True)\n",
    "\n",
    "    # Save in batches of 20\n",
    "    for i in range(0, len(df_lang), batch_size):\n",
    "        batch_df = df_lang.iloc[i : i + batch_size]\n",
    "        batch_index = i // batch_size\n",
    "        batch_filename = f\"batch{batch_index:04d}.parquet\"\n",
    "        batch_path = lang_dir / batch_filename\n",
    "        batch_df.to_parquet(batch_path, index=False)\n",
    "        print(f\"Saved {batch_path}\")"
   ]
  },
  {
   "cell_type": "code",
   "execution_count": 3,
   "id": "d1231127",
   "metadata": {},
   "outputs": [
    {
     "data": {
      "text/plain": [
       "text_lang\n",
       "BG    75\n",
       "PL    27\n",
       "RU    18\n",
       "SI     9\n",
       "Name: count, dtype: int64"
      ]
     },
     "execution_count": 3,
     "metadata": {},
     "output_type": "execute_result"
    }
   ],
   "source": [
    "df.value_counts(\"text_lang\")"
   ]
  },
  {
   "cell_type": "code",
   "execution_count": 4,
   "id": "f70df1aa",
   "metadata": {},
   "outputs": [
    {
     "name": "stdout",
     "output_type": "stream",
     "text": [
      "                               label  count\n",
      "2                   Appeal_to_Values     23\n",
      "13                   Loaded_Language     13\n",
      "3                              Doubt     11\n",
      "5                         Repetition     11\n",
      "1                     Appeal_to_Pity     10\n",
      "12          Appeal_to_Fear-Prejudice      8\n",
      "15        Questioning_the_Reputation      8\n",
      "9              Name_Calling-Labeling      7\n",
      "0                Conversation_Killer      7\n",
      "4               Appeal_to_Popularity      6\n",
      "10           False_Dilemma-No_Choice      3\n",
      "7                     Appeal_to_Time      3\n",
      "17         Causal_Oversimplification      3\n",
      "18                           Slogans      3\n",
      "19  Consequential_Oversimplification      3\n",
      "21               Appeal_to_Hypocrisy      3\n",
      "6          Exaggeration-Minimisation      2\n",
      "16                         Straw_Man      2\n",
      "20                      Whataboutism      2\n",
      "22                       Flag_Waving      2\n",
      "23                       Red_Herring      2\n",
      "8    Obfuscation-Vagueness-Confusion      1\n",
      "11              Guilt_by_Association      1\n",
      "14                 False_Equivalence      1\n"
     ]
    }
   ],
   "source": [
    "from collections import Counter\n",
    "\n",
    "# Flatten all labels_multi lists into one list\n",
    "all_labels = df[\"labels_multi\"].explode()\n",
    "\n",
    "# Drop None or NaN values (in case some entries have empty label lists)\n",
    "all_labels = all_labels.dropna()\n",
    "\n",
    "# Count occurrences\n",
    "label_counts = Counter(all_labels)\n",
    "\n",
    "# Convert to DataFrame for display or saving\n",
    "label_counts_df = pd.DataFrame(\n",
    "    label_counts.items(), columns=[\"label\", \"count\"]\n",
    ").sort_values(\"count\", ascending=False)\n",
    "\n",
    "print(label_counts_df)"
   ]
  },
  {
   "cell_type": "code",
   "execution_count": 5,
   "id": "58bd803d",
   "metadata": {},
   "outputs": [
    {
     "ename": "FileNotFoundError",
     "evalue": "[Errno 2] No such file or directory: 'prompts.yaml'",
     "output_type": "error",
     "traceback": [
      "\u001b[0;31m---------------------------------------------------------------------------\u001b[0m",
      "\u001b[0;31mFileNotFoundError\u001b[0m                         Traceback (most recent call last)",
      "Cell \u001b[0;32mIn[5], line 6\u001b[0m\n\u001b[1;32m      1\u001b[0m \u001b[38;5;28;01mimport\u001b[39;00m\u001b[38;5;250m \u001b[39m\u001b[38;5;21;01myaml\u001b[39;00m\n\u001b[1;32m      2\u001b[0m \u001b[38;5;28;01mfrom\u001b[39;00m\u001b[38;5;250m \u001b[39m\u001b[38;5;21;01mlangchain\u001b[39;00m\u001b[38;5;21;01m.\u001b[39;00m\u001b[38;5;21;01mprompts\u001b[39;00m\u001b[38;5;250m \u001b[39m\u001b[38;5;28;01mimport\u001b[39;00m PromptTemplate\n\u001b[0;32m----> 6\u001b[0m \u001b[38;5;28;01mwith\u001b[39;00m \u001b[38;5;28;43mopen\u001b[39;49m\u001b[43m(\u001b[49m\u001b[38;5;124;43m\"\u001b[39;49m\u001b[38;5;124;43mprompts.yaml\u001b[39;49m\u001b[38;5;124;43m\"\u001b[39;49m\u001b[43m,\u001b[49m\u001b[43m \u001b[49m\u001b[38;5;124;43m\"\u001b[39;49m\u001b[38;5;124;43mr\u001b[39;49m\u001b[38;5;124;43m\"\u001b[39;49m\u001b[43m)\u001b[49m \u001b[38;5;28;01mas\u001b[39;00m f:\n\u001b[1;32m      7\u001b[0m     prompt_defs \u001b[38;5;241m=\u001b[39m yaml\u001b[38;5;241m.\u001b[39msafe_load(f)\n\u001b[1;32m      9\u001b[0m prompt_defs\n",
      "File \u001b[0;32m~/Documents/GitHub/factue-task2/.venv/lib/python3.12/site-packages/IPython/core/interactiveshell.py:324\u001b[0m, in \u001b[0;36m_modified_open\u001b[0;34m(file, *args, **kwargs)\u001b[0m\n\u001b[1;32m    317\u001b[0m \u001b[38;5;28;01mif\u001b[39;00m file \u001b[38;5;129;01min\u001b[39;00m {\u001b[38;5;241m0\u001b[39m, \u001b[38;5;241m1\u001b[39m, \u001b[38;5;241m2\u001b[39m}:\n\u001b[1;32m    318\u001b[0m     \u001b[38;5;28;01mraise\u001b[39;00m \u001b[38;5;167;01mValueError\u001b[39;00m(\n\u001b[1;32m    319\u001b[0m         \u001b[38;5;124mf\u001b[39m\u001b[38;5;124m\"\u001b[39m\u001b[38;5;124mIPython won\u001b[39m\u001b[38;5;124m'\u001b[39m\u001b[38;5;124mt let you open fd=\u001b[39m\u001b[38;5;132;01m{\u001b[39;00mfile\u001b[38;5;132;01m}\u001b[39;00m\u001b[38;5;124m by default \u001b[39m\u001b[38;5;124m\"\u001b[39m\n\u001b[1;32m    320\u001b[0m         \u001b[38;5;124m\"\u001b[39m\u001b[38;5;124mas it is likely to crash IPython. If you know what you are doing, \u001b[39m\u001b[38;5;124m\"\u001b[39m\n\u001b[1;32m    321\u001b[0m         \u001b[38;5;124m\"\u001b[39m\u001b[38;5;124myou can use builtins\u001b[39m\u001b[38;5;124m'\u001b[39m\u001b[38;5;124m open.\u001b[39m\u001b[38;5;124m\"\u001b[39m\n\u001b[1;32m    322\u001b[0m     )\n\u001b[0;32m--> 324\u001b[0m \u001b[38;5;28;01mreturn\u001b[39;00m \u001b[43mio_open\u001b[49m\u001b[43m(\u001b[49m\u001b[43mfile\u001b[49m\u001b[43m,\u001b[49m\u001b[43m \u001b[49m\u001b[38;5;241;43m*\u001b[39;49m\u001b[43margs\u001b[49m\u001b[43m,\u001b[49m\u001b[43m \u001b[49m\u001b[38;5;241;43m*\u001b[39;49m\u001b[38;5;241;43m*\u001b[39;49m\u001b[43mkwargs\u001b[49m\u001b[43m)\u001b[49m\n",
      "\u001b[0;31mFileNotFoundError\u001b[0m: [Errno 2] No such file or directory: 'prompts.yaml'"
     ]
    }
   ],
   "source": [
    "import yaml\n",
    "from langchain.prompts import PromptTemplate\n",
    "\n",
    "\n",
    "\n",
    "with open(\"prompts.yaml\", \"r\") as f:\n",
    "    prompt_defs = yaml.safe_load(f)\n",
    "\n",
    "prompt_defs\n"
   ]
  }
 ],
 "metadata": {
  "kernelspec": {
   "display_name": ".venv",
   "language": "python",
   "name": "python3"
  },
  "language_info": {
   "codemirror_mode": {
    "name": "ipython",
    "version": 3
   },
   "file_extension": ".py",
   "mimetype": "text/x-python",
   "name": "python",
   "nbconvert_exporter": "python",
   "pygments_lexer": "ipython3",
   "version": "3.12.9"
  }
 },
 "nbformat": 4,
 "nbformat_minor": 5
}
