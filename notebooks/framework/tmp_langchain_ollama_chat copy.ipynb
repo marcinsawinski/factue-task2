{
 "cells": [
  {
   "cell_type": "code",
   "execution_count": 1,
   "id": "77f27879",
   "metadata": {},
   "outputs": [],
   "source": [
    "import os\n",
    "\n",
    "os.chdir(\"/mnt/openfact/users/msawinski/factue-task2\")\n",
    "from factue.methods.llm_langchain.llm import Llm\n",
    "\n",
    "import json"
   ]
  },
  {
   "cell_type": "code",
   "execution_count": 2,
   "id": "21c9c7af",
   "metadata": {},
   "outputs": [],
   "source": [
    "chat_model = Llm(\n",
    "    model_name=\"llama3.1:8b\",  # type: ignore\n",
    "    provider=\"ollama\",  # type: ignore\n",
    "    mode=\"chat\",  # type: ignore\n",
    "    temperature=\"0.0\",  # type: ignore\n",
    "    seed=0,\n",
    ")"
   ]
  },
  {
   "cell_type": "code",
   "execution_count": null,
   "id": "3a72dc21",
   "metadata": {},
   "outputs": [
    {
     "name": "stdout",
     "output_type": "stream",
     "text": [
      "{\n",
      "\"rating\": 0,\n",
      "\"reason\": \"The claim does not mention the Karnofsky family or their relationship with the boy, and only mentions Louis Armstrong's photo\",\n",
      "\"alternative\": \"A young Jewish boy from Lithuania was employed by the Karnofsky family in the US\"\n",
      "}\n"
     ]
    }
   ],
   "source": [
    "# promt_format = \"\"\"\\nOutput ONLY JSON: in the format {{\"rating\": 0-10, \"reason\": \"reason for rating\",\"alternative\": \"formulate new one sentence claim that better represents the text of post}}.\"\"\"\n",
    "\n",
    "# prmpt_system = \"\"\"You are an expert journalist. Your task is to validate if a claim was accuratley extracted from a post. Compare it and determine how accurately the claim reflects post. You outout rating from 0 to 10, where 0 means the claim is completely different from original text and 10 means the claim most accurately reflects the post. If claim does not accurately reflect the post then generate alternative claim. Do not include additional information. Compare ONLY the claim text with post text. Do not infere information that is not directly included in post. Keep original wording when possible.Focus on the most important infrmation. The claim should be concise and reflect ONLY most important information from the post. Preserve names and named entities from the post.\"\"\"\n",
    "\n",
    "\n",
    "# claim = \"\"\"Photo shows Louis Armstrong as a child\"\"\"\n",
    "# post = \"\"\"The Karnofsky Jewish family, who immigrated to the United States from Lithuania, employed a 7-year-old boy and adopted (so to speak) him into their home.  He was originally given homework to get food because he was a starving kid.  He remained under the Jewish families employ, until he was 12  Karnofsky gave him money to buy his first instrument, which was a common instrument in Jewish families.  They really admired his musical talent.Later, when he became a professional\"\"\"\n",
    "# prmpt_user = \"\"\"POST:\\n{post}\\n\\nCLAIM:\\n{claim}\"\"\"\n",
    "\n",
    "# from langchain.prompts import ChatPromptTemplate\n",
    "# prompt_template = ChatPromptTemplate.from_messages(\n",
    "#     [\n",
    "#         (\"system\", prmpt_system+promt_format),\n",
    "#         (\"human\", prmpt_user),\n",
    "#     ]\n",
    "# )\n",
    "# prompt = prompt_template.invoke(\n",
    "#     {\n",
    "#         \"post\": post,\n",
    "#         \"claim\": claim\n",
    "#     })\n",
    "# reposonse = chat_model.invoke(prompt).content\n",
    "# print(reposonse)"
   ]
  },
  {
   "cell_type": "code",
   "execution_count": 4,
   "id": "9abb48f2",
   "metadata": {},
   "outputs": [],
   "source": [
    "def improve_claim(claim, post, prmpt_system, prmpt_user, promt_format, chat_model):\n",
    "    prompt_template = ChatPromptTemplate.from_messages(\n",
    "        [\n",
    "            (\"system\", prmpt_system + promt_format),\n",
    "            (\"human\", prmpt_user),\n",
    "        ]\n",
    "    )\n",
    "    print(claim)\n",
    "    while claim and len(claim) > 0:\n",
    "        prompt = prompt_template.invoke({\"post\": post, \"claim\": claim})\n",
    "        reposonse = chat_model.invoke(prompt).content\n",
    "\n",
    "        try:\n",
    "            response = json.loads(reposonse)\n",
    "            rating = response[\"rating\"]\n",
    "            reason = response[\"reason\"]\n",
    "            alternative = response[\"alternative\"]\n",
    "            print(str(rating) + \" | \" + reason)\n",
    "            print(\"*\" * 200)\n",
    "\n",
    "            print(alternative)\n",
    "        except:\n",
    "            print(\"Error in response\")\n",
    "            print(reposonse)\n",
    "            claim = None\n",
    "        if claim != alternative and len(alternative) > 10 and alternative:\n",
    "            claim = alternative\n",
    "        else:\n",
    "            print(\"*\" * 200)\n",
    "            print(\"*\" * 200)\n",
    "            break"
   ]
  },
  {
   "cell_type": "code",
   "execution_count": 5,
   "id": "6a0e357b",
   "metadata": {},
   "outputs": [
    {
     "name": "stdout",
     "output_type": "stream",
     "text": [
      "Photo shows Louis Armstrong as a child\n",
      "2 | The claim mentions a photo, but the post does not mention a photo of Louis Armstrong.\n",
      "********************************************************************************************************************************************************************************************************\n",
      "Louis Armstrong was employed by the Karnofsky Jewish family from age 7 to 12.\n",
      "8 | The claim accurately states that Louis Armstrong was employed by the Karnofsky Jewish family and his age range, but it does not mention the reason for his employment or the adoption-like situation.\n",
      "********************************************************************************************************************************************************************************************************\n",
      "Louis Armstrong was employed by the Karnofsky Jewish family from age 7 to 12, initially as a starving child who received food in exchange for homework.\n",
      "8 | The claim accurately reflects the post's information about Louis Armstrong being employed by the Karnofsky Jewish family and receiving food in exchange for homework.\n",
      "********************************************************************************************************************************************************************************************************\n",
      "Louis Armstrong was employed by the Karnofsky Jewish family from age 7 to 12, initially as a starving child who received food in exchange for doing his homework.\n",
      "8 | The claim accurately reflects the post's information about Louis Armstrong being employed by the Karnofsky Jewish family and receiving food in exchange for doing homework.\n",
      "********************************************************************************************************************************************************************************************************\n",
      "Louis Armstrong was employed by the Karnofsky Jewish family from age 7 to 12, initially as a starving child who received food in exchange for his work.\n",
      "8 | The claim accurately reflects the post's information about Louis Armstrong being employed by the Karnofsky Jewish family and receiving food in exchange for his work.\n",
      "********************************************************************************************************************************************************************************************************\n",
      "Louis Armstrong was employed by the Karnofsky Jewish family from age 7 to 12, initially as a starving child who received food in exchange for his work.\n",
      "********************************************************************************************************************************************************************************************************\n",
      "********************************************************************************************************************************************************************************************************\n"
     ]
    }
   ],
   "source": [
    "claim = \"\"\"Photo shows Louis Armstrong as a child\"\"\"\n",
    "post = \"\"\"The Karnofsky Jewish family, who immigrated to the United States from Lithuania, employed a 7-year-old boy and adopted (so to speak) him into their home.  He was originally given homework to get food because he was a starving kid.  He remained under the Jewish families employ, until he was 12  Karnofsky gave him money to buy his first instrument, which was a common instrument in Jewish families.  They really admired his musical talent.Later, when he became a professional\"\"\"\n",
    "\n",
    "prmpt_system = \"\"\"You are an expert journalist. Your task is to validate if a claim was accuratley extracted from a post. Compare it and determine how accurately the claim reflects post. You outout rating from 0 to 10, where 0 means the claim is completely different from original text and 10 means the claim most accurately reflects the post. If claim does not accurately reflect the post then generate alternative claim. Do not include additional information. Compare ONLY the claim text with post text. Do not infere information that is not directly included in post. Keep original wording when possible.Focus on the most important infrmation. The claim should be concise and reflect ONLY most important information from the post. Preserve names and named entities from the post.\"\"\"\n",
    "\n",
    "promt_format = \"\"\"\\nOutput ONLY JSON: in the format {{\"rating\": 0-10, \"reason\": \"reason for rating\",\"alternative\": \"formulate new one sentence claim that better represents the text of post}}.\"\"\"\n",
    "\n",
    "prmpt_user = \"\"\"POST:\\n{post}\\n\\nCLAIM:\\n{claim}\"\"\"\n",
    "\n",
    "improve_claim(claim, post, prmpt_system, prmpt_user, promt_format, chat_model)"
   ]
  }
 ],
 "metadata": {
  "kernelspec": {
   "display_name": "Python (MS FactUE)",
   "language": "python",
   "name": "factue"
  },
  "language_info": {
   "codemirror_mode": {
    "name": "ipython",
    "version": 3
   },
   "file_extension": ".py",
   "mimetype": "text/x-python",
   "name": "python",
   "nbconvert_exporter": "python",
   "pygments_lexer": "ipython3",
   "version": "3.11.8"
  }
 },
 "nbformat": 4,
 "nbformat_minor": 5
}
