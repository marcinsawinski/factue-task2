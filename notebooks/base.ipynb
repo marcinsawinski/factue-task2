{
 "cells": [
  {
   "cell_type": "code",
   "execution_count": 3,
   "id": "d72ff9e6",
   "metadata": {},
   "outputs": [
    {
     "data": {
      "text/plain": [
       "123"
      ]
     },
     "execution_count": 3,
     "metadata": {},
     "output_type": "execute_result"
    }
   ],
   "source": [
    "class mybase:\n",
    "    dat1 = 'abc'\n",
    "\n",
    "    def fu1(self):\n",
    "        return 123\n",
    "    \n",
    "class mybase2(mybase):\n",
    "    def fu2(self):\n",
    "        return \n",
    "    \n",
    "o1 = mybase2()\n",
    "o1.fu1()"
   ]
  }
 ],
 "metadata": {
  "kernelspec": {
   "display_name": ".venv",
   "language": "python",
   "name": "python3"
  },
  "language_info": {
   "codemirror_mode": {
    "name": "ipython",
    "version": 3
   },
   "file_extension": ".py",
   "mimetype": "text/x-python",
   "name": "python",
   "nbconvert_exporter": "python",
   "pygments_lexer": "ipython3",
   "version": "3.12.9"
  }
 },
 "nbformat": 4,
 "nbformat_minor": 5
}
