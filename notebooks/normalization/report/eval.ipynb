{
 "cells": [
  {
   "cell_type": "code",
   "execution_count": 1,
   "id": "040ac33f",
   "metadata": {},
   "outputs": [],
   "source": [
    "wd = \"/Users/marcinsawinski/Documents/GitHub/factue-task2\"\n",
    "import sys, os\n",
    "\n",
    "os.chdir(wd)"
   ]
  },
  {
   "cell_type": "code",
   "execution_count": 2,
   "id": "1472f4cc",
   "metadata": {},
   "outputs": [],
   "source": [
    "import duckdb\n",
    "\n",
    "df = duckdb.read_parquet(\"data/cleaned/normalization/**/*.parquet\")"
   ]
  },
  {
   "cell_type": "code",
   "execution_count": 3,
   "id": "9e5ffa01",
   "metadata": {},
   "outputs": [
    {
     "data": {
      "text/plain": [
       "┌──────────────┐\n",
       "│ count_star() │\n",
       "│    int64     │\n",
       "├──────────────┤\n",
       "│         7829 │\n",
       "└──────────────┘"
      ]
     },
     "execution_count": 3,
     "metadata": {},
     "output_type": "execute_result"
    }
   ],
   "source": [
    "duckdb.sql(\"SELECT COUNT(*) FROM 'data/cleaned/normalization/**/*.parquet'\")"
   ]
  },
  {
   "cell_type": "code",
   "execution_count": 17,
   "id": "251e437b",
   "metadata": {},
   "outputs": [],
   "source": [
    "import pandas as pd\n",
    "from pathlib import Path\n",
    "\n",
    "root_dir = Path(\"data/llm_output/normalization/extract\")\n",
    "files = list(root_dir.rglob(\"**/v002/*/dev/**/*.parquet\")) #+ list(\n",
    "#     root_dir.rglob(\"**/train/**/*.parquet\")\n",
    "# )\n",
    "\n",
    "# Read and tag each file with its source path in one step\n",
    "all_dfs = []\n",
    "for f in files:\n",
    "    # print(f)\n",
    "    try:\n",
    "        df = pd.read_parquet(f)\n",
    "        df[\"source_file\"] = f\n",
    "        all_dfs.append(df)\n",
    "    except Exception as e:\n",
    "        print(f\"Failed to read {f}: {e}\")\n",
    "\n",
    "# Concatenate all DataFrames\n",
    "combined_df = pd.concat(all_dfs, ignore_index=True)"
   ]
  },
  {
   "cell_type": "code",
   "execution_count": 18,
   "id": "fd42ea95",
   "metadata": {},
   "outputs": [],
   "source": [
    "combined_df.max_iterations = combined_df.max_iterations.astype(str)"
   ]
  },
  {
   "cell_type": "code",
   "execution_count": 19,
   "id": "fd166b52",
   "metadata": {},
   "outputs": [
    {
     "data": {
      "application/vnd.microsoft.datawrangler.viewer.v0+json": {
       "columns": [
        {
         "name": "('lang', 'prompt_version')",
         "rawType": "object",
         "type": "unknown"
        },
        {
         "name": "('deepseek-r1:8b', '3')",
         "rawType": "float64",
         "type": "float"
        },
        {
         "name": "('gpt-4.1-mini', '1')",
         "rawType": "float64",
         "type": "float"
        },
        {
         "name": "('gpt41-mini-ft-all-norm', '1')",
         "rawType": "float64",
         "type": "float"
        }
       ],
       "ref": "6396ce7f-8d06-4605-80e4-988ccdf3ef22",
       "rows": [
        [
         "('dev-ara', 'v002')",
         "61.0",
         null,
         "61.0"
        ],
        [
         "('dev-deu', 'v002')",
         "32.0",
         null,
         "32.0"
        ],
        [
         "('dev-eng', 'v002')",
         "100.0",
         "100.0",
         "200.0"
        ],
        [
         "('dev-fra', 'v002')",
         "53.0",
         "53.0",
         "53.0"
        ],
        [
         "('dev-hi', 'v002')",
         "17.0",
         null,
         "17.0"
        ],
        [
         "('dev-mr', 'v002')",
         "21.0",
         null,
         "21.0"
        ],
        [
         "('dev-msa', 'v002')",
         "20.0",
         null,
         "20.0"
        ],
        [
         "('dev-pa', 'v002')",
         "15.0",
         null,
         "15.0"
        ],
        [
         "('dev-pol', 'v002')",
         "12.0",
         "12.0",
         "12.0"
        ],
        [
         "('dev-por', 'v002')",
         "66.0",
         null,
         "66.0"
        ],
        [
         "('dev-spa', 'v002')",
         "100.0",
         "100.0",
         "100.0"
        ],
        [
         "('dev-ta', 'v002')",
         "25.0",
         null,
         "25.0"
        ],
        [
         "('dev-tha', 'v002')",
         "24.0",
         null,
         "24.0"
        ]
       ],
       "shape": {
        "columns": 3,
        "rows": 13
       }
      },
      "text/html": [
       "<div>\n",
       "<style scoped>\n",
       "    .dataframe tbody tr th:only-of-type {\n",
       "        vertical-align: middle;\n",
       "    }\n",
       "\n",
       "    .dataframe tbody tr th {\n",
       "        vertical-align: top;\n",
       "    }\n",
       "\n",
       "    .dataframe thead tr th {\n",
       "        text-align: left;\n",
       "    }\n",
       "\n",
       "    .dataframe thead tr:last-of-type th {\n",
       "        text-align: right;\n",
       "    }\n",
       "</style>\n",
       "<table border=\"1\" class=\"dataframe\">\n",
       "  <thead>\n",
       "    <tr>\n",
       "      <th></th>\n",
       "      <th>model_name</th>\n",
       "      <th>deepseek-r1:8b</th>\n",
       "      <th>gpt-4.1-mini</th>\n",
       "      <th>gpt41-mini-ft-all-norm</th>\n",
       "    </tr>\n",
       "    <tr>\n",
       "      <th></th>\n",
       "      <th>max_iterations</th>\n",
       "      <th>3</th>\n",
       "      <th>1</th>\n",
       "      <th>1</th>\n",
       "    </tr>\n",
       "    <tr>\n",
       "      <th>lang</th>\n",
       "      <th>prompt_version</th>\n",
       "      <th></th>\n",
       "      <th></th>\n",
       "      <th></th>\n",
       "    </tr>\n",
       "  </thead>\n",
       "  <tbody>\n",
       "    <tr>\n",
       "      <th>dev-ara</th>\n",
       "      <th>v002</th>\n",
       "      <td>61.0</td>\n",
       "      <td>NaN</td>\n",
       "      <td>61.0</td>\n",
       "    </tr>\n",
       "    <tr>\n",
       "      <th>dev-deu</th>\n",
       "      <th>v002</th>\n",
       "      <td>32.0</td>\n",
       "      <td>NaN</td>\n",
       "      <td>32.0</td>\n",
       "    </tr>\n",
       "    <tr>\n",
       "      <th>dev-eng</th>\n",
       "      <th>v002</th>\n",
       "      <td>100.0</td>\n",
       "      <td>100.0</td>\n",
       "      <td>200.0</td>\n",
       "    </tr>\n",
       "    <tr>\n",
       "      <th>dev-fra</th>\n",
       "      <th>v002</th>\n",
       "      <td>53.0</td>\n",
       "      <td>53.0</td>\n",
       "      <td>53.0</td>\n",
       "    </tr>\n",
       "    <tr>\n",
       "      <th>dev-hi</th>\n",
       "      <th>v002</th>\n",
       "      <td>17.0</td>\n",
       "      <td>NaN</td>\n",
       "      <td>17.0</td>\n",
       "    </tr>\n",
       "    <tr>\n",
       "      <th>dev-mr</th>\n",
       "      <th>v002</th>\n",
       "      <td>21.0</td>\n",
       "      <td>NaN</td>\n",
       "      <td>21.0</td>\n",
       "    </tr>\n",
       "    <tr>\n",
       "      <th>dev-msa</th>\n",
       "      <th>v002</th>\n",
       "      <td>20.0</td>\n",
       "      <td>NaN</td>\n",
       "      <td>20.0</td>\n",
       "    </tr>\n",
       "    <tr>\n",
       "      <th>dev-pa</th>\n",
       "      <th>v002</th>\n",
       "      <td>15.0</td>\n",
       "      <td>NaN</td>\n",
       "      <td>15.0</td>\n",
       "    </tr>\n",
       "    <tr>\n",
       "      <th>dev-pol</th>\n",
       "      <th>v002</th>\n",
       "      <td>12.0</td>\n",
       "      <td>12.0</td>\n",
       "      <td>12.0</td>\n",
       "    </tr>\n",
       "    <tr>\n",
       "      <th>dev-por</th>\n",
       "      <th>v002</th>\n",
       "      <td>66.0</td>\n",
       "      <td>NaN</td>\n",
       "      <td>66.0</td>\n",
       "    </tr>\n",
       "    <tr>\n",
       "      <th>dev-spa</th>\n",
       "      <th>v002</th>\n",
       "      <td>100.0</td>\n",
       "      <td>100.0</td>\n",
       "      <td>100.0</td>\n",
       "    </tr>\n",
       "    <tr>\n",
       "      <th>dev-ta</th>\n",
       "      <th>v002</th>\n",
       "      <td>25.0</td>\n",
       "      <td>NaN</td>\n",
       "      <td>25.0</td>\n",
       "    </tr>\n",
       "    <tr>\n",
       "      <th>dev-tha</th>\n",
       "      <th>v002</th>\n",
       "      <td>24.0</td>\n",
       "      <td>NaN</td>\n",
       "      <td>24.0</td>\n",
       "    </tr>\n",
       "  </tbody>\n",
       "</table>\n",
       "</div>"
      ],
      "text/plain": [
       "model_name             deepseek-r1:8b gpt-4.1-mini gpt41-mini-ft-all-norm\n",
       "max_iterations                      3            1                      1\n",
       "lang    prompt_version                                                   \n",
       "dev-ara v002                     61.0          NaN                   61.0\n",
       "dev-deu v002                     32.0          NaN                   32.0\n",
       "dev-eng v002                    100.0        100.0                  200.0\n",
       "dev-fra v002                     53.0         53.0                   53.0\n",
       "dev-hi  v002                     17.0          NaN                   17.0\n",
       "dev-mr  v002                     21.0          NaN                   21.0\n",
       "dev-msa v002                     20.0          NaN                   20.0\n",
       "dev-pa  v002                     15.0          NaN                   15.0\n",
       "dev-pol v002                     12.0         12.0                   12.0\n",
       "dev-por v002                     66.0          NaN                   66.0\n",
       "dev-spa v002                    100.0        100.0                  100.0\n",
       "dev-ta  v002                     25.0          NaN                   25.0\n",
       "dev-tha v002                     24.0          NaN                   24.0"
      ]
     },
     "execution_count": 19,
     "metadata": {},
     "output_type": "execute_result"
    }
   ],
   "source": [
    "pivot_df = combined_df.pivot_table(\n",
    "    index=[\n",
    "        \"lang\",\n",
    "        \"prompt_version\",\n",
    "    ],\n",
    "    columns=[\"model_name\", \"max_iterations\"],\n",
    "    values=\"text\",\n",
    "    aggfunc=\"count\",\n",
    ")\n",
    "# pivot_df = pivot_df[[\"train\", \"dev\", \"test\"]]\n",
    "# pivot_df[\"zero\"] = pivot_df.train.isna()\n",
    "# pivot_df = (\n",
    "#     pivot_df.sort_values([\"zero\", \"train\"], ascending=[True, False])\n",
    "#     .drop(columns=\"zero\")\n",
    "#     .reset_index()\n",
    "# )\n",
    "pivot_df"
   ]
  }
 ],
 "metadata": {
  "kernelspec": {
   "display_name": ".venv",
   "language": "python",
   "name": "python3"
  },
  "language_info": {
   "codemirror_mode": {
    "name": "ipython",
    "version": 3
   },
   "file_extension": ".py",
   "mimetype": "text/x-python",
   "name": "python",
   "nbconvert_exporter": "python",
   "pygments_lexer": "ipython3",
   "version": "3.12.9"
  }
 },
 "nbformat": 4,
 "nbformat_minor": 5
}
