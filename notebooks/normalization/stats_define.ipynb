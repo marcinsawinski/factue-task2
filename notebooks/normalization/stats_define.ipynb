{
 "cells": [
  {
   "cell_type": "code",
   "execution_count": 1,
   "id": "f0589201",
   "metadata": {},
   "outputs": [],
   "source": [
    "%load_ext autoreload\n",
    "%autoreload 2"
   ]
  },
  {
   "cell_type": "code",
   "execution_count": 2,
   "id": "bc303d0a",
   "metadata": {},
   "outputs": [],
   "source": [
    "# wd = '/mnt/openfact/users/msawinski/factue-task2'\n",
    "wd = '/Users/marcinsawinski/Documents/GitHub/factue-task2'\n",
    "import sys, os\n",
    "os.chdir(wd)"
   ]
  },
  {
   "cell_type": "code",
   "execution_count": 3,
   "id": "d22b5d44",
   "metadata": {},
   "outputs": [],
   "source": [
    "import pandas as pd\n",
    "from pathlib import Path\n",
    "import os\n",
    "from factue.utils.viz import disp\n",
    "import numpy as np"
   ]
  },
  {
   "cell_type": "markdown",
   "id": "9670c0fe",
   "metadata": {},
   "source": [
    "# judge\n"
   ]
  },
  {
   "cell_type": "code",
   "execution_count": 4,
   "id": "babd803f",
   "metadata": {},
   "outputs": [
    {
     "data": {
      "text/plain": [
       "split\n",
       "dev    3\n",
       "Name: count, dtype: int64"
      ]
     },
     "execution_count": 4,
     "metadata": {},
     "output_type": "execute_result"
    }
   ],
   "source": [
    "\n",
    "root = Path(\"data/llm_output/normalization/define\")\n",
    "# Example path template\n",
    "files = root.rglob(\"LLAMA_31_8B/**/*.parquet\")\n",
    "\n",
    "# Read all files and add file path as a column\n",
    "df_list = []\n",
    "for f in files:\n",
    "    df_part = pd.read_parquet(f)\n",
    "    df_part['source_file'] = f  # add the file path\n",
    "    df_list.append(df_part)\n",
    "\n",
    "# Combine into one DataFrame\n",
    "df = pd.concat(df_list, ignore_index=True)\n",
    "df['split'] = df.source_file.astype(str).str.split('/',expand=True)[7]\n",
    "# df['init_part_no'] = df.source_file.astype(str).str.split('/',expand=True)[9].str.split('_',expand=True)[1].str.split('.',expand=True)[0].astype(int)\n",
    "df['lang'] = df.source_file.astype(str).str.split('/',expand=True)[8]\n",
    "df['split'].value_counts()"
   ]
  },
  {
   "cell_type": "code",
   "execution_count": 5,
   "id": "95bc9b6e",
   "metadata": {},
   "outputs": [
    {
     "data": {
      "application/vnd.microsoft.datawrangler.viewer.v0+json": {
       "columns": [
        {
         "name": "index",
         "rawType": "int64",
         "type": "integer"
        },
        {
         "name": "text",
         "rawType": "object",
         "type": "string"
        },
        {
         "name": "reference",
         "rawType": "object",
         "type": "string"
        },
        {
         "name": "claim",
         "rawType": "object",
         "type": "string"
        },
        {
         "name": "split",
         "rawType": "object",
         "type": "string"
        },
        {
         "name": "lang",
         "rawType": "object",
         "type": "string"
        },
        {
         "name": "output_id",
         "rawType": "object",
         "type": "string"
        },
        {
         "name": "prompt_name",
         "rawType": "object",
         "type": "string"
        },
        {
         "name": "prompt_version",
         "rawType": "object",
         "type": "string"
        },
        {
         "name": "job",
         "rawType": "object",
         "type": "string"
        },
        {
         "name": "step",
         "rawType": "object",
         "type": "string"
        },
        {
         "name": "max_iterations",
         "rawType": "int64",
         "type": "integer"
        },
        {
         "name": "temperature",
         "rawType": "float64",
         "type": "float"
        },
        {
         "name": "model_provider",
         "rawType": "object",
         "type": "string"
        },
        {
         "name": "model_name",
         "rawType": "object",
         "type": "string"
        },
        {
         "name": "model_mode",
         "rawType": "object",
         "type": "string"
        },
        {
         "name": "think_content",
         "rawType": "object",
         "type": "unknown"
        },
        {
         "name": "raw",
         "rawType": "object",
         "type": "unknown"
        },
        {
         "name": "plain_content",
         "rawType": "object",
         "type": "unknown"
        },
        {
         "name": "definition_base",
         "rawType": "object",
         "type": "unknown"
        },
        {
         "name": "definition_prev",
         "rawType": "object",
         "type": "unknown"
        },
        {
         "name": "is_valid",
         "rawType": "object",
         "type": "unknown"
        },
        {
         "name": "status",
         "rawType": "object",
         "type": "unknown"
        },
        {
         "name": "definition_update",
         "rawType": "object",
         "type": "string"
        },
        {
         "name": "source_file",
         "rawType": "object",
         "type": "unknown"
        }
       ],
       "conversionMethod": "pd.DataFrame",
       "ref": "48e5cfee-37e0-47c0-afa3-ff891c9ffec6",
       "rows": [
        [
         "0",
         "Sikh with no mustache in Delhi farmers protest. According to astronomy such an event happens once in a century",
         "'Sardar with no mustache' involved in farmers protest",
         "A Sikh appeared at the Delhi farmers protest without a mustache, which according to astronomy is a rare event that occurs once in a century.",
         "dev",
         "dev-eng",
         "",
         "default",
         "v001",
         "normalization",
         "define",
         "1",
         "0.0",
         "ollama",
         "llama3.1:8b",
         "chat",
         "[None]",
         "['Use only information from the post (minimal clarification allowed).\\nDo not add or infer new facts, entities, or context.\\nMaintain intended meaning, even if factually incorrect.\\nMaintain important details regarding Who, What, Where, When and Why of a story if present in the post.\\nRetain original phrasing where possible; remove filler.\\nPreserve named entities exactly as written. (Note: Ensure \"Sikh\" is maintained over \"Sardar\", which may be a colloquialism)\\nUse clear, formal, neutral language without hashtag signs or emojis.\\nRemove personal, emotional, or subjective qualifiers (e.g., “my,” “beloved,” “brave,” “evil”) to maintain a neutral and factual tone.\\nExpand acronyms unless part of an official name.\\nKeep numerical values unchanged.\\nIf multiple facts, select the most important one.\\nConsider alternative titles or descriptors for named entities in formal language when necessary.\\nAccount for colloquialisms, abbreviations, or figurative language that may deviate from strict factuality.']",
         "['Use only information from the post (minimal clarification allowed).\\nDo not add or infer new facts, entities, or context.\\nMaintain intended meaning, even if factually incorrect.\\nMaintain important details regarding Who, What, Where, When and Why of a story if present in the post.\\nRetain original phrasing where possible; remove filler.\\nPreserve named entities exactly as written. (Note: Ensure \"Sikh\" is maintained over \"Sardar\", which may be a colloquialism)\\nUse clear, formal, neutral language without hashtag signs or emojis.\\nRemove personal, emotional, or subjective qualifiers (e.g., “my,” “beloved,” “brave,” “evil”) to maintain a neutral and factual tone.\\nExpand acronyms unless part of an official name.\\nKeep numerical values unchanged.\\nIf multiple facts, select the most important one.\\nConsider alternative titles or descriptors for named entities in formal language when necessary.\\nAccount for colloquialisms, abbreviations, or figurative language that may deviate from strict factuality.']",
         "['- Use only information from the post (minimal clarification allowed)\\n- Do not add or infer new facts, entities, or context\\n- Maintain intended meaning, even if factually incorrect\\n- Maintain important details regarding Who, What, Where, When and Why of a story if present in the post\\n- Retain original phrasing where possible; remove filler\\n- Preserve named entities exactly as written\\n- Use clear, formal, neutral language without hashtag signs or emojis\\n- Remove personal, emotional, or subjective qualifiers (e.g., “my,” “beloved,” “brave,” “evil”) to maintain a neutral and factual tone.\\n- Expand acronyms unless part of an official name\\n- Keep numerical values unchanged\\n- If multiple facts, select the most important one\\n- Keep same language as the post']",
         "['- Use only information from the post (minimal clarification allowed)\\n- Do not add or infer new facts, entities, or context\\n- Maintain intended meaning, even if factually incorrect\\n- Maintain important details regarding Who, What, Where, When and Why of a story if present in the post\\n- Retain original phrasing where possible; remove filler\\n- Preserve named entities exactly as written\\n- Use clear, formal, neutral language without hashtag signs or emojis\\n- Remove personal, emotional, or subjective qualifiers (e.g., “my,” “beloved,” “brave,” “evil”) to maintain a neutral and factual tone.\\n- Expand acronyms unless part of an official name\\n- Keep numerical values unchanged\\n- If multiple facts, select the most important one\\n- Keep same language as the post']",
         "[ True]",
         "['no validation']",
         "Use only information from the post (minimal clarification allowed).\nDo not add or infer new facts, entities, or context.\nMaintain intended meaning, even if factually incorrect.\nMaintain important details regarding Who, What, Where, When and Why of a story if present in the post.\nRetain original phrasing where possible; remove filler.\nPreserve named entities exactly as written. (Note: Ensure \"Sikh\" is maintained over \"Sardar\", which may be a colloquialism)\nUse clear, formal, neutral language without hashtag signs or emojis.\nRemove personal, emotional, or subjective qualifiers (e.g., “my,” “beloved,” “brave,” “evil”) to maintain a neutral and factual tone.\nExpand acronyms unless part of an official name.\nKeep numerical values unchanged.\nIf multiple facts, select the most important one.\nConsider alternative titles or descriptors for named entities in formal language when necessary.\nAccount for colloquialisms, abbreviations, or figurative language that may deviate from strict factuality.",
         "data/llm_output/normalization/define/LLAMA_31_8B/v001/default/dev/dev-eng/dev-eng_part_0000.parquet"
        ],
        [
         "1",
         "The government advice is not to challenge people to wear a face covering. This is for GOOD REASON. If you do so, you and your employees may be PERSONALLY LIABLE for AN OFFENCE liable on a summary conviction to pay a fine of up £5,000 - section 112 (Aiding contraventions) of the Equality Act 2010. \n\n“AN ACT OF DISABILITY DISCRIMINATION and be ordered to pay any individual who suffers injury to feelings compensation between £900 and £9,000 - section 119 (Remedies) of the Equality Act 2010 [sic].",
         "The government advice is not to challenge someone who is not wearing a face covering.",
         "Challenging people to wear face coverings may result in a fine of up to £5,000 and compensation payments for disability discrimination.",
         "dev",
         "dev-eng",
         "",
         "default",
         "v001",
         "normalization",
         "define",
         "1",
         "0.0",
         "ollama",
         "llama3.1:8b",
         "chat",
         "[None]",
         "['Use only information from the post (minimal clarification allowed).\\nDo not add or infer new facts, entities, or context.\\nMaintain intended meaning, even if factually incorrect.\\nMaintain important details regarding Who, What, Where, When and Why of a story if present in the post.\\nRetain original phrasing where possible; remove filler.\\nPreserve named entities exactly as written.\\nUse clear, formal, neutral language without hashtag signs or emojis.\\nRemove personal, emotional, or subjective qualifiers (e.g., “my,” “beloved,” “brave,” “evil”) to maintain a neutral and factual tone.\\nExpand acronyms unless part of an official name.\\nKeep numerical values unchanged.\\nIf multiple facts, select the most important one.\\nConsider alternative titles or descriptors for named entities in formal language when necessary.\\nAccount for colloquialisms, abbreviations, or figurative language that may deviate from strict factuality.\\nWhen specifying consequences, prioritize specific laws and sections mentioned (e.g., section 112 of the Equality Act 2010) over general descriptions (e.g., \"fine\" instead of \"liable on a summary conviction to pay a fine\").\\nDo not conflate or merge separate consequences into a single statement; maintain distinct details regarding fines and compensation payments.\\nWhen describing potential liabilities, focus on who is at risk (e.g., \"you and your employees\") rather than assuming general applicability.']",
         "['Use only information from the post (minimal clarification allowed).\\nDo not add or infer new facts, entities, or context.\\nMaintain intended meaning, even if factually incorrect.\\nMaintain important details regarding Who, What, Where, When and Why of a story if present in the post.\\nRetain original phrasing where possible; remove filler.\\nPreserve named entities exactly as written.\\nUse clear, formal, neutral language without hashtag signs or emojis.\\nRemove personal, emotional, or subjective qualifiers (e.g., “my,” “beloved,” “brave,” “evil”) to maintain a neutral and factual tone.\\nExpand acronyms unless part of an official name.\\nKeep numerical values unchanged.\\nIf multiple facts, select the most important one.\\nConsider alternative titles or descriptors for named entities in formal language when necessary.\\nAccount for colloquialisms, abbreviations, or figurative language that may deviate from strict factuality.\\nWhen specifying consequences, prioritize specific laws and sections mentioned (e.g., section 112 of the Equality Act 2010) over general descriptions (e.g., \"fine\" instead of \"liable on a summary conviction to pay a fine\").\\nDo not conflate or merge separate consequences into a single statement; maintain distinct details regarding fines and compensation payments.\\nWhen describing potential liabilities, focus on who is at risk (e.g., \"you and your employees\") rather than assuming general applicability.']",
         "['- Use only information from the post (minimal clarification allowed)\\n- Do not add or infer new facts, entities, or context\\n- Maintain intended meaning, even if factually incorrect\\n- Maintain important details regarding Who, What, Where, When and Why of a story if present in the post\\n- Retain original phrasing where possible; remove filler\\n- Preserve named entities exactly as written\\n- Use clear, formal, neutral language without hashtag signs or emojis\\n- Remove personal, emotional, or subjective qualifiers (e.g., “my,” “beloved,” “brave,” “evil”) to maintain a neutral and factual tone.\\n- Expand acronyms unless part of an official name\\n- Keep numerical values unchanged\\n- If multiple facts, select the most important one\\n- Keep same language as the post']",
         "['Use only information from the post (minimal clarification allowed).\\nDo not add or infer new facts, entities, or context.\\nMaintain intended meaning, even if factually incorrect.\\nMaintain important details regarding Who, What, Where, When and Why of a story if present in the post.\\nRetain original phrasing where possible; remove filler.\\nPreserve named entities exactly as written. (Note: Ensure \"Sikh\" is maintained over \"Sardar\", which may be a colloquialism)\\nUse clear, formal, neutral language without hashtag signs or emojis.\\nRemove personal, emotional, or subjective qualifiers (e.g., “my,” “beloved,” “brave,” “evil”) to maintain a neutral and factual tone.\\nExpand acronyms unless part of an official name.\\nKeep numerical values unchanged.\\nIf multiple facts, select the most important one.\\nConsider alternative titles or descriptors for named entities in formal language when necessary.\\nAccount for colloquialisms, abbreviations, or figurative language that may deviate from strict factuality.']",
         "[ True]",
         "['no validation']",
         "Use only information from the post (minimal clarification allowed).\nDo not add or infer new facts, entities, or context.\nMaintain intended meaning, even if factually incorrect.\nMaintain important details regarding Who, What, Where, When and Why of a story if present in the post.\nRetain original phrasing where possible; remove filler.\nPreserve named entities exactly as written.\nUse clear, formal, neutral language without hashtag signs or emojis.\nRemove personal, emotional, or subjective qualifiers (e.g., “my,” “beloved,” “brave,” “evil”) to maintain a neutral and factual tone.\nExpand acronyms unless part of an official name.\nKeep numerical values unchanged.\nIf multiple facts, select the most important one.\nConsider alternative titles or descriptors for named entities in formal language when necessary.\nAccount for colloquialisms, abbreviations, or figurative language that may deviate from strict factuality.\nWhen specifying consequences, prioritize specific laws and sections mentioned (e.g., section 112 of the Equality Act 2010) over general descriptions (e.g., \"fine\" instead of \"liable on a summary conviction to pay a fine\").\nDo not conflate or merge separate consequences into a single statement; maintain distinct details regarding fines and compensation payments.\nWhen describing potential liabilities, focus on who is at risk (e.g., \"you and your employees\") rather than assuming general applicability.",
         "data/llm_output/normalization/define/LLAMA_31_8B/v001/default/dev/dev-eng/dev-eng_part_0000.parquet"
        ],
        [
         "2",
         "Will our BJP\ngovernment return in 2024!!!",
         "Will our BJP government return in 2024",
         "The BJP government will return in 2024!!!",
         "dev",
         "dev-eng",
         "",
         "default",
         "v001",
         "normalization",
         "define",
         "1",
         "0.0",
         "ollama",
         "llama3.1:8b",
         "chat",
         "[None]",
         "['Use only information from the post (minimal clarification allowed).\\nDo not add or infer new facts, entities, or context.\\nMaintain intended meaning, even if factually incorrect.\\nMaintain important details regarding Who, What, Where, When and Why of a story if present in the post.\\nRetain original phrasing where possible; remove filler.\\nPreserve named entities exactly as written (e.g., \\'BJP\\' should not be replaced with its full form).\\nUse clear, formal, neutral language without hashtag signs or emojis.\\nRemove personal, emotional, or subjective qualifiers (e.g., \"my,\" \"beloved,\" \"brave,\" \"evil\") to maintain a neutral and factual tone.\\nExpand acronyms unless part of an official name.\\nKeep numerical values unchanged.\\nIf multiple facts, select the most important one.\\nConsider alternative titles or descriptors for named entities in formal language when necessary (e.g., avoid using informal party abbreviations).\\nAccount for colloquialisms, abbreviations, or figurative language that may deviate from strict factuality.\\nWhen specifying consequences, prioritize specific laws and sections mentioned (e.g., section 112 of the Equality Act 2010) over general descriptions (e.g., \"fine\" instead of \"liable on a summary conviction to pay a fine\").\\nDo not conflate or merge separate consequences into a single statement; maintain distinct details regarding fines and compensation payments.\\nWhen describing potential liabilities, focus on who is at risk (e.g., \"you and your employees\") rather than assuming general applicability.\\nRemove excessive punctuation and capitalization, as they do not add to the factual content of the claim.']",
         "['Use only information from the post (minimal clarification allowed).\\nDo not add or infer new facts, entities, or context.\\nMaintain intended meaning, even if factually incorrect.\\nMaintain important details regarding Who, What, Where, When and Why of a story if present in the post.\\nRetain original phrasing where possible; remove filler.\\nPreserve named entities exactly as written (e.g., \\'BJP\\' should not be replaced with its full form).\\nUse clear, formal, neutral language without hashtag signs or emojis.\\nRemove personal, emotional, or subjective qualifiers (e.g., \"my,\" \"beloved,\" \"brave,\" \"evil\") to maintain a neutral and factual tone.\\nExpand acronyms unless part of an official name.\\nKeep numerical values unchanged.\\nIf multiple facts, select the most important one.\\nConsider alternative titles or descriptors for named entities in formal language when necessary (e.g., avoid using informal party abbreviations).\\nAccount for colloquialisms, abbreviations, or figurative language that may deviate from strict factuality.\\nWhen specifying consequences, prioritize specific laws and sections mentioned (e.g., section 112 of the Equality Act 2010) over general descriptions (e.g., \"fine\" instead of \"liable on a summary conviction to pay a fine\").\\nDo not conflate or merge separate consequences into a single statement; maintain distinct details regarding fines and compensation payments.\\nWhen describing potential liabilities, focus on who is at risk (e.g., \"you and your employees\") rather than assuming general applicability.\\nRemove excessive punctuation and capitalization, as they do not add to the factual content of the claim.']",
         "['- Use only information from the post (minimal clarification allowed)\\n- Do not add or infer new facts, entities, or context\\n- Maintain intended meaning, even if factually incorrect\\n- Maintain important details regarding Who, What, Where, When and Why of a story if present in the post\\n- Retain original phrasing where possible; remove filler\\n- Preserve named entities exactly as written\\n- Use clear, formal, neutral language without hashtag signs or emojis\\n- Remove personal, emotional, or subjective qualifiers (e.g., “my,” “beloved,” “brave,” “evil”) to maintain a neutral and factual tone.\\n- Expand acronyms unless part of an official name\\n- Keep numerical values unchanged\\n- If multiple facts, select the most important one\\n- Keep same language as the post']",
         "['Use only information from the post (minimal clarification allowed).\\nDo not add or infer new facts, entities, or context.\\nMaintain intended meaning, even if factually incorrect.\\nMaintain important details regarding Who, What, Where, When and Why of a story if present in the post.\\nRetain original phrasing where possible; remove filler.\\nPreserve named entities exactly as written.\\nUse clear, formal, neutral language without hashtag signs or emojis.\\nRemove personal, emotional, or subjective qualifiers (e.g., “my,” “beloved,” “brave,” “evil”) to maintain a neutral and factual tone.\\nExpand acronyms unless part of an official name.\\nKeep numerical values unchanged.\\nIf multiple facts, select the most important one.\\nConsider alternative titles or descriptors for named entities in formal language when necessary.\\nAccount for colloquialisms, abbreviations, or figurative language that may deviate from strict factuality.\\nWhen specifying consequences, prioritize specific laws and sections mentioned (e.g., section 112 of the Equality Act 2010) over general descriptions (e.g., \"fine\" instead of \"liable on a summary conviction to pay a fine\").\\nDo not conflate or merge separate consequences into a single statement; maintain distinct details regarding fines and compensation payments.\\nWhen describing potential liabilities, focus on who is at risk (e.g., \"you and your employees\") rather than assuming general applicability.']",
         "[ True]",
         "['no validation']",
         "Use only information from the post (minimal clarification allowed).\nDo not add or infer new facts, entities, or context.\nMaintain intended meaning, even if factually incorrect.\nMaintain important details regarding Who, What, Where, When and Why of a story if present in the post.\nRetain original phrasing where possible; remove filler.\nPreserve named entities exactly as written (e.g., 'BJP' should not be replaced with its full form).\nUse clear, formal, neutral language without hashtag signs or emojis.\nRemove personal, emotional, or subjective qualifiers (e.g., \"my,\" \"beloved,\" \"brave,\" \"evil\") to maintain a neutral and factual tone.\nExpand acronyms unless part of an official name.\nKeep numerical values unchanged.\nIf multiple facts, select the most important one.\nConsider alternative titles or descriptors for named entities in formal language when necessary (e.g., avoid using informal party abbreviations).\nAccount for colloquialisms, abbreviations, or figurative language that may deviate from strict factuality.\nWhen specifying consequences, prioritize specific laws and sections mentioned (e.g., section 112 of the Equality Act 2010) over general descriptions (e.g., \"fine\" instead of \"liable on a summary conviction to pay a fine\").\nDo not conflate or merge separate consequences into a single statement; maintain distinct details regarding fines and compensation payments.\nWhen describing potential liabilities, focus on who is at risk (e.g., \"you and your employees\") rather than assuming general applicability.\nRemove excessive punctuation and capitalization, as they do not add to the factual content of the claim.",
         "data/llm_output/normalization/define/LLAMA_31_8B/v001/default/dev/dev-eng/dev-eng_part_0000.parquet"
        ]
       ],
       "shape": {
        "columns": 24,
        "rows": 3
       }
      },
      "text/html": [
       "<div>\n",
       "<style scoped>\n",
       "    .dataframe tbody tr th:only-of-type {\n",
       "        vertical-align: middle;\n",
       "    }\n",
       "\n",
       "    .dataframe tbody tr th {\n",
       "        vertical-align: top;\n",
       "    }\n",
       "\n",
       "    .dataframe thead th {\n",
       "        text-align: right;\n",
       "    }\n",
       "</style>\n",
       "<table border=\"1\" class=\"dataframe\">\n",
       "  <thead>\n",
       "    <tr style=\"text-align: right;\">\n",
       "      <th></th>\n",
       "      <th>text</th>\n",
       "      <th>reference</th>\n",
       "      <th>claim</th>\n",
       "      <th>split</th>\n",
       "      <th>lang</th>\n",
       "      <th>output_id</th>\n",
       "      <th>prompt_name</th>\n",
       "      <th>prompt_version</th>\n",
       "      <th>job</th>\n",
       "      <th>step</th>\n",
       "      <th>...</th>\n",
       "      <th>model_mode</th>\n",
       "      <th>think_content</th>\n",
       "      <th>raw</th>\n",
       "      <th>plain_content</th>\n",
       "      <th>definition_base</th>\n",
       "      <th>definition_prev</th>\n",
       "      <th>is_valid</th>\n",
       "      <th>status</th>\n",
       "      <th>definition_update</th>\n",
       "      <th>source_file</th>\n",
       "    </tr>\n",
       "  </thead>\n",
       "  <tbody>\n",
       "    <tr>\n",
       "      <th>0</th>\n",
       "      <td>Sikh with no mustache in Delhi farmers protest. According to astronomy such an event happens once in a century</td>\n",
       "      <td>'Sardar with no mustache' involved in farmers protest</td>\n",
       "      <td>A Sikh appeared at the Delhi farmers protest without a mustache, which according to astronomy is a rare event that occurs once in a century.</td>\n",
       "      <td>dev</td>\n",
       "      <td>dev-eng</td>\n",
       "      <td></td>\n",
       "      <td>default</td>\n",
       "      <td>v001</td>\n",
       "      <td>normalization</td>\n",
       "      <td>define</td>\n",
       "      <td>...</td>\n",
       "      <td>chat</td>\n",
       "      <td>[None]</td>\n",
       "      <td>[Use only information from the post (minimal clarification allowed).\\nDo not add or infer new facts, entities, or context.\\nMaintain intended meaning, even if factually incorrect.\\nMaintain import...</td>\n",
       "      <td>[Use only information from the post (minimal clarification allowed).\\nDo not add or infer new facts, entities, or context.\\nMaintain intended meaning, even if factually incorrect.\\nMaintain import...</td>\n",
       "      <td>[- Use only information from the post (minimal clarification allowed)\\n- Do not add or infer new facts, entities, or context\\n- Maintain intended meaning, even if factually incorrect\\n- Maintain i...</td>\n",
       "      <td>[- Use only information from the post (minimal clarification allowed)\\n- Do not add or infer new facts, entities, or context\\n- Maintain intended meaning, even if factually incorrect\\n- Maintain i...</td>\n",
       "      <td>[True]</td>\n",
       "      <td>[no validation]</td>\n",
       "      <td>Use only information from the post (minimal clarification allowed).\\nDo not add or infer new facts, entities, or context.\\nMaintain intended meaning, even if factually incorrect.\\nMaintain importa...</td>\n",
       "      <td>data/llm_output/normalization/define/LLAMA_31_8B/v001/default/dev/dev-eng/dev-eng_part_0000.parquet</td>\n",
       "    </tr>\n",
       "    <tr>\n",
       "      <th>1</th>\n",
       "      <td>The government advice is not to challenge people to wear a face covering. This is for GOOD REASON. If you do so, you and your employees may be PERSONALLY LIABLE for AN OFFENCE liable on a summary ...</td>\n",
       "      <td>The government advice is not to challenge someone who is not wearing a face covering.</td>\n",
       "      <td>Challenging people to wear face coverings may result in a fine of up to £5,000 and compensation payments for disability discrimination.</td>\n",
       "      <td>dev</td>\n",
       "      <td>dev-eng</td>\n",
       "      <td></td>\n",
       "      <td>default</td>\n",
       "      <td>v001</td>\n",
       "      <td>normalization</td>\n",
       "      <td>define</td>\n",
       "      <td>...</td>\n",
       "      <td>chat</td>\n",
       "      <td>[None]</td>\n",
       "      <td>[Use only information from the post (minimal clarification allowed).\\nDo not add or infer new facts, entities, or context.\\nMaintain intended meaning, even if factually incorrect.\\nMaintain import...</td>\n",
       "      <td>[Use only information from the post (minimal clarification allowed).\\nDo not add or infer new facts, entities, or context.\\nMaintain intended meaning, even if factually incorrect.\\nMaintain import...</td>\n",
       "      <td>[- Use only information from the post (minimal clarification allowed)\\n- Do not add or infer new facts, entities, or context\\n- Maintain intended meaning, even if factually incorrect\\n- Maintain i...</td>\n",
       "      <td>[Use only information from the post (minimal clarification allowed).\\nDo not add or infer new facts, entities, or context.\\nMaintain intended meaning, even if factually incorrect.\\nMaintain import...</td>\n",
       "      <td>[True]</td>\n",
       "      <td>[no validation]</td>\n",
       "      <td>Use only information from the post (minimal clarification allowed).\\nDo not add or infer new facts, entities, or context.\\nMaintain intended meaning, even if factually incorrect.\\nMaintain importa...</td>\n",
       "      <td>data/llm_output/normalization/define/LLAMA_31_8B/v001/default/dev/dev-eng/dev-eng_part_0000.parquet</td>\n",
       "    </tr>\n",
       "    <tr>\n",
       "      <th>2</th>\n",
       "      <td>Will our BJP\\ngovernment return in 2024!!!</td>\n",
       "      <td>Will our BJP government return in 2024</td>\n",
       "      <td>The BJP government will return in 2024!!!</td>\n",
       "      <td>dev</td>\n",
       "      <td>dev-eng</td>\n",
       "      <td></td>\n",
       "      <td>default</td>\n",
       "      <td>v001</td>\n",
       "      <td>normalization</td>\n",
       "      <td>define</td>\n",
       "      <td>...</td>\n",
       "      <td>chat</td>\n",
       "      <td>[None]</td>\n",
       "      <td>[Use only information from the post (minimal clarification allowed).\\nDo not add or infer new facts, entities, or context.\\nMaintain intended meaning, even if factually incorrect.\\nMaintain import...</td>\n",
       "      <td>[Use only information from the post (minimal clarification allowed).\\nDo not add or infer new facts, entities, or context.\\nMaintain intended meaning, even if factually incorrect.\\nMaintain import...</td>\n",
       "      <td>[- Use only information from the post (minimal clarification allowed)\\n- Do not add or infer new facts, entities, or context\\n- Maintain intended meaning, even if factually incorrect\\n- Maintain i...</td>\n",
       "      <td>[Use only information from the post (minimal clarification allowed).\\nDo not add or infer new facts, entities, or context.\\nMaintain intended meaning, even if factually incorrect.\\nMaintain import...</td>\n",
       "      <td>[True]</td>\n",
       "      <td>[no validation]</td>\n",
       "      <td>Use only information from the post (minimal clarification allowed).\\nDo not add or infer new facts, entities, or context.\\nMaintain intended meaning, even if factually incorrect.\\nMaintain importa...</td>\n",
       "      <td>data/llm_output/normalization/define/LLAMA_31_8B/v001/default/dev/dev-eng/dev-eng_part_0000.parquet</td>\n",
       "    </tr>\n",
       "  </tbody>\n",
       "</table>\n",
       "<p>3 rows × 24 columns</p>\n",
       "</div>"
      ],
      "text/plain": [
       "                                                                                                                                                                                                      text                                                                              reference                                                                                                                                         claim split     lang output_id prompt_name prompt_version            job    step  ...  model_mode  think_content                                                                                                                                                                                                      raw                                                                                                                                                                                            plain_content                                                                                                                                                                                          definition_base                                                                                                                                                                                          definition_prev is_valid           status                                                                                                                                                                                        definition_update                                                                                          source_file\n",
       "0                                                                                           Sikh with no mustache in Delhi farmers protest. According to astronomy such an event happens once in a century                                  'Sardar with no mustache' involved in farmers protest  A Sikh appeared at the Delhi farmers protest without a mustache, which according to astronomy is a rare event that occurs once in a century.   dev  dev-eng               default           v001  normalization  define  ...        chat         [None]  [Use only information from the post (minimal clarification allowed).\\nDo not add or infer new facts, entities, or context.\\nMaintain intended meaning, even if factually incorrect.\\nMaintain import...  [Use only information from the post (minimal clarification allowed).\\nDo not add or infer new facts, entities, or context.\\nMaintain intended meaning, even if factually incorrect.\\nMaintain import...  [- Use only information from the post (minimal clarification allowed)\\n- Do not add or infer new facts, entities, or context\\n- Maintain intended meaning, even if factually incorrect\\n- Maintain i...  [- Use only information from the post (minimal clarification allowed)\\n- Do not add or infer new facts, entities, or context\\n- Maintain intended meaning, even if factually incorrect\\n- Maintain i...   [True]  [no validation]  Use only information from the post (minimal clarification allowed).\\nDo not add or infer new facts, entities, or context.\\nMaintain intended meaning, even if factually incorrect.\\nMaintain importa...  data/llm_output/normalization/define/LLAMA_31_8B/v001/default/dev/dev-eng/dev-eng_part_0000.parquet\n",
       "1  The government advice is not to challenge people to wear a face covering. This is for GOOD REASON. If you do so, you and your employees may be PERSONALLY LIABLE for AN OFFENCE liable on a summary ...  The government advice is not to challenge someone who is not wearing a face covering.       Challenging people to wear face coverings may result in a fine of up to £5,000 and compensation payments for disability discrimination.   dev  dev-eng               default           v001  normalization  define  ...        chat         [None]  [Use only information from the post (minimal clarification allowed).\\nDo not add or infer new facts, entities, or context.\\nMaintain intended meaning, even if factually incorrect.\\nMaintain import...  [Use only information from the post (minimal clarification allowed).\\nDo not add or infer new facts, entities, or context.\\nMaintain intended meaning, even if factually incorrect.\\nMaintain import...  [- Use only information from the post (minimal clarification allowed)\\n- Do not add or infer new facts, entities, or context\\n- Maintain intended meaning, even if factually incorrect\\n- Maintain i...  [Use only information from the post (minimal clarification allowed).\\nDo not add or infer new facts, entities, or context.\\nMaintain intended meaning, even if factually incorrect.\\nMaintain import...   [True]  [no validation]  Use only information from the post (minimal clarification allowed).\\nDo not add or infer new facts, entities, or context.\\nMaintain intended meaning, even if factually incorrect.\\nMaintain importa...  data/llm_output/normalization/define/LLAMA_31_8B/v001/default/dev/dev-eng/dev-eng_part_0000.parquet\n",
       "2                                                                                                                                                               Will our BJP\\ngovernment return in 2024!!!                                                 Will our BJP government return in 2024                                                                                                     The BJP government will return in 2024!!!   dev  dev-eng               default           v001  normalization  define  ...        chat         [None]  [Use only information from the post (minimal clarification allowed).\\nDo not add or infer new facts, entities, or context.\\nMaintain intended meaning, even if factually incorrect.\\nMaintain import...  [Use only information from the post (minimal clarification allowed).\\nDo not add or infer new facts, entities, or context.\\nMaintain intended meaning, even if factually incorrect.\\nMaintain import...  [- Use only information from the post (minimal clarification allowed)\\n- Do not add or infer new facts, entities, or context\\n- Maintain intended meaning, even if factually incorrect\\n- Maintain i...  [Use only information from the post (minimal clarification allowed).\\nDo not add or infer new facts, entities, or context.\\nMaintain intended meaning, even if factually incorrect.\\nMaintain import...   [True]  [no validation]  Use only information from the post (minimal clarification allowed).\\nDo not add or infer new facts, entities, or context.\\nMaintain intended meaning, even if factually incorrect.\\nMaintain importa...  data/llm_output/normalization/define/LLAMA_31_8B/v001/default/dev/dev-eng/dev-eng_part_0000.parquet\n",
       "\n",
       "[3 rows x 24 columns]"
      ]
     },
     "execution_count": 5,
     "metadata": {},
     "output_type": "execute_result"
    }
   ],
   "source": [
    "df"
   ]
  },
  {
   "cell_type": "code",
   "execution_count": null,
   "id": "8fd6f5f9",
   "metadata": {},
   "outputs": [],
   "source": []
  },
  {
   "cell_type": "code",
   "execution_count": 10,
   "id": "a6a9483e",
   "metadata": {},
   "outputs": [
    {
     "data": {
      "application/vnd.microsoft.datawrangler.viewer.v0+json": {
       "columns": [
        {
         "name": "index",
         "rawType": "int64",
         "type": "integer"
        },
        {
         "name": "prompt_version",
         "rawType": "object",
         "type": "string"
        },
        {
         "name": "model_name",
         "rawType": "object",
         "type": "string"
        },
        {
         "name": "text",
         "rawType": "object",
         "type": "string"
        },
        {
         "name": "reference",
         "rawType": "object",
         "type": "string"
        },
        {
         "name": "claim",
         "rawType": "object",
         "type": "string"
        },
        {
         "name": "definition_base",
         "rawType": "object",
         "type": "unknown"
        },
        {
         "name": "definition_prev",
         "rawType": "object",
         "type": "unknown"
        },
        {
         "name": "definition_update",
         "rawType": "object",
         "type": "string"
        }
       ],
       "conversionMethod": "pd.DataFrame",
       "ref": "d3cae6fa-c8f3-4acc-8a62-45567beebb12",
       "rows": [
        [
         "0",
         "v001",
         "llama3.1:8b",
         "Sikh with no mustache in Delhi farmers protest. According to astronomy such an event happens once in a century",
         "'Sardar with no mustache' involved in farmers protest",
         "A Sikh appeared at the Delhi farmers protest without a mustache, which according to astronomy is a rare event that occurs once in a century.",
         "['- Use only information from the post (minimal clarification allowed)\\n- Do not add or infer new facts, entities, or context\\n- Maintain intended meaning, even if factually incorrect\\n- Maintain important details regarding Who, What, Where, When and Why of a story if present in the post\\n- Retain original phrasing where possible; remove filler\\n- Preserve named entities exactly as written\\n- Use clear, formal, neutral language without hashtag signs or emojis\\n- Remove personal, emotional, or subjective qualifiers (e.g., “my,” “beloved,” “brave,” “evil”) to maintain a neutral and factual tone.\\n- Expand acronyms unless part of an official name\\n- Keep numerical values unchanged\\n- If multiple facts, select the most important one\\n- Keep same language as the post']",
         "['- Use only information from the post (minimal clarification allowed)\\n- Do not add or infer new facts, entities, or context\\n- Maintain intended meaning, even if factually incorrect\\n- Maintain important details regarding Who, What, Where, When and Why of a story if present in the post\\n- Retain original phrasing where possible; remove filler\\n- Preserve named entities exactly as written\\n- Use clear, formal, neutral language without hashtag signs or emojis\\n- Remove personal, emotional, or subjective qualifiers (e.g., “my,” “beloved,” “brave,” “evil”) to maintain a neutral and factual tone.\\n- Expand acronyms unless part of an official name\\n- Keep numerical values unchanged\\n- If multiple facts, select the most important one\\n- Keep same language as the post']",
         "Use only information from the post (minimal clarification allowed).\nDo not add or infer new facts, entities, or context.\nMaintain intended meaning, even if factually incorrect.\nMaintain important details regarding Who, What, Where, When and Why of a story if present in the post.\nRetain original phrasing where possible; remove filler.\nPreserve named entities exactly as written. (Note: Ensure \"Sikh\" is maintained over \"Sardar\", which may be a colloquialism)\nUse clear, formal, neutral language without hashtag signs or emojis.\nRemove personal, emotional, or subjective qualifiers (e.g., “my,” “beloved,” “brave,” “evil”) to maintain a neutral and factual tone.\nExpand acronyms unless part of an official name.\nKeep numerical values unchanged.\nIf multiple facts, select the most important one.\nConsider alternative titles or descriptors for named entities in formal language when necessary.\nAccount for colloquialisms, abbreviations, or figurative language that may deviate from strict factuality."
        ],
        [
         "1",
         "v001",
         "llama3.1:8b",
         "The government advice is not to challenge people to wear a face covering. This is for GOOD REASON. If you do so, you and your employees may be PERSONALLY LIABLE for AN OFFENCE liable on a summary conviction to pay a fine of up £5,000 - section 112 (Aiding contraventions) of the Equality Act 2010. \n\n“AN ACT OF DISABILITY DISCRIMINATION and be ordered to pay any individual who suffers injury to feelings compensation between £900 and £9,000 - section 119 (Remedies) of the Equality Act 2010 [sic].",
         "The government advice is not to challenge someone who is not wearing a face covering.",
         "Challenging people to wear face coverings may result in a fine of up to £5,000 and compensation payments for disability discrimination.",
         "['- Use only information from the post (minimal clarification allowed)\\n- Do not add or infer new facts, entities, or context\\n- Maintain intended meaning, even if factually incorrect\\n- Maintain important details regarding Who, What, Where, When and Why of a story if present in the post\\n- Retain original phrasing where possible; remove filler\\n- Preserve named entities exactly as written\\n- Use clear, formal, neutral language without hashtag signs or emojis\\n- Remove personal, emotional, or subjective qualifiers (e.g., “my,” “beloved,” “brave,” “evil”) to maintain a neutral and factual tone.\\n- Expand acronyms unless part of an official name\\n- Keep numerical values unchanged\\n- If multiple facts, select the most important one\\n- Keep same language as the post']",
         "['Use only information from the post (minimal clarification allowed).\\nDo not add or infer new facts, entities, or context.\\nMaintain intended meaning, even if factually incorrect.\\nMaintain important details regarding Who, What, Where, When and Why of a story if present in the post.\\nRetain original phrasing where possible; remove filler.\\nPreserve named entities exactly as written. (Note: Ensure \"Sikh\" is maintained over \"Sardar\", which may be a colloquialism)\\nUse clear, formal, neutral language without hashtag signs or emojis.\\nRemove personal, emotional, or subjective qualifiers (e.g., “my,” “beloved,” “brave,” “evil”) to maintain a neutral and factual tone.\\nExpand acronyms unless part of an official name.\\nKeep numerical values unchanged.\\nIf multiple facts, select the most important one.\\nConsider alternative titles or descriptors for named entities in formal language when necessary.\\nAccount for colloquialisms, abbreviations, or figurative language that may deviate from strict factuality.']",
         "Use only information from the post (minimal clarification allowed).\nDo not add or infer new facts, entities, or context.\nMaintain intended meaning, even if factually incorrect.\nMaintain important details regarding Who, What, Where, When and Why of a story if present in the post.\nRetain original phrasing where possible; remove filler.\nPreserve named entities exactly as written.\nUse clear, formal, neutral language without hashtag signs or emojis.\nRemove personal, emotional, or subjective qualifiers (e.g., “my,” “beloved,” “brave,” “evil”) to maintain a neutral and factual tone.\nExpand acronyms unless part of an official name.\nKeep numerical values unchanged.\nIf multiple facts, select the most important one.\nConsider alternative titles or descriptors for named entities in formal language when necessary.\nAccount for colloquialisms, abbreviations, or figurative language that may deviate from strict factuality.\nWhen specifying consequences, prioritize specific laws and sections mentioned (e.g., section 112 of the Equality Act 2010) over general descriptions (e.g., \"fine\" instead of \"liable on a summary conviction to pay a fine\").\nDo not conflate or merge separate consequences into a single statement; maintain distinct details regarding fines and compensation payments.\nWhen describing potential liabilities, focus on who is at risk (e.g., \"you and your employees\") rather than assuming general applicability."
        ],
        [
         "2",
         "v001",
         "llama3.1:8b",
         "Will our BJP\ngovernment return in 2024!!!",
         "Will our BJP government return in 2024",
         "The BJP government will return in 2024!!!",
         "['- Use only information from the post (minimal clarification allowed)\\n- Do not add or infer new facts, entities, or context\\n- Maintain intended meaning, even if factually incorrect\\n- Maintain important details regarding Who, What, Where, When and Why of a story if present in the post\\n- Retain original phrasing where possible; remove filler\\n- Preserve named entities exactly as written\\n- Use clear, formal, neutral language without hashtag signs or emojis\\n- Remove personal, emotional, or subjective qualifiers (e.g., “my,” “beloved,” “brave,” “evil”) to maintain a neutral and factual tone.\\n- Expand acronyms unless part of an official name\\n- Keep numerical values unchanged\\n- If multiple facts, select the most important one\\n- Keep same language as the post']",
         "['Use only information from the post (minimal clarification allowed).\\nDo not add or infer new facts, entities, or context.\\nMaintain intended meaning, even if factually incorrect.\\nMaintain important details regarding Who, What, Where, When and Why of a story if present in the post.\\nRetain original phrasing where possible; remove filler.\\nPreserve named entities exactly as written.\\nUse clear, formal, neutral language without hashtag signs or emojis.\\nRemove personal, emotional, or subjective qualifiers (e.g., “my,” “beloved,” “brave,” “evil”) to maintain a neutral and factual tone.\\nExpand acronyms unless part of an official name.\\nKeep numerical values unchanged.\\nIf multiple facts, select the most important one.\\nConsider alternative titles or descriptors for named entities in formal language when necessary.\\nAccount for colloquialisms, abbreviations, or figurative language that may deviate from strict factuality.\\nWhen specifying consequences, prioritize specific laws and sections mentioned (e.g., section 112 of the Equality Act 2010) over general descriptions (e.g., \"fine\" instead of \"liable on a summary conviction to pay a fine\").\\nDo not conflate or merge separate consequences into a single statement; maintain distinct details regarding fines and compensation payments.\\nWhen describing potential liabilities, focus on who is at risk (e.g., \"you and your employees\") rather than assuming general applicability.']",
         "Use only information from the post (minimal clarification allowed).\nDo not add or infer new facts, entities, or context.\nMaintain intended meaning, even if factually incorrect.\nMaintain important details regarding Who, What, Where, When and Why of a story if present in the post.\nRetain original phrasing where possible; remove filler.\nPreserve named entities exactly as written (e.g., 'BJP' should not be replaced with its full form).\nUse clear, formal, neutral language without hashtag signs or emojis.\nRemove personal, emotional, or subjective qualifiers (e.g., \"my,\" \"beloved,\" \"brave,\" \"evil\") to maintain a neutral and factual tone.\nExpand acronyms unless part of an official name.\nKeep numerical values unchanged.\nIf multiple facts, select the most important one.\nConsider alternative titles or descriptors for named entities in formal language when necessary (e.g., avoid using informal party abbreviations).\nAccount for colloquialisms, abbreviations, or figurative language that may deviate from strict factuality.\nWhen specifying consequences, prioritize specific laws and sections mentioned (e.g., section 112 of the Equality Act 2010) over general descriptions (e.g., \"fine\" instead of \"liable on a summary conviction to pay a fine\").\nDo not conflate or merge separate consequences into a single statement; maintain distinct details regarding fines and compensation payments.\nWhen describing potential liabilities, focus on who is at risk (e.g., \"you and your employees\") rather than assuming general applicability.\nRemove excessive punctuation and capitalization, as they do not add to the factual content of the claim."
        ]
       ],
       "shape": {
        "columns": 8,
        "rows": 3
       }
      },
      "text/html": [
       "<div>\n",
       "<style scoped>\n",
       "    .dataframe tbody tr th:only-of-type {\n",
       "        vertical-align: middle;\n",
       "    }\n",
       "\n",
       "    .dataframe tbody tr th {\n",
       "        vertical-align: top;\n",
       "    }\n",
       "\n",
       "    .dataframe thead th {\n",
       "        text-align: right;\n",
       "    }\n",
       "</style>\n",
       "<table border=\"1\" class=\"dataframe\">\n",
       "  <thead>\n",
       "    <tr style=\"text-align: right;\">\n",
       "      <th></th>\n",
       "      <th>prompt_version</th>\n",
       "      <th>model_name</th>\n",
       "      <th>text</th>\n",
       "      <th>reference</th>\n",
       "      <th>claim</th>\n",
       "      <th>definition_base</th>\n",
       "      <th>definition_prev</th>\n",
       "      <th>definition_update</th>\n",
       "    </tr>\n",
       "  </thead>\n",
       "  <tbody>\n",
       "    <tr>\n",
       "      <th>0</th>\n",
       "      <td>v001</td>\n",
       "      <td>llama3.1:8b</td>\n",
       "      <td>Sikh with no mustache in Delhi farmers protest. According to astronomy such an event happens once in a century</td>\n",
       "      <td>'Sardar with no mustache' involved in farmers protest</td>\n",
       "      <td>A Sikh appeared at the Delhi farmers protest without a mustache, which according to astronomy is a rare event that occurs once in a century.</td>\n",
       "      <td>[- Use only information from the post (minimal clarification allowed)\\n- Do not add or infer new facts, entities, or context\\n- Maintain intended meaning, even if factually incorrect\\n- Maintain i...</td>\n",
       "      <td>[- Use only information from the post (minimal clarification allowed)\\n- Do not add or infer new facts, entities, or context\\n- Maintain intended meaning, even if factually incorrect\\n- Maintain i...</td>\n",
       "      <td>Use only information from the post (minimal clarification allowed).\\nDo not add or infer new facts, entities, or context.\\nMaintain intended meaning, even if factually incorrect.\\nMaintain importa...</td>\n",
       "    </tr>\n",
       "    <tr>\n",
       "      <th>1</th>\n",
       "      <td>v001</td>\n",
       "      <td>llama3.1:8b</td>\n",
       "      <td>The government advice is not to challenge people to wear a face covering. This is for GOOD REASON. If you do so, you and your employees may be PERSONALLY LIABLE for AN OFFENCE liable on a summary ...</td>\n",
       "      <td>The government advice is not to challenge someone who is not wearing a face covering.</td>\n",
       "      <td>Challenging people to wear face coverings may result in a fine of up to £5,000 and compensation payments for disability discrimination.</td>\n",
       "      <td>[- Use only information from the post (minimal clarification allowed)\\n- Do not add or infer new facts, entities, or context\\n- Maintain intended meaning, even if factually incorrect\\n- Maintain i...</td>\n",
       "      <td>[Use only information from the post (minimal clarification allowed).\\nDo not add or infer new facts, entities, or context.\\nMaintain intended meaning, even if factually incorrect.\\nMaintain import...</td>\n",
       "      <td>Use only information from the post (minimal clarification allowed).\\nDo not add or infer new facts, entities, or context.\\nMaintain intended meaning, even if factually incorrect.\\nMaintain importa...</td>\n",
       "    </tr>\n",
       "    <tr>\n",
       "      <th>2</th>\n",
       "      <td>v001</td>\n",
       "      <td>llama3.1:8b</td>\n",
       "      <td>Will our BJP\\ngovernment return in 2024!!!</td>\n",
       "      <td>Will our BJP government return in 2024</td>\n",
       "      <td>The BJP government will return in 2024!!!</td>\n",
       "      <td>[- Use only information from the post (minimal clarification allowed)\\n- Do not add or infer new facts, entities, or context\\n- Maintain intended meaning, even if factually incorrect\\n- Maintain i...</td>\n",
       "      <td>[Use only information from the post (minimal clarification allowed).\\nDo not add or infer new facts, entities, or context.\\nMaintain intended meaning, even if factually incorrect.\\nMaintain import...</td>\n",
       "      <td>Use only information from the post (minimal clarification allowed).\\nDo not add or infer new facts, entities, or context.\\nMaintain intended meaning, even if factually incorrect.\\nMaintain importa...</td>\n",
       "    </tr>\n",
       "  </tbody>\n",
       "</table>\n",
       "</div>"
      ],
      "text/plain": [
       "  prompt_version   model_name                                                                                                                                                                                                     text                                                                              reference                                                                                                                                         claim                                                                                                                                                                                          definition_base                                                                                                                                                                                          definition_prev                                                                                                                                                                                        definition_update\n",
       "0           v001  llama3.1:8b                                                                                           Sikh with no mustache in Delhi farmers protest. According to astronomy such an event happens once in a century                                  'Sardar with no mustache' involved in farmers protest  A Sikh appeared at the Delhi farmers protest without a mustache, which according to astronomy is a rare event that occurs once in a century.  [- Use only information from the post (minimal clarification allowed)\\n- Do not add or infer new facts, entities, or context\\n- Maintain intended meaning, even if factually incorrect\\n- Maintain i...  [- Use only information from the post (minimal clarification allowed)\\n- Do not add or infer new facts, entities, or context\\n- Maintain intended meaning, even if factually incorrect\\n- Maintain i...  Use only information from the post (minimal clarification allowed).\\nDo not add or infer new facts, entities, or context.\\nMaintain intended meaning, even if factually incorrect.\\nMaintain importa...\n",
       "1           v001  llama3.1:8b  The government advice is not to challenge people to wear a face covering. This is for GOOD REASON. If you do so, you and your employees may be PERSONALLY LIABLE for AN OFFENCE liable on a summary ...  The government advice is not to challenge someone who is not wearing a face covering.       Challenging people to wear face coverings may result in a fine of up to £5,000 and compensation payments for disability discrimination.  [- Use only information from the post (minimal clarification allowed)\\n- Do not add or infer new facts, entities, or context\\n- Maintain intended meaning, even if factually incorrect\\n- Maintain i...  [Use only information from the post (minimal clarification allowed).\\nDo not add or infer new facts, entities, or context.\\nMaintain intended meaning, even if factually incorrect.\\nMaintain import...  Use only information from the post (minimal clarification allowed).\\nDo not add or infer new facts, entities, or context.\\nMaintain intended meaning, even if factually incorrect.\\nMaintain importa...\n",
       "2           v001  llama3.1:8b                                                                                                                                                               Will our BJP\\ngovernment return in 2024!!!                                                 Will our BJP government return in 2024                                                                                                     The BJP government will return in 2024!!!  [- Use only information from the post (minimal clarification allowed)\\n- Do not add or infer new facts, entities, or context\\n- Maintain intended meaning, even if factually incorrect\\n- Maintain i...  [Use only information from the post (minimal clarification allowed).\\nDo not add or infer new facts, entities, or context.\\nMaintain intended meaning, even if factually incorrect.\\nMaintain import...  Use only information from the post (minimal clarification allowed).\\nDo not add or infer new facts, entities, or context.\\nMaintain intended meaning, even if factually incorrect.\\nMaintain importa..."
      ]
     },
     "execution_count": 10,
     "metadata": {},
     "output_type": "execute_result"
    }
   ],
   "source": [
    "preview_cols = ['prompt_version','model_name','text','reference', 'claim','definition_base','definition_prev','definition_update']\n",
    "sample  = df[preview_cols].sort_values(['text',\"model_name\", 'prompt_version'])\n",
    "sample"
   ]
  },
  {
   "cell_type": "code",
   "execution_count": 11,
   "id": "3a5aa6a9",
   "metadata": {},
   "outputs": [
    {
     "data": {
      "text/html": [
       "<style type=\"text/css\">\n",
       "#T_07539 th.col0 {\n",
       "  max-width: 12cm;\n",
       "  white-space: pre-wrap;\n",
       "  word-wrap: break-word;\n",
       "}\n",
       "#T_07539 th.col1 {\n",
       "  max-width: 12cm;\n",
       "  white-space: pre-wrap;\n",
       "  word-wrap: break-word;\n",
       "}\n",
       "#T_07539 th.col2 {\n",
       "  max-width: 12cm;\n",
       "  white-space: pre-wrap;\n",
       "  word-wrap: break-word;\n",
       "}\n",
       "#T_07539 th.col3 {\n",
       "  max-width: 12cm;\n",
       "  white-space: pre-wrap;\n",
       "  word-wrap: break-word;\n",
       "}\n",
       "#T_07539 th.col4 {\n",
       "  max-width: 12cm;\n",
       "  white-space: pre-wrap;\n",
       "  word-wrap: break-word;\n",
       "}\n",
       "#T_07539 th.col5 {\n",
       "  max-width: 12cm;\n",
       "  white-space: pre-wrap;\n",
       "  word-wrap: break-word;\n",
       "}\n",
       "#T_07539 th.col6 {\n",
       "  max-width: 12cm;\n",
       "  white-space: pre-wrap;\n",
       "  word-wrap: break-word;\n",
       "}\n",
       "#T_07539 th.col7 {\n",
       "  max-width: 12cm;\n",
       "  white-space: pre-wrap;\n",
       "  word-wrap: break-word;\n",
       "}\n",
       "#T_07539 td.col0 {\n",
       "  max-width: 12cm;\n",
       "  white-space: pre-wrap;\n",
       "  word-wrap: break-word;\n",
       "}\n",
       "#T_07539 td.col1 {\n",
       "  max-width: 12cm;\n",
       "  white-space: pre-wrap;\n",
       "  word-wrap: break-word;\n",
       "}\n",
       "#T_07539 td.col2 {\n",
       "  max-width: 12cm;\n",
       "  white-space: pre-wrap;\n",
       "  word-wrap: break-word;\n",
       "}\n",
       "#T_07539 td.col3 {\n",
       "  max-width: 12cm;\n",
       "  white-space: pre-wrap;\n",
       "  word-wrap: break-word;\n",
       "}\n",
       "#T_07539 td.col4 {\n",
       "  max-width: 12cm;\n",
       "  white-space: pre-wrap;\n",
       "  word-wrap: break-word;\n",
       "}\n",
       "#T_07539 td.col5 {\n",
       "  max-width: 12cm;\n",
       "  white-space: pre-wrap;\n",
       "  word-wrap: break-word;\n",
       "}\n",
       "#T_07539 td.col6 {\n",
       "  max-width: 12cm;\n",
       "  white-space: pre-wrap;\n",
       "  word-wrap: break-word;\n",
       "}\n",
       "#T_07539 td.col7 {\n",
       "  max-width: 12cm;\n",
       "  white-space: pre-wrap;\n",
       "  word-wrap: break-word;\n",
       "}\n",
       "#T_07539_row0_col0, #T_07539_row0_col1, #T_07539_row0_col2, #T_07539_row0_col3, #T_07539_row0_col4, #T_07539_row0_col5, #T_07539_row0_col6, #T_07539_row0_col7, #T_07539_row1_col0, #T_07539_row1_col1, #T_07539_row1_col2, #T_07539_row1_col3, #T_07539_row1_col4, #T_07539_row1_col5, #T_07539_row1_col6, #T_07539_row1_col7, #T_07539_row2_col0, #T_07539_row2_col1, #T_07539_row2_col2, #T_07539_row2_col3, #T_07539_row2_col4, #T_07539_row2_col5, #T_07539_row2_col6, #T_07539_row2_col7 {\n",
       "  white-space: pre-wrap;\n",
       "  word-wrap: break-word;\n",
       "  text-align: left;\n",
       "}\n",
       "</style>\n",
       "<table id=\"T_07539\">\n",
       "  <thead>\n",
       "    <tr>\n",
       "      <th class=\"blank level0\" >&nbsp;</th>\n",
       "      <th id=\"T_07539_level0_col0\" class=\"col_heading level0 col0\" >prompt_version</th>\n",
       "      <th id=\"T_07539_level0_col1\" class=\"col_heading level0 col1\" >model_name</th>\n",
       "      <th id=\"T_07539_level0_col2\" class=\"col_heading level0 col2\" >text</th>\n",
       "      <th id=\"T_07539_level0_col3\" class=\"col_heading level0 col3\" >reference</th>\n",
       "      <th id=\"T_07539_level0_col4\" class=\"col_heading level0 col4\" >claim</th>\n",
       "      <th id=\"T_07539_level0_col5\" class=\"col_heading level0 col5\" >definition_base</th>\n",
       "      <th id=\"T_07539_level0_col6\" class=\"col_heading level0 col6\" >definition_prev</th>\n",
       "      <th id=\"T_07539_level0_col7\" class=\"col_heading level0 col7\" >definition_update</th>\n",
       "    </tr>\n",
       "  </thead>\n",
       "  <tbody>\n",
       "    <tr>\n",
       "      <th id=\"T_07539_level0_row0\" class=\"row_heading level0 row0\" >0</th>\n",
       "      <td id=\"T_07539_row0_col0\" class=\"data row0 col0\" >v001</td>\n",
       "      <td id=\"T_07539_row0_col1\" class=\"data row0 col1\" >llama3.1:8b</td>\n",
       "      <td id=\"T_07539_row0_col2\" class=\"data row0 col2\" >Sikh with no mustache in Delhi farmers protest. According to astronomy such an event happens once in a century</td>\n",
       "      <td id=\"T_07539_row0_col3\" class=\"data row0 col3\" >'Sardar with no mustache' involved in farmers protest</td>\n",
       "      <td id=\"T_07539_row0_col4\" class=\"data row0 col4\" >A Sikh appeared at the Delhi farmers protest without a mustache, which according to astronomy is a rare event that occurs once in a century.</td>\n",
       "      <td id=\"T_07539_row0_col5\" class=\"data row0 col5\" >['- Use only information from the post (minimal clarification allowed)\\n- Do not add or infer new facts, entities, or context\\n- Maintain intended meaning, even if factually incorrect\\n- Maintain important details regarding Who, What, Where, When and Why of a story if present in the post\\n- Retain original phrasing where possible; remove filler\\n- Preserve named entities exactly as written\\n- Use clear, formal, neutral language without hashtag signs or emojis\\n- Remove personal, emotional, or subjective qualifiers (e.g., “my,” “beloved,” “brave,” “evil”) to maintain a neutral and factual tone.\\n- Expand acronyms unless part of an official name\\n- Keep numerical values unchanged\\n- If multiple facts, select the most important one\\n- Keep same language as the post']</td>\n",
       "      <td id=\"T_07539_row0_col6\" class=\"data row0 col6\" >['- Use only information from the post (minimal clarification allowed)\\n- Do not add or infer new facts, entities, or context\\n- Maintain intended meaning, even if factually incorrect\\n- Maintain important details regarding Who, What, Where, When and Why of a story if present in the post\\n- Retain original phrasing where possible; remove filler\\n- Preserve named entities exactly as written\\n- Use clear, formal, neutral language without hashtag signs or emojis\\n- Remove personal, emotional, or subjective qualifiers (e.g., “my,” “beloved,” “brave,” “evil”) to maintain a neutral and factual tone.\\n- Expand acronyms unless part of an official name\\n- Keep numerical values unchanged\\n- If multiple facts, select the most important one\\n- Keep same language as the post']</td>\n",
       "      <td id=\"T_07539_row0_col7\" class=\"data row0 col7\" >Use only information from the post (minimal clarification allowed).\n",
       "Do not add or infer new facts, entities, or context.\n",
       "Maintain intended meaning, even if factually incorrect.\n",
       "Maintain important details regarding Who, What, Where, When and Why of a story if present in the post.\n",
       "Retain original phrasing where possible; remove filler.\n",
       "Preserve named entities exactly as written. (Note: Ensure \"Sikh\" is maintained over \"Sardar\", which may be a colloquialism)\n",
       "Use clear, formal, neutral language without hashtag signs or emojis.\n",
       "Remove personal, emotional, or subjective qualifiers (e.g., “my,” “beloved,” “brave,” “evil”) to maintain a neutral and factual tone.\n",
       "Expand acronyms unless part of an official name.\n",
       "Keep numerical values unchanged.\n",
       "If multiple facts, select the most important one.\n",
       "Consider alternative titles or descriptors for named entities in formal language when necessary.\n",
       "Account for colloquialisms, abbreviations, or figurative language that may deviate from strict factuality.</td>\n",
       "    </tr>\n",
       "    <tr>\n",
       "      <th id=\"T_07539_level0_row1\" class=\"row_heading level0 row1\" >1</th>\n",
       "      <td id=\"T_07539_row1_col0\" class=\"data row1 col0\" >v001</td>\n",
       "      <td id=\"T_07539_row1_col1\" class=\"data row1 col1\" >llama3.1:8b</td>\n",
       "      <td id=\"T_07539_row1_col2\" class=\"data row1 col2\" >The government advice is not to challenge people to wear a face covering. This is for GOOD REASON. If you do so, you and your employees may be PERSONALLY LIABLE for AN OFFENCE liable on a summary conviction to pay a fine of up £5,000 - section 112 (Aiding contraventions) of the Equality Act 2010. \n",
       "\n",
       "“AN ACT OF DISABILITY DISCRIMINATION and be ordered to pay any individual who suffers injury to feelings compensation between £900 and £9,000 - section 119 (Remedies) of the Equality Act 2010 [sic].</td>\n",
       "      <td id=\"T_07539_row1_col3\" class=\"data row1 col3\" >The government advice is not to challenge someone who is not wearing a face covering.</td>\n",
       "      <td id=\"T_07539_row1_col4\" class=\"data row1 col4\" >Challenging people to wear face coverings may result in a fine of up to £5,000 and compensation payments for disability discrimination.</td>\n",
       "      <td id=\"T_07539_row1_col5\" class=\"data row1 col5\" >['- Use only information from the post (minimal clarification allowed)\\n- Do not add or infer new facts, entities, or context\\n- Maintain intended meaning, even if factually incorrect\\n- Maintain important details regarding Who, What, Where, When and Why of a story if present in the post\\n- Retain original phrasing where possible; remove filler\\n- Preserve named entities exactly as written\\n- Use clear, formal, neutral language without hashtag signs or emojis\\n- Remove personal, emotional, or subjective qualifiers (e.g., “my,” “beloved,” “brave,” “evil”) to maintain a neutral and factual tone.\\n- Expand acronyms unless part of an official name\\n- Keep numerical values unchanged\\n- If multiple facts, select the most important one\\n- Keep same language as the post']</td>\n",
       "      <td id=\"T_07539_row1_col6\" class=\"data row1 col6\" >['Use only information from the post (minimal clarification allowed).\\nDo not add or infer new facts, entities, or context.\\nMaintain intended meaning, even if factually incorrect.\\nMaintain important details regarding Who, What, Where, When and Why of a story if present in the post.\\nRetain original phrasing where possible; remove filler.\\nPreserve named entities exactly as written. (Note: Ensure \"Sikh\" is maintained over \"Sardar\", which may be a colloquialism)\\nUse clear, formal, neutral language without hashtag signs or emojis.\\nRemove personal, emotional, or subjective qualifiers (e.g., “my,” “beloved,” “brave,” “evil”) to maintain a neutral and factual tone.\\nExpand acronyms unless part of an official name.\\nKeep numerical values unchanged.\\nIf multiple facts, select the most important one.\\nConsider alternative titles or descriptors for named entities in formal language when necessary.\\nAccount for colloquialisms, abbreviations, or figurative language that may deviate from strict factuality.']</td>\n",
       "      <td id=\"T_07539_row1_col7\" class=\"data row1 col7\" >Use only information from the post (minimal clarification allowed).\n",
       "Do not add or infer new facts, entities, or context.\n",
       "Maintain intended meaning, even if factually incorrect.\n",
       "Maintain important details regarding Who, What, Where, When and Why of a story if present in the post.\n",
       "Retain original phrasing where possible; remove filler.\n",
       "Preserve named entities exactly as written.\n",
       "Use clear, formal, neutral language without hashtag signs or emojis.\n",
       "Remove personal, emotional, or subjective qualifiers (e.g., “my,” “beloved,” “brave,” “evil”) to maintain a neutral and factual tone.\n",
       "Expand acronyms unless part of an official name.\n",
       "Keep numerical values unchanged.\n",
       "If multiple facts, select the most important one.\n",
       "Consider alternative titles or descriptors for named entities in formal language when necessary.\n",
       "Account for colloquialisms, abbreviations, or figurative language that may deviate from strict factuality.\n",
       "When specifying consequences, prioritize specific laws and sections mentioned (e.g., section 112 of the Equality Act 2010) over general descriptions (e.g., \"fine\" instead of \"liable on a summary conviction to pay a fine\").\n",
       "Do not conflate or merge separate consequences into a single statement; maintain distinct details regarding fines and compensation payments.\n",
       "When describing potential liabilities, focus on who is at risk (e.g., \"you and your employees\") rather than assuming general applicability.</td>\n",
       "    </tr>\n",
       "    <tr>\n",
       "      <th id=\"T_07539_level0_row2\" class=\"row_heading level0 row2\" >2</th>\n",
       "      <td id=\"T_07539_row2_col0\" class=\"data row2 col0\" >v001</td>\n",
       "      <td id=\"T_07539_row2_col1\" class=\"data row2 col1\" >llama3.1:8b</td>\n",
       "      <td id=\"T_07539_row2_col2\" class=\"data row2 col2\" >Will our BJP\n",
       "government return in 2024!!!</td>\n",
       "      <td id=\"T_07539_row2_col3\" class=\"data row2 col3\" >Will our BJP government return in 2024</td>\n",
       "      <td id=\"T_07539_row2_col4\" class=\"data row2 col4\" >The BJP government will return in 2024!!!</td>\n",
       "      <td id=\"T_07539_row2_col5\" class=\"data row2 col5\" >['- Use only information from the post (minimal clarification allowed)\\n- Do not add or infer new facts, entities, or context\\n- Maintain intended meaning, even if factually incorrect\\n- Maintain important details regarding Who, What, Where, When and Why of a story if present in the post\\n- Retain original phrasing where possible; remove filler\\n- Preserve named entities exactly as written\\n- Use clear, formal, neutral language without hashtag signs or emojis\\n- Remove personal, emotional, or subjective qualifiers (e.g., “my,” “beloved,” “brave,” “evil”) to maintain a neutral and factual tone.\\n- Expand acronyms unless part of an official name\\n- Keep numerical values unchanged\\n- If multiple facts, select the most important one\\n- Keep same language as the post']</td>\n",
       "      <td id=\"T_07539_row2_col6\" class=\"data row2 col6\" >['Use only information from the post (minimal clarification allowed).\\nDo not add or infer new facts, entities, or context.\\nMaintain intended meaning, even if factually incorrect.\\nMaintain important details regarding Who, What, Where, When and Why of a story if present in the post.\\nRetain original phrasing where possible; remove filler.\\nPreserve named entities exactly as written.\\nUse clear, formal, neutral language without hashtag signs or emojis.\\nRemove personal, emotional, or subjective qualifiers (e.g., “my,” “beloved,” “brave,” “evil”) to maintain a neutral and factual tone.\\nExpand acronyms unless part of an official name.\\nKeep numerical values unchanged.\\nIf multiple facts, select the most important one.\\nConsider alternative titles or descriptors for named entities in formal language when necessary.\\nAccount for colloquialisms, abbreviations, or figurative language that may deviate from strict factuality.\\nWhen specifying consequences, prioritize specific laws and sections mentioned (e.g., section 112 of the Equality Act 2010) over general descriptions (e.g., \"fine\" instead of \"liable on a summary conviction to pay a fine\").\\nDo not conflate or merge separate consequences into a single statement; maintain distinct details regarding fines and compensation payments.\\nWhen describing potential liabilities, focus on who is at risk (e.g., \"you and your employees\") rather than assuming general applicability.']</td>\n",
       "      <td id=\"T_07539_row2_col7\" class=\"data row2 col7\" >Use only information from the post (minimal clarification allowed).\n",
       "Do not add or infer new facts, entities, or context.\n",
       "Maintain intended meaning, even if factually incorrect.\n",
       "Maintain important details regarding Who, What, Where, When and Why of a story if present in the post.\n",
       "Retain original phrasing where possible; remove filler.\n",
       "Preserve named entities exactly as written (e.g., 'BJP' should not be replaced with its full form).\n",
       "Use clear, formal, neutral language without hashtag signs or emojis.\n",
       "Remove personal, emotional, or subjective qualifiers (e.g., \"my,\" \"beloved,\" \"brave,\" \"evil\") to maintain a neutral and factual tone.\n",
       "Expand acronyms unless part of an official name.\n",
       "Keep numerical values unchanged.\n",
       "If multiple facts, select the most important one.\n",
       "Consider alternative titles or descriptors for named entities in formal language when necessary (e.g., avoid using informal party abbreviations).\n",
       "Account for colloquialisms, abbreviations, or figurative language that may deviate from strict factuality.\n",
       "When specifying consequences, prioritize specific laws and sections mentioned (e.g., section 112 of the Equality Act 2010) over general descriptions (e.g., \"fine\" instead of \"liable on a summary conviction to pay a fine\").\n",
       "Do not conflate or merge separate consequences into a single statement; maintain distinct details regarding fines and compensation payments.\n",
       "When describing potential liabilities, focus on who is at risk (e.g., \"you and your employees\") rather than assuming general applicability.\n",
       "Remove excessive punctuation and capitalization, as they do not add to the factual content of the claim.</td>\n",
       "    </tr>\n",
       "  </tbody>\n",
       "</table>\n"
      ],
      "text/plain": [
       "<pandas.io.formats.style.Styler at 0x121419a60>"
      ]
     },
     "execution_count": 11,
     "metadata": {},
     "output_type": "execute_result"
    }
   ],
   "source": [
    "disp(sample)"
   ]
  }
 ],
 "metadata": {
  "kernelspec": {
   "display_name": ".venv",
   "language": "python",
   "name": "python3"
  },
  "language_info": {
   "codemirror_mode": {
    "name": "ipython",
    "version": 3
   },
   "file_extension": ".py",
   "mimetype": "text/x-python",
   "name": "python",
   "nbconvert_exporter": "python",
   "pygments_lexer": "ipython3",
   "version": "3.12.9"
  }
 },
 "nbformat": 4,
 "nbformat_minor": 5
}
