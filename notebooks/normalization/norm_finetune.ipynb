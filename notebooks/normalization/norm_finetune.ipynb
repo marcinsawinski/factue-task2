{
 "cells": [
  {
   "cell_type": "code",
   "execution_count": 2,
   "id": "bc303d0a",
   "metadata": {},
   "outputs": [],
   "source": [
    "# wd = '/mnt/openfact/users/msawinski/factue-task2'\n",
    "wd = '/Users/marcinsawinski/Documents/GitHub/factue-task2'\n",
    "import sys, os\n",
    "os.chdir(wd)"
   ]
  },
  {
   "cell_type": "code",
   "execution_count": 15,
   "id": "d22b5d44",
   "metadata": {},
   "outputs": [],
   "source": [
    "import pandas as pd\n",
    "from pathlib import Path\n",
    "import os\n",
    "import json\n",
    "from factue.utils.viz import disp\n",
    "import numpy as np"
   ]
  },
  {
   "cell_type": "markdown",
   "id": "9670c0fe",
   "metadata": {},
   "source": [
    "# finetune\n"
   ]
  },
  {
   "cell_type": "code",
   "execution_count": 10,
   "id": "babd803f",
   "metadata": {},
   "outputs": [
    {
     "data": {
      "application/vnd.microsoft.datawrangler.viewer.v0+json": {
       "columns": [
        {
         "name": "index",
         "rawType": "int64",
         "type": "integer"
        },
        {
         "name": "text",
         "rawType": "object",
         "type": "string"
        },
        {
         "name": "reference",
         "rawType": "object",
         "type": "string"
        },
        {
         "name": "split",
         "rawType": "object",
         "type": "string"
        },
        {
         "name": "lang",
         "rawType": "object",
         "type": "string"
        },
        {
         "name": "init_part_no",
         "rawType": "int64",
         "type": "integer"
        },
        {
         "name": "source_file",
         "rawType": "object",
         "type": "unknown"
        }
       ],
       "conversionMethod": "pd.DataFrame",
       "ref": "aa3d9469-89aa-453c-a109-076972f246e5",
       "rows": [
        [
         "0",
         "INZ\nPESQUISA IBOPE\nAprovação de\nBolsonaro vai a80%\nSe você não viralizar, a\ngrande mídia não fará isso\npor você.",
         "Bolsonaro tem 80% de aprovação no Ibope",
         "train-por",
         "train-por",
         "25",
         "data/cleaned/normalization/train/train-por/train-por_part_0001.parquet"
        ],
        [
         "1",
         "Este é um cemitério perto de Paris, França, com\ncentenas de carros elétricos. Lembre-se de que estes\nsão apenas carros usados pela cidade de Paris e não\nveículos pessoais. Todos eles têm o mesmo\nproblema, ... as células de armazenamento da bateria\nquebraram e precisam ser substituídas. Por que não\nsubstituí-los, você pergunta? Bem, duas razões.\nPrimeiro, as células de armazenamento de bateria\ncustam quase o dobro do custo do veículo novo e,\nsegundo, nenhum aterro ou descarte permitirá que as\nbaterias sejam descartadas lá. Portanto, esses carros\nelétricos verdes de contos de fadas estão todos\nparados em terrenos baldios enquanto suas baterias\ndrenam toxinas para o solo.\nNao tenho nada com isso, mas acho que outras\nnações deveriam resolver o problema deles, antes de\nse preocuparem com o nosso...",
         "Baterias de carros elétricos drenam toxinas para o solo",
         "train-por",
         "train-por",
         "28",
         "data/cleaned/normalization/train/train-por/train-por_part_0001.parquet"
        ],
        [
         "2",
         "😏 😏 😏 Notícias on line\nN\nNOTICIAS\nIMAGE\nPaolla Oliveira diz que a\nprostituição será a única forma de\nsobrevivência das atrizes da Globo\ncaso Bolsonaro seja reeleito",
         "Paolla Oliveira disse que atrizes da Globo terão de se prostituir para sobreviver caso Bolsonaro seja reeleito",
         "train-por",
         "train-por",
         "59",
         "data/cleaned/normalization/train/train-por/train-por_part_0001.parquet"
        ],
        [
         "3",
         "Isso aqui é uma delegacia de Minneapolis, Minnesota ( EUA) pegando fogo devido ao assassinato de George Floyd, homem negro assassinado brutalmente e injustamente pela policial.\nIsso aqui é fogo nos racistas na prática. Isso aqui é uma delegacia de Minneapolis, Minnesota ( EUA) pegando fogo devido ao assassinato de George Floyd, homem negro assassinado brutalmente e injustamente pela policial.\nIsso aqui é fogo nos racistas na prática. Isso aqui é uma delegacia de Minneapolis, Minnesota ( EUA) pegando fogo devido ao assassinato de George Floyd, homem negro assassinado brutalmente e injustamente pela policial.\nIsso aqui é fogo nos racistas na prática. None",
         "Delegacia de polícia em Minneapolis em chamas depois da morte de George Floyd",
         "train-por",
         "train-por",
         "37",
         "data/cleaned/normalization/train/train-por/train-por_part_0001.parquet"
        ],
        [
         "4",
         "Esta é a primeira imagem de ressonância magnética do mundo que mostra o laço de uma mãe e seu filho, graças à NH Neuro Training. A imagem é da neurocientista Rebecca Saxe a beijar o seu filho de dois meses. O beijo dela causou uma reação química no cérebro do seu filho o que gera uma explosão de ocitocina - um hormônio que gera sentimentos de apego e carinho - incrível ou o quê?\nO toque ilumina o cérebro! Segure-os, beije-os, responda às suas necessidades, ame-as, tal como os seus instintos sugerem! #neurologia #neurociencia #ocitocina Esta é a primeira imagem de ressonância magnética do mundo que mostra o laço de uma mãe e seu filho, graças à NH Neuro Training. A imagem é da neurocientista Rebecca Saxe a beijar o seu filho de dois meses. O beijo dela causou uma reação química no cérebro do seu filho o que gera uma explosão de ocitocina - um hormônio que gera sentimentos de apego e carinho - incrível ou o quê?\nO toque ilumina o cérebro! Segure-os, beije-os, responda às suas necessidades, ame-as, tal como os seus instintos sugerem! #neurologia #neurociencia #ocitocina Esta é a primeira imagem de ressonância magnética do mundo que mostra o laço de uma mãe e seu filho, graças à NH Neuro Training. A imagem é da neurocientista Rebecca Saxe a beijar o seu filho de dois meses. O beijo dela causou uma reação química no cérebro do seu filho o que gera uma explosão de ocitocina - um hormônio que gera sentimentos de apego e carinho - incrível ou o quê?\nO toque ilumina o cérebro! Segure-os, beije-os, responda às suas necessidades, ame-as, tal como os seus instintos sugerem! #neurologia #neurociencia #ocitocina None",
         "Ressonância magnética de uma mãe com seu filho mostra reação química nos dois cérebros por um beijo",
         "train-por",
         "train-por",
         "53",
         "data/cleaned/normalization/train/train-por/train-por_part_0001.parquet"
        ],
        [
         "5",
         "CIRCULA NA REDE: AGENDA 2030/NOM!\n\nIMPORTANTE!!\n\nO primeiro-ministro australiano Dan Andrews aprovou uma lei que proíbe o cultivo de sua própria comida.\nUm projeto de lei para alterar o Farm Bill de 2022 foi aprovado em segunda leitura no Parlamento.\nO motivo da mudança é a \"biossegurança\".\nAmpliar os poderes da aplicação da lei, revistar propriedades e pessoas sem mandado, aumentar as multas de US$ 1.800 para US$ 10.000 por fornecer informações falsas ou enganosas fazem parte do novo projeto.\nLembrando que esse decreto sancionado na Austrália tbm faz parte da agenda 2030 da ONU.\nOnde você será proibido de cultivar o próprio alimento. CIRCULA NA REDE: AGENDA 2030/NOM!\n\nIMPORTANTE!!\n\nO primeiro-ministro australiano Dan Andrews aprovou uma lei que proíbe o cultivo de sua própria comida.\nUm projeto de lei para alterar o Farm Bill de 2022 foi aprovado em segunda leitura no Parlamento.\nO motivo da mudança é a \"biossegurança\".\nAmpliar os poderes da aplicação da lei, revistar propriedades e pessoas sem mandado, aumentar as multas de US$ 1.800 para US$ 10.000 por fornecer informações falsas ou enganosas fazem parte do novo projeto.\nLembrando que esse decreto sancionado na Austrália tbm faz parte da agenda 2030 da ONU.\nOnde você será proibido de cultivar o próprio alimento. CIRCULA NA REDE: AGENDA 2030/NOM!\n\nIMPORTANTE!!\n\nO primeiro-ministro australiano Dan Andrews aprovou uma lei que proíbe o cultivo de sua própria comida.\nUm projeto de lei para alterar o Farm Bill de 2022 foi aprovado em segunda leitura no Parlamento.\nO motivo da mudança é a \"biossegurança\".\nAmpliar os poderes da aplicação da lei, revistar propriedades e pessoas sem mandado, aumentar as multas de US$ 1.800 para US$ 10.000 por fornecer informações falsas ou enganosas fazem parte do novo projeto.\nLembrando que esse decreto sancionado na Austrália tbm faz parte da agenda 2030 da ONU.\nOnde você será proibido de cultivar o próprio alimento. None",
         "Uma lei na Austrália proíbe o cultivo de alimentos para consumo próprio",
         "train-por",
         "train-por",
         "48",
         "data/cleaned/normalization/train/train-por/train-por_part_0001.parquet"
        ],
        [
         "6",
         "As lágrimas deste fotógrafo cobrindo a despedida de Messi, são as lágrimas de todos os amantes do futebol. 😔 As lágrimas deste fotógrafo cobrindo a despedida de Messi, são as lágrimas de todos os amantes do futebol. 😔 As lágrimas deste fotógrafo cobrindo a despedida de Messi, são as lágrimas de todos os amantes do futebol. 😔 None",
         "Fotógrafo chora na despedida do Messi do Barcelona",
         "train-por",
         "train-por",
         "32",
         "data/cleaned/normalization/train/train-por/train-por_part_0001.parquet"
        ],
        [
         "7",
         "Petrópolis neste momento 20 de março. Petrópolis neste momento 20 de março. Petrópolis neste momento 20 de março. None",
         "Chuva em Petrópolis no dia 20 de março",
         "train-por",
         "train-por",
         "26",
         "data/cleaned/normalization/train/train-por/train-por_part_0001.parquet"
        ],
        [
         "8",
         "JOÃO DÓRIA do PSDB foi votar com máscara da bandeira da China.\nAlguém tem dúvida que esse safado representa os interesses do partido chinês no Brasil? JOÃO DÓRIA do PSDB foi votar com máscara da bandeira da China.\nAlguém tem dúvida que esse safado representa os interesses do partido chinês no Brasil? JOÃO DÓRIA do PSDB foi votar com máscara da bandeira da China.\nAlguém tem dúvida que esse safado representa os interesses do partido chinês no Brasil? None",
         "O governador de São Paulo, João Doria, foi votar nas eleições municipais com máscara da bandeira da China.",
         "train-por",
         "train-por",
         "74",
         "data/cleaned/normalization/train/train-por/train-por_part_0001.parquet"
        ],
        [
         "9",
         "Você tem vacinação? Não há mais voos!\nVacinas\nVocê tem\nvacinação? Não há\nmais voos!\n129 de maio de 2021 Ⓒ3 min de leitura\n@COR\nliberta_2020\nNeste exato momento, as companhias aéreas alertam os\nclientes vacinados sobre o alto risco de formação de\ncoágulos sanguíneos com o mRNA experimental. Por muitos\nanos, tem sido a regra que pessoas com risco aumentado de\ncoágulos sanguíneos só podem voar sob supervisão\ncuidadosa. Recomenda-se que essas pessoas evitem voar, a\nmenos que haja uma situação de risco de vida.\nOra, ora...",
         "As principais companhias aéreas discutem se vacinados contra a covid-19 poderão viajar de avião devido ao risco de coágulos no sangue, trombose",
         "train-por",
         "train-por",
         "38",
         "data/cleaned/normalization/train/train-por/train-por_part_0001.parquet"
        ],
        [
         "10",
         "Os militares estão se recusando a maltratar o povo morto de fome. e\no regime de Maduro esta quebrando de dentro para fora.\nSargento atirou no coronel.\nTropa da Guarda Bolivariana para se recusar a ir reprimir o povo: mas isso a Globo não mostra e o Governo Venezuelano faz de tudo para essas imagens não vazarem. Os militares estão se recusando a maltratar o povo morto de fome. e\no regime de Maduro esta quebrando de dentro para fora.\nSargento atirou no coronel.\nTropa da Guarda Bolivariana para se recusar a ir reprimir o povo: mas isso a Globo não mostra e o Governo Venezuelano faz de tudo para essas imagens não vazarem. Os militares estão se recusando a maltratar o povo morto de fome. e\no regime de Maduro esta quebrando de dentro para fora.\nSargento atirou no coronel.\nTropa da Guarda Bolivariana para se recusar a ir reprimir o povo: mas isso a Globo não mostra e o Governo Venezuelano faz de tudo para essas imagens não vazarem. None",
         "Sargento atira em coronel na Venezuela.",
         "train-por",
         "train-por",
         "79",
         "data/cleaned/normalization/train/train-por/train-por_part_0011.parquet"
        ],
        [
         "11",
         "AMÉRICA\nEsposa do CEO da Pfizer morre\napós complicações com a vacina\nconservativebeaver_skphjv 10 de novembro de 2021\nBeaver Exclusive\nMyriam Bourla - esposa do CEO da Pfizer, Albert\nBourla - morreu de complicações com a vacina\nCOVID-19 na quarta-feira, de acordo com seu\nmédico. Ela faleceu no pronto-socorro do Hospital\nPresbiteriano Lawrence de Nova York após ser\ninternada por paramédicos. A causa da morte foi\nlistada como complicações da vacina Pfizer.",
         "\"Esposa do CEO da Pfizer morre após complicações com a vacina\"",
         "train-por",
         "train-por",
         "66",
         "data/cleaned/normalization/train/train-por/train-por_part_0011.parquet"
        ],
        [
         "12",
         "Oração para mulher fala pouco ; ser obediente e não mexer no Celula do marido kkkkkkk Oração para mulher fala pouco ; ser obediente e não mexer no Celula do marido kkkkkkk Oração para mulher fala pouco ; ser obediente e não mexer no Celula do marido kkkkkkk None",
         "Oração para mulher falar pouco; ser obediente e não mexer no celular do marido!",
         "train-por",
         "train-por",
         "59",
         "data/cleaned/normalization/train/train-por/train-por_part_0011.parquet"
        ],
        [
         "13",
         "Israel tem a melhor situação do mundo no controle do Coronavírus.\nSão 1700 casos e 1 morte!!!! \nSem isolamento indiscriminado, pelo contrário, na estratégia deles a prioridade é o isolamento do grupo de risco, sobretudo os idosos.\nLá não lotou hospitais, UTIs e a economia funciona normalmente.\nSou suspeito em acreditar piamente no que está sendo dito nesse vídeo, uma vez que eu amo Israel e admiro muito todas as suas ações, mas posto para nossa reflexão!!! Israel tem a melhor situação do mundo no controle do Coronavírus.\nSão 1700 casos e 1 morte!!!! \nSem isolamento indiscriminado, pelo contrário, na estratégia deles a prioridade é o isolamento do grupo de risco, sobretudo os idosos.\nLá não lotou hospitais, UTIs e a economia funciona normalmente.\nSou suspeito em acreditar piamente no que está sendo dito nesse vídeo, uma vez que eu amo Israel e admiro muito todas as suas ações, mas posto para nossa reflexão!!! Israel tem a melhor situação do mundo no controle do Coronavírus.\nSão 1700 casos e 1 morte!!!! \nSem isolamento indiscriminado, pelo contrário, na estratégia deles a prioridade é o isolamento do grupo de risco, sobretudo os idosos.\nLá não lotou hospitais, UTIs e a economia funciona normalmente.\nSou suspeito em acreditar piamente no que está sendo dito nesse vídeo, uma vez que eu amo Israel e admiro muito todas as suas ações, mas posto para nossa reflexão!!! None",
         "Israel tem a melhor situação do mundo diante da pandemia do coronavírus sem medidas de isolamento",
         "train-por",
         "train-por",
         "59",
         "data/cleaned/normalization/train/train-por/train-por_part_0011.parquet"
        ],
        [
         "14",
         "“A empresa farmacêutica japonesa Kowa disse na segunda-feira que o medicamento antiparasitário Ivermectina foi considerado eficaz para tratar a variante Omicron da COVID-19 em um ensaio da Fase III”. https://t.co/0hkQ1El3Cp “A empresa farmacêutica japonesa Kowa disse na segunda-feira que o medicamento antiparasitário Ivermectina foi considerado eficaz para tratar a variante Omicron da COVID-19 em um ensaio da Fase III”. https://t.co/0hkQ1El3Cp “A empresa farmacêutica japonesa Kowa disse na segunda-feira que o medicamento antiparasitário Ivermectina foi considerado eficaz para tratar a variante Omicron da COVID-19 em um ensaio da Fase III”. https://t.co/0hkQ1El3Cp None",
         "Farmacêutica japonesa Kowa disse que Ivermectina foi considerado eficaz para tratar a variante Omicron",
         "train-por",
         "train-por",
         "41",
         "data/cleaned/normalization/train/train-por/train-por_part_0011.parquet"
        ],
        [
         "15",
         "O Presidente de vocês O Presidente de vocês O Presidente de vocês SÓ PRA LEMBRAR:\n\"Não corro o risco de\nter uma nora negra\nporque meus filhos\nforam bem educados\"\n(Bolsonaro, Jair)",
         "SÓ PRA LEMBRAR: ‘Não corro o risco de ter uma nora negra porque meus filhos foram bem educados’ (Bolsonaro, Jair)",
         "train-por",
         "train-por",
         "61",
         "data/cleaned/normalization/train/train-por/train-por_part_0011.parquet"
        ],
        [
         "16",
         "O ponto onde se encontram o oceano Atlântico e o oceano pacífico. Chegam a tocar, mas não se misturam. O ponto onde se encontram o oceano Atlântico e o oceano pacífico. Chegam a tocar, mas não se misturam. O ponto onde se encontram o oceano Atlântico e o oceano pacífico. Chegam a tocar, mas não se misturam. None",
         "O ponto onde se encontram o oceano Atlântico e o oceano Pacífico mas não se misturam.",
         "train-por",
         "train-por",
         "6",
         "data/cleaned/normalization/train/train-por/train-por_part_0011.parquet"
        ],
        [
         "17",
         "A maior e mais antiga árvore da Terra tem 6.000 anos e fica na Tanzânia. A maior e mais antiga árvore da Terra tem 6.000 anos e fica na Tanzânia. A maior e mais antiga árvore da Terra tem 6.000 anos e fica na Tanzânia. None",
         "A maior e mais antiga árvore da Terra tem 6.000 anos e fica na Tanzânia",
         "train-por",
         "train-por",
         "16",
         "data/cleaned/normalization/train/train-por/train-por_part_0011.parquet"
        ],
        [
         "18",
         "Começa a guerra na Ucrânia\n\nPára-quedistas militares russos desembarcaram na Ucrânia, perto de Kharkov.\n\nBases aéreas e sistemas de defesa aérea ucranianos são os primeiros a serem destruídos.\n\nLocais estratégicos são os próximos da fila, seguidos por um grupo massivo e invasão aérea.\n\nVamos orar pela paz na Ucrânia🙏🏻🕊 Começa a guerra na Ucrânia\n\nPára-quedistas militares russos desembarcaram na Ucrânia, perto de Kharkov.\n\nBases aéreas e sistemas de defesa aérea ucranianos são os primeiros a serem destruídos.\n\nLocais estratégicos são os próximos da fila, seguidos por um grupo massivo e invasão aérea.\n\nVamos orar pela paz na Ucrânia🙏🏻🕊 Começa a guerra na Ucrânia\n\nPára-quedistas militares russos desembarcaram na Ucrânia, perto de Kharkov.\n\nBases aéreas e sistemas de defesa aérea ucranianos são os primeiros a serem destruídos.\n\nLocais estratégicos são os próximos da fila, seguidos por um grupo massivo e invasão aérea.\n\nVamos orar pela paz na Ucrânia🙏🏻🕊 None",
         "Pára-quedistas militares russos desembarcaram na Ucrânia, perto de Kharkov",
         "train-por",
         "train-por",
         "25",
         "data/cleaned/normalization/train/train-por/train-por_part_0011.parquet"
        ],
        [
         "19",
         "👉Grupo do zap 👈\n🚨 Áudio no zap 968727339 🚨\n Testemunho da pessoa \n\nGoverno gastando bilhões em combate ao  corona vírus,  e um irmãozinho de algum lugar sem faculdade em ciência ou medicina descobre que chá  de boldo combate os sintomas de covid em três horas , realmente Deus  usa as coisas loucas desse mundo pra confundir as sábias! 👉Grupo do zap 👈\n🚨 Áudio no zap 968727339 🚨\n Testemunho da pessoa \n\nGoverno gastando bilhões em combate ao  corona vírus,  e um irmãozinho de algum lugar sem faculdade em ciência ou medicina descobre que chá  de boldo combate os sintomas de covid em três horas , realmente Deus  usa as coisas loucas desse mundo pra confundir as sábias! 👉Grupo do zap 👈\n🚨 Áudio no zap 968727339 🚨\n Testemunho da pessoa \n\nGoverno gastando bilhões em combate ao  corona vírus,  e um irmãozinho de algum lugar sem faculdade em ciência ou medicina descobre que chá  de boldo combate os sintomas de covid em três horas , realmente Deus  usa as coisas loucas desse mundo pra confundir as sábias! None",
         "Chá de boldo combate os sintomas da Covid-19",
         "train-por",
         "train-por",
         "29",
         "data/cleaned/normalization/train/train-por/train-por_part_0011.parquet"
        ],
        [
         "20",
         "*Bolsonaro mandou instalar painéis solares em cima do canal da transposição do São Francisco. Não toma espaço útil, evita a evaporação da água e produz energia elétrica para os pequenos produtores.* *Bolsonaro mandou instalar painéis solares em cima do canal da transposição do São Francisco. Não toma espaço útil, evita a evaporação da água e produz energia elétrica para os pequenos produtores.* *Bolsonaro mandou instalar painéis solares em cima do canal da transposição do São Francisco. Não toma espaço útil, evita a evaporação da água e produz energia elétrica para os pequenos produtores.* None",
         "O presidente Bolsonaro mandou instalar painéis solares no canal da transposição do rio São Francisco",
         "train-por",
         "train-por",
         "9",
         "data/cleaned/normalization/train/train-por/train-por_part_0045.parquet"
        ],
        [
         "21",
         "#BlackFriday\nSexta-feira #negra esta, sexta feira negra que, .... esta aqui é a razão pela qual se chama Black Friday, homem branco #vendeu negros com #desconto para a #escravidão #BlackFriday\nSexta-feira #negra esta, sexta feira negra que, .... esta aqui é a razão pela qual se chama Black Friday, homem branco #vendeu negros com #desconto para a #escravidão #BlackFriday\nSexta-feira #negra esta, sexta feira negra que, .... esta aqui é a razão pela qual se chama Black Friday, homem branco #vendeu negros com #desconto para a #escravidão None",
         "A Black Friday tem relação histórica com a escravidão",
         "train-por",
         "train-por",
         "85",
         "data/cleaned/normalization/train/train-por/train-por_part_0045.parquet"
        ],
        [
         "22",
         "É A MÍDIA NÃO DIVULGOU QUE FOI O EXERCÍTO QUE TRABALHOU NA OBRA DA TRANSPOSIÇÃO DO RIO, TUDO QUE BOLSONARO FAZ ELES TENTAM ESCONDER , MAIS NÃO ADIANTA A INTERNET É O MAIOR MEIO DE COMUNICAÇÃO DO MUNDO 🇧🇷🇧🇷🇧🇷 ! É A MÍDIA NÃO DIVULGOU QUE FOI O EXERCÍTO QUE TRABALHOU NA OBRA DA TRANSPOSIÇÃO DO RIO, TUDO QUE BOLSONARO FAZ ELES TENTAM ESCONDER , MAIS NÃO ADIANTA A INTERNET É O MAIOR MEIO DE COMUNICAÇÃO DO MUNDO 🇧🇷🇧🇷🇧🇷 ! É A MÍDIA NÃO DIVULGOU QUE FOI O EXERCÍTO QUE TRABALHOU NA OBRA DA TRANSPOSIÇÃO DO RIO, TUDO QUE BOLSONARO FAZ ELES TENTAM ESCONDER , MAIS NÃO ADIANTA A INTERNET É O MAIOR MEIO DE COMUNICAÇÃO DO MUNDO 🇧🇷🇧🇷🇧🇷 ! None",
         "A mídia não divulgou que foi o Exército que trabalhou na obra da transposição do rio São Francisco. Tudo o que Bolsonaro faz eles tentam esconder.",
         "train-por",
         "train-por",
         "45",
         "data/cleaned/normalization/train/train-por/train-por_part_0045.parquet"
        ],
        [
         "23",
         "Deixe seu ❤️ para essas guerreiras \n\n🚨 👉🏽 Você deseja muito emagrecer, e poder usar aquela roupa que não serve mais em você?🤔 Nós vamos te ajudar… Assista nossos STORIES e veja como funciona o nosso método ❤💪 🚨 Deixe seu ❤️ para essas guerreiras \n\n🚨 👉🏽 Você deseja muito emagrecer, e poder usar aquela roupa que não serve mais em você?🤔 Nós vamos te ajudar… Assista nossos STORIES e veja como funciona o nosso método ❤💪 🚨 Deixe seu ❤️ para essas guerreiras \n\n🚨 👉🏽 Você deseja muito emagrecer, e poder usar aquela roupa que não serve mais em você?🤔 Nós vamos te ajudar… Assista nossos STORIES e veja como funciona o nosso método ❤💪 🚨 SABIA DISSO?\nTCHAU\nBARRIGA\nO corpo humano só pode suportar 45\nunidades de dor, mas no momento do\nparto a mulher suporta até 57 unidades de\ndor, o que equivale a 20 ossos quebrados\nde uma vez. Tome consciência, ame e\nrespeite as guerreiras do amor.\nDeixa um coração\nvermelho se você gostou",
         "O corpo humano suporta até 45 unidades de dor, mas no parto, uma mulher pode suportar 57 unidades",
         "train-por",
         "train-por",
         "43",
         "data/cleaned/normalization/train/train-por/train-por_part_0045.parquet"
        ],
        [
         "24",
         "FRASES DO GENOCIDA:\n\"NÃO SE GANHA COPA COM HOSPITAIS,\nVOU CONSTRUIR ESTÁDIOS DE FUTEBOL\"\n\"AINDA BEM QUE A \"NATUREZA\"\nCRIOU O CORONAVÍRUS\"\n\"UM POLÍTICO LADRÃO É MAIS DIGNO\nQUE UM FUNCIONÁRIO PÚBLICO\"\n\"EU NÃO VOU ENGANAR\nO POVO MAIS UMA VEZ\"\n\"EU NÃO POSSO VER MAIS JOVEM DE 14, 15 ANOS.\nASSALTANDO E SENDO VIOLENTADO PELA POLÍCIA\nSO PORQUE ROUBOU UM CELULAR\"",
         "Frases do genocida [Lula]: “Não se ganha Copa com hospitais, vou construir estádios de futebol” “Ainda bem que a natureza criou o coronavírus” “Um político ladrão é mais digno que um funcionário público” “Eu não vou enganar o povo mais uma vez” “Eu não posso ver mais jovem de 14, 15 anos assaltando e sendo violentado pela polícia só porque roubou um celular”",
         "train-por",
         "train-por",
         "3",
         "data/cleaned/normalization/train/train-por/train-por_part_0045.parquet"
        ],
        [
         "25",
         "🇦🇫 Afeganistão, Cabul: bandeira do Talibã hasteada no palácio presidencial. Cadê o Bidê? Com que cara a imprensa americana está achando do seu presidente? 🇦🇫 Afeganistão, Cabul: bandeira do Talibã hasteada no palácio presidencial. Cadê o Bidê? Com que cara a imprensa americana está achando do seu presidente? 🇦🇫 Afeganistão, Cabul: bandeira do Talibã hasteada no palácio presidencial. Cadê o Bidê? Com que cara a imprensa americana está achando do seu presidente? None",
         "Afeganistão, Cabul: bandeira do Talibã hasteada no palácio presidencial",
         "train-por",
         "train-por",
         "14",
         "data/cleaned/normalization/train/train-por/train-por_part_0045.parquet"
        ],
        [
         "26",
         "Por que ataques cardíacos ocorrem com mais frequência no banheiro?\n\nIsso foi escrito por um professor de medicina dos EUA na Malásia, que aconselha que as pessoas não comecem a molhar a cabeça e os cabelos ao tomar banho, porque essa é uma sequência inversa.\n\nIsso faz com que o corpo tente ajustar sua temperatura muito rapidamente devido à nossa condição de sangue quente.\nAo fazer esta sequência incorreta, o sangue aumenta sua velocidade para alcançar a cabeça mais rapidamente (para compensar a diferença de temperatura), que pode eventualmente causar vasos quebrados, capilares, artérias e, portanto, um ataque cardíaco (ou quedas).\n\nA maneira correta de iniciar o banho 🚿 é começar molhando os pés, as pernas 🏃‍♂ gradualmente até os ombros e, finalmente, a cabeça 🤨.\nSiga estas instruções e, em seguida, complete o seu banho, normalmente isso é especialmente recomendado para quem é hipertenso, tem altos níveis de colesterol e até sofre de enxaqueca..L/c Por que ataques cardíacos ocorrem com mais frequência no banheiro?\n\nIsso foi escrito por um professor de medicina dos EUA na Malásia, que aconselha que as pessoas não comecem a molhar a cabeça e os cabelos ao tomar banho, porque essa é uma sequência inversa.\n\nIsso faz com que o corpo tente ajustar sua temperatura muito rapidamente devido à nossa condição de sangue quente.\nAo fazer esta sequência incorreta, o sangue aumenta sua velocidade para alcançar a cabeça mais rapidamente (para compensar a diferença de temperatura), que pode eventualmente causar vasos quebrados, capilares, artérias e, portanto, um ataque cardíaco (ou quedas).\n\nA maneira correta de iniciar o banho 🚿 é começar molhando os pés, as pernas 🏃‍♂ gradualmente até os ombros e, finalmente, a cabeça 🤨.\nSiga estas instruções e, em seguida, complete o seu banho, normalmente isso é especialmente recomendado para quem é hipertenso, tem altos níveis de colesterol e até sofre de enxaqueca..L/c Por que ataques cardíacos ocorrem com mais frequência no banheiro?\n\nIsso foi escrito por um professor de medicina dos EUA na Malásia, que aconselha que as pessoas não comecem a molhar a cabeça e os cabelos ao tomar banho, porque essa é uma sequência inversa.\n\nIsso faz com que o corpo tente ajustar sua temperatura muito rapidamente devido à nossa condição de sangue quente.\nAo fazer esta sequência incorreta, o sangue aumenta sua velocidade para alcançar a cabeça mais rapidamente (para compensar a diferença de temperatura), que pode eventualmente causar vasos quebrados, capilares, artérias e, portanto, um ataque cardíaco (ou quedas).\n\nA maneira correta de iniciar o banho 🚿 é começar molhando os pés, as pernas 🏃‍♂ gradualmente até os ombros e, finalmente, a cabeça 🤨.\nSiga estas instruções e, em seguida, complete o seu banho, normalmente isso é especialmente recomendado para quem é hipertenso, tem altos níveis de colesterol e até sofre de enxaqueca..L/c None",
         "Ataques cardíacos ocorrem com mais frequência no banheiro e durante o banho porque as pessoas seguem uma sequência incorreta de lavagem",
         "train-por",
         "train-por",
         "8",
         "data/cleaned/normalization/train/train-por/train-por_part_0045.parquet"
        ],
        [
         "27",
         "[Levado para algum lugar]\n\n Você sabia?  😳🤭\n\n  “Cientificamente, a mulher negra é o único organismo que possui o DNA da mitocôndria que apresenta todas as variações possíveis para cada tipo de ser humano nesta terra (o africano, o albino, o europeu, o Oriente Médio  , etc.)\n\n Quando o DNA de uma mulher negra sofre mutação, todos os outros tipos de seres humanos ocorrem.  Isso é chamado de “gene Eve” e só é encontrado em mulheres negras.  \"\n\n Respeito a toda mulher negra👏🏾, ame nossas rainhas 😍 😍 [Levado para algum lugar]\n\n Você sabia?  😳🤭\n\n  “Cientificamente, a mulher negra é o único organismo que possui o DNA da mitocôndria que apresenta todas as variações possíveis para cada tipo de ser humano nesta terra (o africano, o albino, o europeu, o Oriente Médio  , etc.)\n\n Quando o DNA de uma mulher negra sofre mutação, todos os outros tipos de seres humanos ocorrem.  Isso é chamado de “gene Eve” e só é encontrado em mulheres negras.  \"\n\n Respeito a toda mulher negra👏🏾, ame nossas rainhas 😍 😍 [Levado para algum lugar]\n\n Você sabia?  😳🤭\n\n  “Cientificamente, a mulher negra é o único organismo que possui o DNA da mitocôndria que apresenta todas as variações possíveis para cada tipo de ser humano nesta terra (o africano, o albino, o europeu, o Oriente Médio  , etc.)\n\n Quando o DNA de uma mulher negra sofre mutação, todos os outros tipos de seres humanos ocorrem.  Isso é chamado de “gene Eve” e só é encontrado em mulheres negras.  \"\n\n Respeito a toda mulher negra👏🏾, ame nossas rainhas 😍 😍 None",
         "As mulheres negras têm em seu DNA todas as variações genéticas possíveis",
         "train-por",
         "train-por",
         "68",
         "data/cleaned/normalization/train/train-por/train-por_part_0045.parquet"
        ],
        [
         "28",
         "Tem umas coincidências na vida né... Parece que o navio do #greenpixe estava justamente navegando em águas internacionais, em frente ao litoral brasileiro bem na época do derramamento de óleo venezuelano... Tem umas coincidências na vida né... Parece que o navio do #greenpixe estava justamente navegando em águas internacionais, em frente ao litoral brasileiro bem na época do derramamento de óleo venezuelano... Tem umas coincidências na vida né... Parece que o navio do #greenpixe estava justamente navegando em águas internacionais, em frente ao litoral brasileiro bem na época do derramamento de óleo venezuelano... None",
         "Navio do Greenpeace navegou em frente ao litoral brasileiro na época do derramamento de óleo",
         "train-por",
         "train-por",
         "18",
         "data/cleaned/normalization/train/train-por/train-por_part_0045.parquet"
        ],
        [
         "29",
         "#PTNuncaMais #PTCancerNoBrasil #PartidoDasTrevas #PTNuncaMais #PTCancerNoBrasil #PartidoDasTrevas #PTNuncaMais #PTCancerNoBrasil #PartidoDasTrevas O GÁS TÁ CARO?\nJosé Carlos\nT\nSÓ PRA LEMBRAR QUE EU DOEI A REFINARIA PRA\nBOLÍVIA E AGORA A GENTE PAGA UMA FORTUNA\nPRA COMPRAR GAS DELES",
         "Lula doou uma refinaria para a Bolívia e agora o Brasil paga uma fortuna para comprar o gás deles.",
         "train-por",
         "train-por",
         "43",
         "data/cleaned/normalization/train/train-por/train-por_part_0045.parquet"
        ],
        [
         "30",
         "O ator #Arnold #Schwarzenegger publicou uma foto de si mesmo dormindo na rua sob sua #famosa #estátua de #bronze e, tristemente, #escreveu \"como os #tempos #mudaram\" ...\nA razão pela qual ele escreveu a frase não era só porque ele #envelheceu, mas porque quando ele era #governador da #Califórnia, #inaugurou um #hotel com sua estátua. A equipe do hotel disse a Arnold: \"a #qualquer #instante você pode vir, porque tem um quarto reservado para você\". Arnold então, deixou de ser governador da Califórnia e, quando foi ao hotel em uma oportunidade, a #administração se #recusou a dar-lhe um quarto argumentando que ele deveria pagar por isso, pois eles estavam em grande demanda.\nEle trouxe um #saco de #dormir e ficou debaixo da estátua e explicou o que queria transmitir: \"Quando eu estava em uma #posição importante, eles sempre me #elogiaram, e quando sai dessa posição, eles se #esqueceram de mim e não cumpriram sua promessa. .\n\nNão confie em sua posição ou na #quantidade de #dinheiro que você #possui. Nem seu #poder, nem sua #inteligência vão durar para sempre\".\nProcurando mostrar a todos que quando você é \"Importante\" aos olhos das pessoas, todos são seus \"Amigos\". Mas uma vez que você não beneficia os interesses, você não importará mais.\n. \"Você nem sempre é quem você pensa que sempre será, nada dura para sempre\".\n\nInscreva no nosso canal  é uma benção \n\nhttps://youtu.be/Rwl7x_KPT94 O ator #Arnold #Schwarzenegger publicou uma foto de si mesmo dormindo na rua sob sua #famosa #estátua de #bronze e, tristemente, #escreveu \"como os #tempos #mudaram\" ...\nA razão pela qual ele escreveu a frase não era só porque ele #envelheceu, mas porque quando ele era #governador da #Califórnia, #inaugurou um #hotel com sua estátua. A equipe do hotel disse a Arnold: \"a #qualquer #instante você pode vir, porque tem um quarto reservado para você\". Arnold então, deixou de ser governador da Califórnia e, quando foi ao hotel em uma oportunidade, a #administração se #recusou a dar-lhe um quarto argumentando que ele deveria pagar por isso, pois eles estavam em grande demanda.\nEle trouxe um #saco de #dormir e ficou debaixo da estátua e explicou o que queria transmitir: \"Quando eu estava em uma #posição importante, eles sempre me #elogiaram, e quando sai dessa posição, eles se #esqueceram de mim e não cumpriram sua promessa. .\n\nNão confie em sua posição ou na #quantidade de #dinheiro que você #possui. Nem seu #poder, nem sua #inteligência vão durar para sempre\".\nProcurando mostrar a todos que quando você é \"Importante\" aos olhos das pessoas, todos são seus \"Amigos\". Mas uma vez que você não beneficia os interesses, você não importará mais.\n. \"Você nem sempre é quem você pensa que sempre será, nada dura para sempre\".\n\nInscreva no nosso canal  é uma benção \n\nhttps://youtu.be/Rwl7x_KPT94 O ator #Arnold #Schwarzenegger publicou uma foto de si mesmo dormindo na rua sob sua #famosa #estátua de #bronze e, tristemente, #escreveu \"como os #tempos #mudaram\" ...\nA razão pela qual ele escreveu a frase não era só porque ele #envelheceu, mas porque quando ele era #governador da #Califórnia, #inaugurou um #hotel com sua estátua. A equipe do hotel disse a Arnold: \"a #qualquer #instante você pode vir, porque tem um quarto reservado para você\". Arnold então, deixou de ser governador da Califórnia e, quando foi ao hotel em uma oportunidade, a #administração se #recusou a dar-lhe um quarto argumentando que ele deveria pagar por isso, pois eles estavam em grande demanda.\nEle trouxe um #saco de #dormir e ficou debaixo da estátua e explicou o que queria transmitir: \"Quando eu estava em uma #posição importante, eles sempre me #elogiaram, e quando sai dessa posição, eles se #esqueceram de mim e não cumpriram sua promessa. .\n\nNão confie em sua posição ou na #quantidade de #dinheiro que você #possui. Nem seu #poder, nem sua #inteligência vão durar para sempre\".\nProcurando mostrar a todos que quando você é \"Importante\" aos olhos das pessoas, todos são seus \"Amigos\". Mas uma vez que você não beneficia os interesses, você não importará mais.\n. \"Você nem sempre é quem você pensa que sempre será, nada dura para sempre\".\n\nInscreva no nosso canal  é uma benção \n\nhttps://youtu.be/Rwl7x_KPT94 None",
         "O ator Arnold Schwarzenegger publicou uma foto dormindo na rua sob sua estátua de bronze e escreveu com tristeza \"como os tempos mudaram\"",
         "train-por",
         "train-por",
         "71",
         "data/cleaned/normalization/train/train-por/train-por_part_0055.parquet"
        ],
        [
         "31",
         "O Brasil está caindo aos pedaços, com o governo dividido entre o presidente Bolsonaro e o Supremo Tribunal Federal. Um único ministro manda mais do que todo mundo no país. Na verdade, isso aqui virou uma balbúrdia. Mesmo assim, o outro governo, o STF, encontra tempo para determinações que não cabem mais num Brasil cansado de tantas manobras e mau-caratismo em toda parte. Pois o tribunal encontrou um tempinho vago para derrubar, em votação concluída nesta segunda-feira, 12, a chamada Lei Amazonas, que obrigava a manter pelo menos um exemplar da Bíblia nas bibliotecas e escolas estaduais. Vejam bem: não se discute aqui nenhuma religião. Neste caso, religião não entra, embora o foco seja a Bíblia. A relatora da matéria, ministra Cármen Lúcia, afirmou que a norma é uma ofensa ao princípio da laicidade estatal, da liberdade religiosa e da isonomia entre os cidadãos. Palmas para ela! Muitas palmas, auditório!\n\nFaltou pouco para Cármen Lúcia dizer que manter um exemplar da Bíblia constitui um pecado. Em nenhum momento ela se referiu à escritura como o livro histórico que também é. Isso não interessa. A ação foi transformada em questão religiosa, assim como a pandemia no Brasil virou caso político. Para quem não sabe, a Bíblia reúne um conjunto de textos religiosos de valor sagrado para o cristianismo e, de maneira parcial, para o judaísmo e o islamismo, em que são narradas as interpretações teístas da razão da existência do homem na Terra. O livro foi escrito por cerca de 40 autores entre 1.500 a.C. e 45 a.C., do Antigo Testamento, e entre 45 d.C. e 90 d.C., do Novo Testamento, totalizando um período de 1.600 anos. Por essas informações rápidas, pode-se notar sua importância para a história da humanidade. É bom sempre repetir que não estamos discutindo religião. Discute-se, sim, as decisões tomadas pela Corte Suprema do país, sempre interferindo até mesmo nos costumes arraigados na vida dos povos que habitam a Terra. \n\nNÃO É POSSÍVEL QUE NINGUÉM ESTÁ VENDO PARA ONDE ESTAMOS CAMINHANDO!\n\nAgora resta-nos esperar pela próxima investida contra o cristianismo... 🥺\n\nhttps://jovempan.com.br/opiniao-jovem-pan/comentaristas/alvaro-alves-de-faria O Brasil está caindo aos pedaços, com o governo dividido entre o presidente Bolsonaro e o Supremo Tribunal Federal. Um único ministro manda mais do que todo mundo no país. Na verdade, isso aqui virou uma balbúrdia. Mesmo assim, o outro governo, o STF, encontra tempo para determinações que não cabem mais num Brasil cansado de tantas manobras e mau-caratismo em toda parte. Pois o tribunal encontrou um tempinho vago para derrubar, em votação concluída nesta segunda-feira, 12, a chamada Lei Amazonas, que obrigava a manter pelo menos um exemplar da Bíblia nas bibliotecas e escolas estaduais. Vejam bem: não se discute aqui nenhuma religião. Neste caso, religião não entra, embora o foco seja a Bíblia. A relatora da matéria, ministra Cármen Lúcia, afirmou que a norma é uma ofensa ao princípio da laicidade estatal, da liberdade religiosa e da isonomia entre os cidadãos. Palmas para ela! Muitas palmas, auditório!\n\nFaltou pouco para Cármen Lúcia dizer que manter um exemplar da Bíblia constitui um pecado. Em nenhum momento ela se referiu à escritura como o livro histórico que também é. Isso não interessa. A ação foi transformada em questão religiosa, assim como a pandemia no Brasil virou caso político. Para quem não sabe, a Bíblia reúne um conjunto de textos religiosos de valor sagrado para o cristianismo e, de maneira parcial, para o judaísmo e o islamismo, em que são narradas as interpretações teístas da razão da existência do homem na Terra. O livro foi escrito por cerca de 40 autores entre 1.500 a.C. e 45 a.C., do Antigo Testamento, e entre 45 d.C. e 90 d.C., do Novo Testamento, totalizando um período de 1.600 anos. Por essas informações rápidas, pode-se notar sua importância para a história da humanidade. É bom sempre repetir que não estamos discutindo religião. Discute-se, sim, as decisões tomadas pela Corte Suprema do país, sempre interferindo até mesmo nos costumes arraigados na vida dos povos que habitam a Terra. \n\nNÃO É POSSÍVEL QUE NINGUÉM ESTÁ VENDO PARA ONDE ESTAMOS CAMINHANDO!\n\nAgora resta-nos esperar pela próxima investida contra o cristianismo... 🥺\n\nhttps://jovempan.com.br/opiniao-jovem-pan/comentaristas/alvaro-alves-de-faria O Brasil está caindo aos pedaços, com o governo dividido entre o presidente Bolsonaro e o Supremo Tribunal Federal. Um único ministro manda mais do que todo mundo no país. Na verdade, isso aqui virou uma balbúrdia. Mesmo assim, o outro governo, o STF, encontra tempo para determinações que não cabem mais num Brasil cansado de tantas manobras e mau-caratismo em toda parte. Pois o tribunal encontrou um tempinho vago para derrubar, em votação concluída nesta segunda-feira, 12, a chamada Lei Amazonas, que obrigava a manter pelo menos um exemplar da Bíblia nas bibliotecas e escolas estaduais. Vejam bem: não se discute aqui nenhuma religião. Neste caso, religião não entra, embora o foco seja a Bíblia. A relatora da matéria, ministra Cármen Lúcia, afirmou que a norma é uma ofensa ao princípio da laicidade estatal, da liberdade religiosa e da isonomia entre os cidadãos. Palmas para ela! Muitas palmas, auditório!\n\nFaltou pouco para Cármen Lúcia dizer que manter um exemplar da Bíblia constitui um pecado. Em nenhum momento ela se referiu à escritura como o livro histórico que também é. Isso não interessa. A ação foi transformada em questão religiosa, assim como a pandemia no Brasil virou caso político. Para quem não sabe, a Bíblia reúne um conjunto de textos religiosos de valor sagrado para o cristianismo e, de maneira parcial, para o judaísmo e o islamismo, em que são narradas as interpretações teístas da razão da existência do homem na Terra. O livro foi escrito por cerca de 40 autores entre 1.500 a.C. e 45 a.C., do Antigo Testamento, e entre 45 d.C. e 90 d.C., do Novo Testamento, totalizando um período de 1.600 anos. Por essas informações rápidas, pode-se notar sua importância para a história da humanidade. É bom sempre repetir que não estamos discutindo religião. Discute-se, sim, as decisões tomadas pela Corte Suprema do país, sempre interferindo até mesmo nos costumes arraigados na vida dos povos que habitam a Terra. \n\nNÃO É POSSÍVEL QUE NINGUÉM ESTÁ VENDO PARA ONDE ESTAMOS CAMINHANDO!\n\nAgora resta-nos esperar pela próxima investida contra o cristianismo... 🥺\n\nhttps://jovempan.com.br/opiniao-jovem-pan/comentaristas/alvaro-alves-de-faria Em mais uma decisão questionável,\nSTF ignora a história e\nproíbe Bíblia em\nescolas e bibliotecas públicas!",
         "STF proíbe Bíblia nas escolas e bibliotecas públicas",
         "train-por",
         "train-por",
         "36",
         "data/cleaned/normalization/train/train-por/train-por_part_0055.parquet"
        ],
        [
         "32",
         "Professor da UFC, Universidade Federal do Ceará, vai para faculdade ministrar sua aula com a camisa do Bolsonaro e é brutalmente espancado e humilhado, chega a ser cuspido por alunos e alunas.\n\n*É esta a esquerda?*\n\n*De quem é mesmo o discurso de ódio?* Professor da UFC, Universidade Federal do Ceará, vai para faculdade ministrar sua aula com a camisa do Bolsonaro e é brutalmente espancado e humilhado, chega a ser cuspido por alunos e alunas.\n\n*É esta a esquerda?*\n\n*De quem é mesmo o discurso de ódio?* Professor da UFC, Universidade Federal do Ceará, vai para faculdade ministrar sua aula com a camisa do Bolsonaro e é brutalmente espancado e humilhado, chega a ser cuspido por alunos e alunas.\n\n*É esta a esquerda?*\n\n*De quem é mesmo o discurso de ódio?* None",
         "Professor foi brutalmente agredido por vestir camisa do Bolsonaro",
         "train-por",
         "train-por",
         "70",
         "data/cleaned/normalization/train/train-por/train-por_part_0055.parquet"
        ],
        [
         "33",
         "Chega ao Brasil\nUltrassom que destrói\ncélulas cancerígenas\nsem cirurgias.\nE o Melhor, pelo SUS\nObrigado Bolsonaro\nObrigado Israel.",
         "Ultrassom que destrói células cancerígenas chegou ao Brasil no governo Bolsonaro",
         "train-por",
         "train-por",
         "9",
         "data/cleaned/normalization/train/train-por/train-por_part_0055.parquet"
        ],
        [
         "34",
         "Carrefour fechou hoje em Porto Alegre, demitidos 783 pessoas. Agradeçam a Manuela D'Ávila.\nAgenda comunista aplicada com sucesso👺🤬🤮 Carrefour fechou hoje em Porto Alegre, demitidos 783 pessoas. Agradeçam a Manuela D'Ávila.\nAgenda comunista aplicada com sucesso👺🤬🤮 Carrefour fechou hoje em Porto Alegre, demitidos 783 pessoas. Agradeçam a Manuela D'Ávila.\nAgenda comunista aplicada com sucesso👺🤬🤮 None",
         "Carrefour fechou hoje em Porto Alegre, demitindo 783 pessoas. Agradeçam a Manuela D'Ávila.",
         "train-por",
         "train-por",
         "2",
         "data/cleaned/normalization/train/train-por/train-por_part_0055.parquet"
        ],
        [
         "35",
         "Curitiba 30 junho 2020. Ciclone. (Foto da prefeitura) Curitiba 30 junho 2020. Ciclone. (Foto da prefeitura) Curitiba 30 junho 2020. Ciclone. (Foto da prefeitura) None",
         "Curitiba 30 junho 2020. Ciclone. (Foto da prefeitura)",
         "train-por",
         "train-por",
         "5",
         "data/cleaned/normalization/train/train-por/train-por_part_0055.parquet"
        ],
        [
         "36",
         "Quando as leoas estão no cio, elas fazem muito sexo em um único dia (20 a 40 vezes) e é a leoa que exige o acasalamento.\nEntão, se um macho está cansado e não aguenta mais, ela morde seus testículos, exigindo continuar se acasalando 😳 Quando as leoas estão no cio, elas fazem muito sexo em um único dia (20 a 40 vezes) e é a leoa que exige o acasalamento.\nEntão, se um macho está cansado e não aguenta mais, ela morde seus testículos, exigindo continuar se acasalando 😳 Quando as leoas estão no cio, elas fazem muito sexo em um único dia (20 a 40 vezes) e é a leoa que exige o acasalamento.\nEntão, se um macho está cansado e não aguenta mais, ela morde seus testículos, exigindo continuar se acasalando 😳 None",
         "Quando as leoas estão no cio, elas fazem muito sexo em um único dia. Se um macho está cansado e não aguenta mais, ela morde seus testículos, exigindo continuar acasalando.",
         "train-por",
         "train-por",
         "53",
         "data/cleaned/normalization/train/train-por/train-por_part_0055.parquet"
        ],
        [
         "37",
         "Natal na fronteira dos EUA com o México, 2019. Via Júlio Lancellotti Natal na fronteira dos EUA com o México, 2019. Via Júlio Lancellotti Natal na fronteira dos EUA com o México, 2019. Via Júlio Lancellotti None",
         "Natal na fronteira dos EUA com o México, 2019",
         "train-por",
         "train-por",
         "81",
         "data/cleaned/normalization/train/train-por/train-por_part_0055.parquet"
        ],
        [
         "38",
         "Algumas pessoas acham que o óleo de cannabis é algo novo e precisa de mais provas científicas.\nDe meados perto de 1850 as farmácias (drogarias) tinham a sua existência mais de 20 tipos de medicamentos baseados em cannabis, um dos maiores produtos que se plantava e colhia na época. Era habitual ir a estas lojas e solicitar um medicamento natural.\nA partir de 1910, dá-se a primeira lei proibicionista nos EUA, as crescentes indústrias de papel de árvores e teares de algodão, viram no cânhamo e na cannabis uma competição difícil de ganhar, tabaqueiras e fábricas de licor em conjunto trabalharam para erradicar sua produção mesmo comprando à imprensa e às autoridades.\nA verdade é que, desde o ano de 1850 a 1937, o óleo de cannabis rico em canabidiol foi utilizado como medicamento principal para mais de 100 doenças primárias.#repost @edmundojice Algumas pessoas acham que o óleo de cannabis é algo novo e precisa de mais provas científicas.\nDe meados perto de 1850 as farmácias (drogarias) tinham a sua existência mais de 20 tipos de medicamentos baseados em cannabis, um dos maiores produtos que se plantava e colhia na época. Era habitual ir a estas lojas e solicitar um medicamento natural.\nA partir de 1910, dá-se a primeira lei proibicionista nos EUA, as crescentes indústrias de papel de árvores e teares de algodão, viram no cânhamo e na cannabis uma competição difícil de ganhar, tabaqueiras e fábricas de licor em conjunto trabalharam para erradicar sua produção mesmo comprando à imprensa e às autoridades.\nA verdade é que, desde o ano de 1850 a 1937, o óleo de cannabis rico em canabidiol foi utilizado como medicamento principal para mais de 100 doenças primárias.#repost @edmundojice Algumas pessoas acham que o óleo de cannabis é algo novo e precisa de mais provas científicas.\nDe meados perto de 1850 as farmácias (drogarias) tinham a sua existência mais de 20 tipos de medicamentos baseados em cannabis, um dos maiores produtos que se plantava e colhia na época. Era habitual ir a estas lojas e solicitar um medicamento natural.\nA partir de 1910, dá-se a primeira lei proibicionista nos EUA, as crescentes indústrias de papel de árvores e teares de algodão, viram no cânhamo e na cannabis uma competição difícil de ganhar, tabaqueiras e fábricas de licor em conjunto trabalharam para erradicar sua produção mesmo comprando à imprensa e às autoridades.\nA verdade é que, desde o ano de 1850 a 1937, o óleo de cannabis rico em canabidiol foi utilizado como medicamento principal para mais de 100 doenças primárias.#repost @edmundojice None",
         "Consumia-se cannabis frequentemente nos séculos XIX e XX",
         "train-por",
         "train-por",
         "39",
         "data/cleaned/normalization/train/train-por/train-por_part_0055.parquet"
        ],
        [
         "39",
         "1984... ficção que se torna realidade! 1984... ficção que se torna realidade! 1984... ficção que se torna realidade! \"Para controlar um povo e tomar o poder, tem\nque conhecer seus medos, e o maior medo\ndas pessoas é da morte. Quando se tornam\nescravos do medo, é fácil convencê-los que o\nestado irá salvá-los.\"\nGeorge Owell 1984",
         "\"Para controlar um povo e tomar o poder tem que conhecer seus medos e o maior medo das pessoas e da morte. Quando se tornam escravos do medo, é fácil convencê-los que o estado irá salvá-los\" George Orwell 1984",
         "train-por",
         "train-por",
         "75",
         "data/cleaned/normalization/train/train-por/train-por_part_0027.parquet"
        ],
        [
         "40",
         "“Eu não posso ser parte de um mundo onde os homens vestem suas esposas como objetos, mostrando tudo o que deve ser apreciado. Onde não há conceito de honra e dignidade, e só se pode confiar neles quando eles dizem “eu prometo”.\n\nOnde as mulheres não querem filhos, e os homens não querem uma família.\n\nOnde os idiotas acreditam ser bem sucedidos atrás da roda dos carros dos seus pais, e um pai que tem um pouco de poder está tentando provar-lhe que você é um ninguém.\n\nOnde as pessoas declaram falsamente que acreditam em Deus com um shot de álcool em suas mãos, e a falta de qualquer entendimento sobre sua religião.\n\nOnde o conceito de ciúme é considerado vergonhoso, e modéstia é uma desvantagem.\n\nOnde as pessoas se esqueceram do amor, mas estão procurando o melhor parceiro.\n\nOnde as pessoas reparam todo o ruído de seus carros, sem poupar dinheiro ou tempo, e parecem tão pobres que só um carro caro pode escondê-las.\n\nOnde os meninos desperdiçam o dinheiro de seus pais em casas noturnas, sob os sons primitivos, e as meninas se apaixonam por eles.\n\nOnde homens e mulheres já não são identificáveis e onde tudo isso é chamado de liberdade de escolha, mas aqueles que escolhem um caminho diferente – são marcados como déspotas.\n\nEu escolho o meu caminho, mas é uma pena não ter encontrado uma compreensão semelhante nas pessoas entre as quais eu desejava encontrá-la acima de tudo … ”\n\nKeanu Reeves “Eu não posso ser parte de um mundo onde os homens vestem suas esposas como objetos, mostrando tudo o que deve ser apreciado. Onde não há conceito de honra e dignidade, e só se pode confiar neles quando eles dizem “eu prometo”.\n\nOnde as mulheres não querem filhos, e os homens não querem uma família.\n\nOnde os idiotas acreditam ser bem sucedidos atrás da roda dos carros dos seus pais, e um pai que tem um pouco de poder está tentando provar-lhe que você é um ninguém.\n\nOnde as pessoas declaram falsamente que acreditam em Deus com um shot de álcool em suas mãos, e a falta de qualquer entendimento sobre sua religião.\n\nOnde o conceito de ciúme é considerado vergonhoso, e modéstia é uma desvantagem.\n\nOnde as pessoas se esqueceram do amor, mas estão procurando o melhor parceiro.\n\nOnde as pessoas reparam todo o ruído de seus carros, sem poupar dinheiro ou tempo, e parecem tão pobres que só um carro caro pode escondê-las.\n\nOnde os meninos desperdiçam o dinheiro de seus pais em casas noturnas, sob os sons primitivos, e as meninas se apaixonam por eles.\n\nOnde homens e mulheres já não são identificáveis e onde tudo isso é chamado de liberdade de escolha, mas aqueles que escolhem um caminho diferente – são marcados como déspotas.\n\nEu escolho o meu caminho, mas é uma pena não ter encontrado uma compreensão semelhante nas pessoas entre as quais eu desejava encontrá-la acima de tudo … ”\n\nKeanu Reeves “Eu não posso ser parte de um mundo onde os homens vestem suas esposas como objetos, mostrando tudo o que deve ser apreciado. Onde não há conceito de honra e dignidade, e só se pode confiar neles quando eles dizem “eu prometo”.\n\nOnde as mulheres não querem filhos, e os homens não querem uma família.\n\nOnde os idiotas acreditam ser bem sucedidos atrás da roda dos carros dos seus pais, e um pai que tem um pouco de poder está tentando provar-lhe que você é um ninguém.\n\nOnde as pessoas declaram falsamente que acreditam em Deus com um shot de álcool em suas mãos, e a falta de qualquer entendimento sobre sua religião.\n\nOnde o conceito de ciúme é considerado vergonhoso, e modéstia é uma desvantagem.\n\nOnde as pessoas se esqueceram do amor, mas estão procurando o melhor parceiro.\n\nOnde as pessoas reparam todo o ruído de seus carros, sem poupar dinheiro ou tempo, e parecem tão pobres que só um carro caro pode escondê-las.\n\nOnde os meninos desperdiçam o dinheiro de seus pais em casas noturnas, sob os sons primitivos, e as meninas se apaixonam por eles.\n\nOnde homens e mulheres já não são identificáveis e onde tudo isso é chamado de liberdade de escolha, mas aqueles que escolhem um caminho diferente – são marcados como déspotas.\n\nEu escolho o meu caminho, mas é uma pena não ter encontrado uma compreensão semelhante nas pessoas entre as quais eu desejava encontrá-la acima de tudo … ”\n\nKeanu Reeves None",
         "Keanu Reeves criticou um mundo onde \"homens vestem suas mulheres como objetos\"",
         "train-por",
         "train-por",
         "67",
         "data/cleaned/normalization/train/train-por/train-por_part_0027.parquet"
        ],
        [
         "41",
         "Como assim imprensa? Com ele tudo pode? Como assim imprensa? Com ele tudo pode? Como assim imprensa? Com ele tudo pode? UÉ?\nPAULO EDUARDO\nMARTINS\nREVISTA\nOeste\nApós crise migratória, Biden\nretoma construção do muro\nde Trump\nAgência federal prevê que 2 milhões de refugiados cruzem a fronteira\nsul dos EUA nos próximos dias.",
         "Joe Biden retoma construção do muro de Trump",
         "train-por",
         "train-por",
         "28",
         "data/cleaned/normalization/train/train-por/train-por_part_0027.parquet"
        ],
        [
         "42",
         "Bom dia Mundo 🙏\n\nNo Chile 🇨🇱  pode se observar o fenómeno da  conjunção dos planetas Júpiter e Saturno,  formando esse lindo show no céu 👏🤩 \nESTRELA DE BELÉM 🌟 !!\nEsse é o grande aviso de que a RENOVAÇÃO da humanidade está CHEGANDO!!!\nAMÉM🙏🙏🙏🙏 Bom dia Mundo 🙏\n\nNo Chile 🇨🇱  pode se observar o fenómeno da  conjunção dos planetas Júpiter e Saturno,  formando esse lindo show no céu 👏🤩 \nESTRELA DE BELÉM 🌟 !!\nEsse é o grande aviso de que a RENOVAÇÃO da humanidade está CHEGANDO!!!\nAMÉM🙏🙏🙏🙏 Bom dia Mundo 🙏\n\nNo Chile 🇨🇱  pode se observar o fenómeno da  conjunção dos planetas Júpiter e Saturno,  formando esse lindo show no céu 👏🤩 \nESTRELA DE BELÉM 🌟 !!\nEsse é o grande aviso de que a RENOVAÇÃO da humanidade está CHEGANDO!!!\nAMÉM🙏🙏🙏🙏 None",
         "No Chile observam o fenômeno da conjunção de Júpiter e Saturno, formando a Estrela de Belém",
         "train-por",
         "train-por",
         "79",
         "data/cleaned/normalization/train/train-por/train-por_part_0027.parquet"
        ],
        [
         "43",
         "Biden conseguiu cumprir uma das ordens do PCC mais uma etapa da agenda da nova ordem mundial.🇦🇫 Afeganistão, Cabul: bandeira do Talibã hasteada no palácio presidencial. Biden conseguiu cumprir uma das ordens do PCC mais uma etapa da agenda da nova ordem mundial.🇦🇫 Afeganistão, Cabul: bandeira do Talibã hasteada no palácio presidencial. Biden conseguiu cumprir uma das ordens do PCC mais uma etapa da agenda da nova ordem mundial.🇦🇫 Afeganistão, Cabul: bandeira do Talibã hasteada no palácio presidencial. None",
         "\"Bandeira talibãs foi hasteada no palácio presidencial de Cabul\".",
         "train-por",
         "train-por",
         "11",
         "data/cleaned/normalization/train/train-por/train-por_part_0027.parquet"
        ],
        [
         "44",
         "O corredor queniano Abel Mutai estava a poucos metros da linha de chegada, mas confundiu-se com os sinais e parou, pensando que tinha terminado a corrida. Ivan Fernandez, (que fala espanhol) estava mesmo atrás dele e, percebendo o que estava a acontecer, começou a gritar para o queniano continuar a correr. Mutai não sabia espanhol e não entendia.\n\nPercebendo o que estava a acontecer, Fernandez levou Mutai para a vitória.\n\nUm repórter perguntou a Ivan: ′′ Por que é que fez isso?\" Ivan respondeu: ′′O meu sonho é que um dia possamos ter algum tipo de vida comunitária onde nós empurramos a nós mesmos e também aos outros para vencer.\"\n\nO repórter insistiu ′′ Mas por que é que deixou o atleta do Quénia ganhar?\" Ivan respondeu: ′′ Eu não o deixei ganhar; ele ia ganhar. A corrida era dele.\"\n\nO repórter insistiu e perguntou novamente: ′′ Mas você poderia ter ganho!\" Ivan olhou para ele e respondeu: ′′ Mas qual seria o mérito da minha vitória? Qual seria a honra desta medalha? O que é que a minha mãe pensaria disso?\" \n\nOs valores são transmitidos de geração em geração. Que valores ensinamos aos nossos filhos e quanto inspiramos os outros? A maioria de nós aproveita as fraquezas das pessoas, em vez de ajudar a fortalecê-las.\n\nBom fim de semana. O corredor queniano Abel Mutai estava a poucos metros da linha de chegada, mas confundiu-se com os sinais e parou, pensando que tinha terminado a corrida. Ivan Fernandez, (que fala espanhol) estava mesmo atrás dele e, percebendo o que estava a acontecer, começou a gritar para o queniano continuar a correr. Mutai não sabia espanhol e não entendia.\n\nPercebendo o que estava a acontecer, Fernandez levou Mutai para a vitória.\n\nUm repórter perguntou a Ivan: ′′ Por que é que fez isso?\" Ivan respondeu: ′′O meu sonho é que um dia possamos ter algum tipo de vida comunitária onde nós empurramos a nós mesmos e também aos outros para vencer.\"\n\nO repórter insistiu ′′ Mas por que é que deixou o atleta do Quénia ganhar?\" Ivan respondeu: ′′ Eu não o deixei ganhar; ele ia ganhar. A corrida era dele.\"\n\nO repórter insistiu e perguntou novamente: ′′ Mas você poderia ter ganho!\" Ivan olhou para ele e respondeu: ′′ Mas qual seria o mérito da minha vitória? Qual seria a honra desta medalha? O que é que a minha mãe pensaria disso?\" \n\nOs valores são transmitidos de geração em geração. Que valores ensinamos aos nossos filhos e quanto inspiramos os outros? A maioria de nós aproveita as fraquezas das pessoas, em vez de ajudar a fortalecê-las.\n\nBom fim de semana. O corredor queniano Abel Mutai estava a poucos metros da linha de chegada, mas confundiu-se com os sinais e parou, pensando que tinha terminado a corrida. Ivan Fernandez, (que fala espanhol) estava mesmo atrás dele e, percebendo o que estava a acontecer, começou a gritar para o queniano continuar a correr. Mutai não sabia espanhol e não entendia.\n\nPercebendo o que estava a acontecer, Fernandez levou Mutai para a vitória.\n\nUm repórter perguntou a Ivan: ′′ Por que é que fez isso?\" Ivan respondeu: ′′O meu sonho é que um dia possamos ter algum tipo de vida comunitária onde nós empurramos a nós mesmos e também aos outros para vencer.\"\n\nO repórter insistiu ′′ Mas por que é que deixou o atleta do Quénia ganhar?\" Ivan respondeu: ′′ Eu não o deixei ganhar; ele ia ganhar. A corrida era dele.\"\n\nO repórter insistiu e perguntou novamente: ′′ Mas você poderia ter ganho!\" Ivan olhou para ele e respondeu: ′′ Mas qual seria o mérito da minha vitória? Qual seria a honra desta medalha? O que é que a minha mãe pensaria disso?\" \n\nOs valores são transmitidos de geração em geração. Que valores ensinamos aos nossos filhos e quanto inspiramos os outros? A maioria de nós aproveita as fraquezas das pessoas, em vez de ajudar a fortalecê-las.\n\nBom fim de semana. None",
         "O corredor queniano Abel Mutai estava a poucos metros da linha de chegada, mas confundiu-se com os sinais e parou, pensando que tinha terminado a corrida. Ivan Fernandez, percebendo o que estava a acontecer, levou Mutai para a vitória.",
         "train-por",
         "train-por",
         "6",
         "data/cleaned/normalization/train/train-por/train-por_part_0027.parquet"
        ],
        [
         "45",
         "NOTÍCIA DE ÚLTIMA HORA\nEVIDÊNCIAS DE TENTATIVA DE ENVENENAMENTO\nURGENTE ⚠ \nNosso Valente Ministro Ricardo Salles, foi vítima do 'Ecoterrorismo',  provavelmente  envenenado ontem durante  a Reunião  com os  governadores da Amazônia. As evidências  são de mamona,  um conhecido agente utilizado por ataques ecoterrorista.                                                                       \nO Ministro passou a noite no HFA- Hospital das forças Armadas,   lutando por sua Vida. O procedimento  foi de protocolo de guerra  Biológica... Desintoxicação  por hemodiálise. \nO GSI em Alerta Máximo,  fazendo varredura  no Palácio do Planalto.                                                                         É  guerra minha gente  é  guerra, a CAMBADA  só  larga o OSSO na base das  Baionetas.\n#SomosTodosRicardoSalles NOTÍCIA DE ÚLTIMA HORA\nEVIDÊNCIAS DE TENTATIVA DE ENVENENAMENTO\nURGENTE ⚠ \nNosso Valente Ministro Ricardo Salles, foi vítima do 'Ecoterrorismo',  provavelmente  envenenado ontem durante  a Reunião  com os  governadores da Amazônia. As evidências  são de mamona,  um conhecido agente utilizado por ataques ecoterrorista.                                                                       \nO Ministro passou a noite no HFA- Hospital das forças Armadas,   lutando por sua Vida. O procedimento  foi de protocolo de guerra  Biológica... Desintoxicação  por hemodiálise. \nO GSI em Alerta Máximo,  fazendo varredura  no Palácio do Planalto.                                                                         É  guerra minha gente  é  guerra, a CAMBADA  só  larga o OSSO na base das  Baionetas.\n#SomosTodosRicardoSalles NOTÍCIA DE ÚLTIMA HORA\nEVIDÊNCIAS DE TENTATIVA DE ENVENENAMENTO\nURGENTE ⚠ \nNosso Valente Ministro Ricardo Salles, foi vítima do 'Ecoterrorismo',  provavelmente  envenenado ontem durante  a Reunião  com os  governadores da Amazônia. As evidências  são de mamona,  um conhecido agente utilizado por ataques ecoterrorista.                                                                       \nO Ministro passou a noite no HFA- Hospital das forças Armadas,   lutando por sua Vida. O procedimento  foi de protocolo de guerra  Biológica... Desintoxicação  por hemodiálise. \nO GSI em Alerta Máximo,  fazendo varredura  no Palácio do Planalto.                                                                         É  guerra minha gente  é  guerra, a CAMBADA  só  larga o OSSO na base das  Baionetas.\n#SomosTodosRicardoSalles None",
         "O ministro do Meio Ambiente, Ricardo Salles, sofreu uma tentativa de envenenamento com mamona em uma reunião com governadores da Amazônia",
         "train-por",
         "train-por",
         "47",
         "data/cleaned/normalization/train/train-por/train-por_part_0027.parquet"
        ],
        [
         "46",
         "*VOTO NULO = 000 + TECLA VERDE\nUfa!!!!!!!!*\nVocê sabe para que serve\no VOTO NULO?\nNão sabe, não é mesmo?\nNão se preocupe, acredite\nque menos de 1% da população\nsaiba algo sobre isso.\nSegundo a legislação brasileira,\nse a eleição tiver 51% de votos nulos,\no pleito é ANULADO e novas eleições\ntêm que ser convocadas\nimediatamente; e os candidatos não\neleitos ficarão IMPOSSIBILITADOS\nDE CONCORRER NESSA NOVA\nELEIÇÃO!!!\nÉ disso que o Brasil precisa:\num susto nessa gente!\nEsta campanha vale a pena!\nNULO neles!!!\nDIVULGUE, PELO MENOS PARA\nQUE AS PESSOAS SAIBAM\n#MovimentoOrdemEmProgresso\n©",
         "Se uma eleição tiver 51% dos votos nulos, o pleito é anulado.",
         "train-por",
         "train-por",
         "15",
         "data/cleaned/normalization/train/train-por/train-por_part_0027.parquet"
        ],
        [
         "47",
         "Que raro vírus tão mortal que\nnão matou nenhum político...\nSerá que este 'vírus\" é\ncorrupto?!",
         "\"Que estranho, um vírus tão mortal que não matou nenhum político... Será que o \"vírus\" é corrupto.\"",
         "train-por",
         "train-por",
         "30",
         "data/cleaned/normalization/train/train-por/train-por_part_0027.parquet"
        ],
        [
         "48",
         "Que tal falar de cultura?\n\nSexo também é cultura!!!!!\nSabia que antigamente em Portugal, devido à baixa taxa de natalidade, as pessoas eram obrigadas a ter relações: \"Fornicação Obrigatória por Despacho Administrativo\" = sigla F.O.D.A. Daí a origem da palavra FODA\n\nHá imensas igrejas medievais com símbolos sexuais como este. Que tal falar de cultura?\n\nSexo também é cultura!!!!!\nSabia que antigamente em Portugal, devido à baixa taxa de natalidade, as pessoas eram obrigadas a ter relações: \"Fornicação Obrigatória por Despacho Administrativo\" = sigla F.O.D.A. Daí a origem da palavra FODA\n\nHá imensas igrejas medievais com símbolos sexuais como este. Que tal falar de cultura?\n\nSexo também é cultura!!!!!\nSabia que antigamente em Portugal, devido à baixa taxa de natalidade, as pessoas eram obrigadas a ter relações: \"Fornicação Obrigatória por Despacho Administrativo\" = sigla F.O.D.A. Daí a origem da palavra FODA\n\nHá imensas igrejas medievais com símbolos sexuais como este. None",
         "A palavra \"foda\" originou-se em Portugal como sigla de “Fornicação Obrigatória por Despacho Administrativo”",
         "train-por",
         "train-por",
         "72",
         "data/cleaned/normalization/train/train-por/train-por_part_0027.parquet"
        ],
        [
         "49",
         "A arara de Spix, que inspirou o filme Rio, foi oficialmente declarada extinta. 😪 A arara de Spix, que inspirou o filme Rio, foi oficialmente declarada extinta. 😪 A arara de Spix, que inspirou o filme Rio, foi oficialmente declarada extinta. 😪 None",
         "A arara de Spix, que inspirou o filme Rio, foi oficialmente declarada extinta",
         "train-por",
         "train-por",
         "52",
         "data/cleaned/normalization/train/train-por/train-por_part_0037.parquet"
        ]
       ],
       "shape": {
        "columns": 6,
        "rows": 7505
       }
      },
      "text/html": [
       "<div>\n",
       "<style scoped>\n",
       "    .dataframe tbody tr th:only-of-type {\n",
       "        vertical-align: middle;\n",
       "    }\n",
       "\n",
       "    .dataframe tbody tr th {\n",
       "        vertical-align: top;\n",
       "    }\n",
       "\n",
       "    .dataframe thead th {\n",
       "        text-align: right;\n",
       "    }\n",
       "</style>\n",
       "<table border=\"1\" class=\"dataframe\">\n",
       "  <thead>\n",
       "    <tr style=\"text-align: right;\">\n",
       "      <th></th>\n",
       "      <th>text</th>\n",
       "      <th>reference</th>\n",
       "      <th>split</th>\n",
       "      <th>lang</th>\n",
       "      <th>init_part_no</th>\n",
       "      <th>source_file</th>\n",
       "    </tr>\n",
       "  </thead>\n",
       "  <tbody>\n",
       "    <tr>\n",
       "      <th>0</th>\n",
       "      <td>INZ\\nPESQUISA IBOPE\\nAprovação de\\nBolsonaro vai a80%\\nSe você não viralizar, a\\ngrande mídia não fará isso\\npor você.</td>\n",
       "      <td>Bolsonaro tem 80% de aprovação no Ibope</td>\n",
       "      <td>train-por</td>\n",
       "      <td>train-por</td>\n",
       "      <td>25</td>\n",
       "      <td>data/cleaned/normalization/train/train-por/train-por_part_0001.parquet</td>\n",
       "    </tr>\n",
       "    <tr>\n",
       "      <th>1</th>\n",
       "      <td>Este é um cemitério perto de Paris, França, com\\ncentenas de carros elétricos. Lembre-se de que estes\\nsão apenas carros usados pela cidade de Paris e não\\nveículos pessoais. Todos eles têm o mesm...</td>\n",
       "      <td>Baterias de carros elétricos drenam toxinas para o solo</td>\n",
       "      <td>train-por</td>\n",
       "      <td>train-por</td>\n",
       "      <td>28</td>\n",
       "      <td>data/cleaned/normalization/train/train-por/train-por_part_0001.parquet</td>\n",
       "    </tr>\n",
       "    <tr>\n",
       "      <th>2</th>\n",
       "      <td>😏 😏 😏 Notícias on line\\nN\\nNOTICIAS\\nIMAGE\\nPaolla Oliveira diz que a\\nprostituição será a única forma de\\nsobrevivência das atrizes da Globo\\ncaso Bolsonaro seja reeleito</td>\n",
       "      <td>Paolla Oliveira disse que atrizes da Globo terão de se prostituir para sobreviver caso Bolsonaro seja reeleito</td>\n",
       "      <td>train-por</td>\n",
       "      <td>train-por</td>\n",
       "      <td>59</td>\n",
       "      <td>data/cleaned/normalization/train/train-por/train-por_part_0001.parquet</td>\n",
       "    </tr>\n",
       "    <tr>\n",
       "      <th>3</th>\n",
       "      <td>Isso aqui é uma delegacia de Minneapolis, Minnesota ( EUA) pegando fogo devido ao assassinato de George Floyd, homem negro assassinado brutalmente e injustamente pela policial.\\nIsso aqui é fogo n...</td>\n",
       "      <td>Delegacia de polícia em Minneapolis em chamas depois da morte de George Floyd</td>\n",
       "      <td>train-por</td>\n",
       "      <td>train-por</td>\n",
       "      <td>37</td>\n",
       "      <td>data/cleaned/normalization/train/train-por/train-por_part_0001.parquet</td>\n",
       "    </tr>\n",
       "    <tr>\n",
       "      <th>4</th>\n",
       "      <td>Esta é a primeira imagem de ressonância magnética do mundo que mostra o laço de uma mãe e seu filho, graças à NH Neuro Training. A imagem é da neurocientista Rebecca Saxe a beijar o seu filho de d...</td>\n",
       "      <td>Ressonância magnética de uma mãe com seu filho mostra reação química nos dois cérebros por um beijo</td>\n",
       "      <td>train-por</td>\n",
       "      <td>train-por</td>\n",
       "      <td>53</td>\n",
       "      <td>data/cleaned/normalization/train/train-por/train-por_part_0001.parquet</td>\n",
       "    </tr>\n",
       "    <tr>\n",
       "      <th>...</th>\n",
       "      <td>...</td>\n",
       "      <td>...</td>\n",
       "      <td>...</td>\n",
       "      <td>...</td>\n",
       "      <td>...</td>\n",
       "      <td>...</td>\n",
       "    </tr>\n",
       "    <tr>\n",
       "      <th>7500</th>\n",
       "      <td>Had gone to get India closed. In Papalaj, Rajasthan, the public thrashed him badly and blackened his face.\\n</td>\n",
       "      <td>Had gone to get India closed. In Papalaj, Rajasthan, the public thrashed him badly and blackened his face.\\n</td>\n",
       "      <td>dev-eng</td>\n",
       "      <td>dev-eng</td>\n",
       "      <td>53</td>\n",
       "      <td>data/cleaned/normalization/dev/dev-eng/dev-eng_part_0037.parquet</td>\n",
       "    </tr>\n",
       "    <tr>\n",
       "      <th>7501</th>\n",
       "      <td>A Muslim youth molested a Hindu woman in the market.\\n \\n #AdaniBackOnTrack #love #StopDrinkingAlcohol</td>\n",
       "      <td>A Muslim youth molested a Hindu woman in the market</td>\n",
       "      <td>dev-eng</td>\n",
       "      <td>dev-eng</td>\n",
       "      <td>40</td>\n",
       "      <td>data/cleaned/normalization/dev/dev-eng/dev-eng_part_0037.parquet</td>\n",
       "    </tr>\n",
       "    <tr>\n",
       "      <th>7502</th>\n",
       "      <td>🔥Hundreds of Muslims shouting to stop Poojas at Kali Matha Mandir in Kolkata, once poojas conducted by Sri Ramakrishna Paramahamsa. They (so-called peace lovers) want to close the Mandir. What is ...</td>\n",
       "      <td>Muslims protesting against temple in Kolakata</td>\n",
       "      <td>dev-eng</td>\n",
       "      <td>dev-eng</td>\n",
       "      <td>4</td>\n",
       "      <td>data/cleaned/normalization/dev/dev-eng/dev-eng_part_0037.parquet</td>\n",
       "    </tr>\n",
       "    <tr>\n",
       "      <th>7503</th>\n",
       "      <td>Meet Lebo Moatshe from South Africa who successfully removed HIV from a sperm cell in a lab which is a huge medical breakthrough. She has done 20 semen decontamination procedures (removing HIV fro...</td>\n",
       "      <td>A South African scientist made a “huge medical breakthrough” by successfully removing HIV from a sperm cell in a lab</td>\n",
       "      <td>dev-eng</td>\n",
       "      <td>dev-eng</td>\n",
       "      <td>13</td>\n",
       "      <td>data/cleaned/normalization/dev/dev-eng/dev-eng_part_0037.parquet</td>\n",
       "    </tr>\n",
       "    <tr>\n",
       "      <th>7504</th>\n",
       "      <td>Sales of Pfizer drug for myocarditis treatment,  Vyndamax, are up 77% in the US... Sales of Pfizer drug for myocarditis treatment,  Vyndamax, are up 77% in the US... Sales of Pfizer drug for myoca...</td>\n",
       "      <td>Pfizer drug Vyndamax treats myocarditis</td>\n",
       "      <td>dev-eng</td>\n",
       "      <td>dev-eng</td>\n",
       "      <td>6</td>\n",
       "      <td>data/cleaned/normalization/dev/dev-eng/dev-eng_part_0037.parquet</td>\n",
       "    </tr>\n",
       "  </tbody>\n",
       "</table>\n",
       "<p>7505 rows × 6 columns</p>\n",
       "</div>"
      ],
      "text/plain": [
       "                                                                                                                                                                                                         text                                                                                                             reference      split       lang  init_part_no                                                             source_file\n",
       "0                                                                                      INZ\\nPESQUISA IBOPE\\nAprovação de\\nBolsonaro vai a80%\\nSe você não viralizar, a\\ngrande mídia não fará isso\\npor você.                                                                               Bolsonaro tem 80% de aprovação no Ibope  train-por  train-por            25  data/cleaned/normalization/train/train-por/train-por_part_0001.parquet\n",
       "1     Este é um cemitério perto de Paris, França, com\\ncentenas de carros elétricos. Lembre-se de que estes\\nsão apenas carros usados pela cidade de Paris e não\\nveículos pessoais. Todos eles têm o mesm...                                                               Baterias de carros elétricos drenam toxinas para o solo  train-por  train-por            28  data/cleaned/normalization/train/train-por/train-por_part_0001.parquet\n",
       "2                                 😏 😏 😏 Notícias on line\\nN\\nNOTICIAS\\nIMAGE\\nPaolla Oliveira diz que a\\nprostituição será a única forma de\\nsobrevivência das atrizes da Globo\\ncaso Bolsonaro seja reeleito        Paolla Oliveira disse que atrizes da Globo terão de se prostituir para sobreviver caso Bolsonaro seja reeleito  train-por  train-por            59  data/cleaned/normalization/train/train-por/train-por_part_0001.parquet\n",
       "3     Isso aqui é uma delegacia de Minneapolis, Minnesota ( EUA) pegando fogo devido ao assassinato de George Floyd, homem negro assassinado brutalmente e injustamente pela policial.\\nIsso aqui é fogo n...                                         Delegacia de polícia em Minneapolis em chamas depois da morte de George Floyd  train-por  train-por            37  data/cleaned/normalization/train/train-por/train-por_part_0001.parquet\n",
       "4     Esta é a primeira imagem de ressonância magnética do mundo que mostra o laço de uma mãe e seu filho, graças à NH Neuro Training. A imagem é da neurocientista Rebecca Saxe a beijar o seu filho de d...                   Ressonância magnética de uma mãe com seu filho mostra reação química nos dois cérebros por um beijo  train-por  train-por            53  data/cleaned/normalization/train/train-por/train-por_part_0001.parquet\n",
       "...                                                                                                                                                                                                       ...                                                                                                                   ...        ...        ...           ...                                                                     ...\n",
       "7500                                                                                             Had gone to get India closed. In Papalaj, Rajasthan, the public thrashed him badly and blackened his face.\\n          Had gone to get India closed. In Papalaj, Rajasthan, the public thrashed him badly and blackened his face.\\n    dev-eng    dev-eng            53        data/cleaned/normalization/dev/dev-eng/dev-eng_part_0037.parquet\n",
       "7501                                                                                                   A Muslim youth molested a Hindu woman in the market.\\n \\n #AdaniBackOnTrack #love #StopDrinkingAlcohol                                                                   A Muslim youth molested a Hindu woman in the market    dev-eng    dev-eng            40        data/cleaned/normalization/dev/dev-eng/dev-eng_part_0037.parquet\n",
       "7502  🔥Hundreds of Muslims shouting to stop Poojas at Kali Matha Mandir in Kolkata, once poojas conducted by Sri Ramakrishna Paramahamsa. They (so-called peace lovers) want to close the Mandir. What is ...                                                                         Muslims protesting against temple in Kolakata    dev-eng    dev-eng             4        data/cleaned/normalization/dev/dev-eng/dev-eng_part_0037.parquet\n",
       "7503  Meet Lebo Moatshe from South Africa who successfully removed HIV from a sperm cell in a lab which is a huge medical breakthrough. She has done 20 semen decontamination procedures (removing HIV fro...  A South African scientist made a “huge medical breakthrough” by successfully removing HIV from a sperm cell in a lab    dev-eng    dev-eng            13        data/cleaned/normalization/dev/dev-eng/dev-eng_part_0037.parquet\n",
       "7504  Sales of Pfizer drug for myocarditis treatment,  Vyndamax, are up 77% in the US... Sales of Pfizer drug for myocarditis treatment,  Vyndamax, are up 77% in the US... Sales of Pfizer drug for myoca...                                                                               Pfizer drug Vyndamax treats myocarditis    dev-eng    dev-eng             6        data/cleaned/normalization/dev/dev-eng/dev-eng_part_0037.parquet\n",
       "\n",
       "[7505 rows x 6 columns]"
      ]
     },
     "execution_count": 10,
     "metadata": {},
     "output_type": "execute_result"
    }
   ],
   "source": [
    "root = Path(\"data/cleaned/normalization\")\n",
    "# Example path template\n",
    "files = root.rglob(\"**/*.parquet\")\n",
    "\n",
    "# Read all files and add file path as a column\n",
    "df_list = []\n",
    "for f in files:\n",
    "    df_part = pd.read_parquet(f)\n",
    "    df_part['source_file'] = f  # add the file path\n",
    "    df_list.append(df_part)\n",
    "\n",
    "# Combine into one DataFrame\n",
    "df = pd.concat(df_list, ignore_index=True)\n",
    "df['split'] = df.source_file.astype(str).str.split('/',expand=True)[4]\n",
    "df"
   ]
  },
  {
   "cell_type": "code",
   "execution_count": 12,
   "id": "63a4b4fa",
   "metadata": {},
   "outputs": [],
   "source": [
    "from sklearn.model_selection import train_test_split\n",
    "from factue.methods.llm_calls import load_template_list, load_template_parts\n",
    "\n",
    "# Split 80% fine-tune, 20% eval\n",
    "df_finetune, df_eval = train_test_split(df, test_size=0.2, random_state=42)"
   ]
  },
  {
   "cell_type": "code",
   "execution_count": 21,
   "id": "4a7bf01c",
   "metadata": {},
   "outputs": [],
   "source": [
    "SYSTEM_PART_NAME = \"system\"\n",
    "USER_PART_NAME = \"user\"\n",
    "\n",
    "def build_messages(post,reference,job=\"normalization\", step=\"extract\", prompt_name=\"default\", prompt_version=\"v001\"):\n",
    "    prompt_layout, prompt_content = load_template_parts(\n",
    "        job=job, step=\"extract\", prompt_name=prompt_name, prompt_version=prompt_version\n",
    "    )\n",
    "\n",
    "    json_line = {\n",
    "            \"messages\": [\n",
    "                {\"role\": \"system\", \"content\": prompt_layout[SYSTEM_PART_NAME].format(instructions=prompt_content['instructions'])},\n",
    "                {\"role\": \"user\", \"content\": prompt_layout[USER_PART_NAME].format(post = post)},\n",
    "                {\"role\": \"assistant\", \"content\": reference}\n",
    "            ]\n",
    "        }\n",
    "    return json_line\n",
    "    # return(json.dumps(json_line, ensure_ascii=False) + \"\\n\")\n"
   ]
  },
  {
   "cell_type": "code",
   "execution_count": 22,
   "id": "77261dcf",
   "metadata": {},
   "outputs": [],
   "source": [
    "# Write DataFrame to JSONL\n",
    "ft_df = df_finetune\n",
    "with open(\"data/finetuning/normalize_train.jsonl\", \"w\", encoding=\"utf-8\") as file:\n",
    "    for _, row in ft_df.iterrows():\n",
    "        json_line = build_messages(post = row['text'],reference = row['reference'])\n",
    "        file.write(json.dumps(json_line, ensure_ascii=False) + \"\\n\")"
   ]
  },
  {
   "cell_type": "code",
   "execution_count": 23,
   "id": "a43189f9",
   "metadata": {},
   "outputs": [],
   "source": [
    "# Write DataFrame to JSONL\n",
    "ft_df = df_eval\n",
    "with open(\"data/finetuning/normalize_eval.jsonl\", \"w\", encoding=\"utf-8\") as file:\n",
    "    for _, row in ft_df.iterrows():\n",
    "        json_line = build_messages(post = row['text'],reference = row['reference'])\n",
    "        file.write(json.dumps(json_line, ensure_ascii=False) + \"\\n\")"
   ]
  }
 ],
 "metadata": {
  "kernelspec": {
   "display_name": ".venv",
   "language": "python",
   "name": "python3"
  },
  "language_info": {
   "codemirror_mode": {
    "name": "ipython",
    "version": 3
   },
   "file_extension": ".py",
   "mimetype": "text/x-python",
   "name": "python",
   "nbconvert_exporter": "python",
   "pygments_lexer": "ipython3",
   "version": "3.12.9"
  }
 },
 "nbformat": 4,
 "nbformat_minor": 5
}
