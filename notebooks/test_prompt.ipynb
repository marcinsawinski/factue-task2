{
    "cells": [
        {
            "cell_type": "code",
            "execution_count": 1,
            "id": "e8ee4938",
            "metadata": {},
            "outputs": [],
            "source": [
                "%load_ext autoreload\n",
                "%autoreload 2"
            ]
        },
        {
            "cell_type": "code",
            "execution_count": 2,
            "id": "9c0156d0",
            "metadata": {},
            "outputs": [],
            "source": [
                "from factue.methods.llm_calls import make_call\n",
                "from factue.methods.llm_langchain.llm import Llm\n",
                "from factue.utils.types import ModelMode, ModelName, ModelProvider"
            ]
        },
        {
            "cell_type": "code",
            "execution_count": 3,
            "id": "e249ef30",
            "metadata": {},
            "outputs": [],
            "source": [
                "t = \"\"\"\n",
                "The Karnofsky Jewish family, who immigrated to the United States from Lithuania, employed a 7-year-old boy and adopted (so to speak) him into their home.  He was originally given homework to get food because he was a starving kid.  He remained under the Jewish families employ, until he was 12  Karnofsky gave him money to buy his first instrument, which was a common instrument in Jewish families.  They really admired his musical talent.Later, when he became a professional … See More The Karnofsky Jewish family, who immigrated to the United States from Lithuania, employed a 7-year-old boy and adopted (so to speak) him into their home.  He was originally given homework to get food because he was a starving kid.  He remained under the Jewish families employ, until he was 12  Karnofsky gave him money to buy his first instrument, which was a common instrument in Jewish families.  They really admired his musical talent.Later, when he became a professional … See More The Karnofsky Jewish family, who immigrated to the United States from Lithuania, employed a 7-year-old boy and adopted (so to speak) him into their home.  He was originally given homework to get food because he was a starving kid.  He remained under the Jewish families employ, until he was 12  Karnofsky gave him money to buy his first instrument, which was a common instrument in Jewish families.  They really admired his musical talent.Later, when he became a professional … See More None\n",
                "\"\"\"\n",
                "# t = 'car'"
            ]
        },
        {
            "cell_type": "code",
            "execution_count": 4,
            "id": "bb4f1e6f",
            "metadata": {},
            "outputs": [
                {
                    "name": "stdout",
                    "output_type": "stream",
                    "text": [
                        "******************** -1\n"
                    ]
                },
                {
                    "data": {
                        "text/plain": [
                            "['The Karnofsky Jewish family employed and adopted into their home a 7',\n",
                            " 'The Karnofsky Jewish family employed a 7-year-old boy and adopted',\n",
                            " 'The Karnofsky Jewish family employed and adopted a starving 7-year-old',\n",
                            " 'The Karnofsky family employed and adopted a 7-year-old starving boy',\n",
                            " 'The Karnofsky Jewish family employed and adopted a 7-year-old starving']"
                        ]
                    },
                    "execution_count": 4,
                    "metadata": {},
                    "output_type": "execute_result"
                }
            ],
            "source": [
                "llm = Llm(\n",
                "    model_name=ModelName.LLAMA_31_8B,\n",
                "    provider=ModelProvider.OLLAMA,\n",
                "    mode=ModelMode.CHAT,\n",
                "    temperature=0.8,\n",
                "    num_predict=15,\n",
                "    seed=-1,\n",
                ")\n",
                "\n",
                "make_call(llm, \"extract_task\", \"extract_001\", {\"text\": t}, 5)"
            ]
        },
        {
            "cell_type": "code",
            "execution_count": 5,
            "id": "5a5ea2a5",
            "metadata": {},
            "outputs": [],
            "source": [
                "from factue.utils.vars import PROJECT_ROOT\n",
                "from factue.utils.viz import disp\n",
                "import pandas as pd"
            ]
        },
        {
            "cell_type": "code",
            "execution_count": 6,
            "id": "e6bd9389",
            "metadata": {},
            "outputs": [
                {
                    "data": {
                        "application/vnd.microsoft.datawrangler.viewer.v0+json": {
                            "columns": [
                                {
                                    "name": "index",
                                    "rawType": "int64",
                                    "type": "integer"
                                },
                                {
                                    "name": "text",
                                    "rawType": "object",
                                    "type": "string"
                                },
                                {
                                    "name": "reference",
                                    "rawType": "object",
                                    "type": "string"
                                },
                                {
                                    "name": "text_lang",
                                    "rawType": "object",
                                    "type": "string"
                                },
                                {
                                    "name": "text_lang_score",
                                    "rawType": "float64",
                                    "type": "float"
                                },
                                {
                                    "name": "reference_lang",
                                    "rawType": "object",
                                    "type": "string"
                                },
                                {
                                    "name": "reference_lang_score",
                                    "rawType": "float64",
                                    "type": "float"
                                }
                            ],
                            "conversionMethod": "pd.DataFrame",
                            "ref": "f5282e6b-6547-4d9d-a379-53fee8847b19",
                            "rows": [
                                [
                                    "0",
                                    "The Karnofsky Jewish family, who immigrated to the United States from Lithuania, employed a 7-year-old boy and adopted (so to speak) him into their home.  He was originally given homework to get food because he was a starving kid.  He remained under the Jewish families employ, until he was 12  Karnofsky gave him money to buy his first instrument, which was a common instrument in Jewish families.  They really admired his musical talent.Later, when he became a professional … See More The Karnofsky Jewish family, who immigrated to the United States from Lithuania, employed a 7-year-old boy and adopted (so to speak) him into their home.  He was originally given homework to get food because he was a starving kid.  He remained under the Jewish families employ, until he was 12  Karnofsky gave him money to buy his first instrument, which was a common instrument in Jewish families.  They really admired his musical talent.Later, when he became a professional … See More The Karnofsky Jewish family, who immigrated to the United States from Lithuania, employed a 7-year-old boy and adopted (so to speak) him into their home.  He was originally given homework to get food because he was a starving kid.  He remained under the Jewish families employ, until he was 12  Karnofsky gave him money to buy his first instrument, which was a common instrument in Jewish families.  They really admired his musical talent.Later, when he became a professional … See More None",
                                    "Photo shows Louis Armstrong as a child",
                                    "en",
                                    "1.0",
                                    "en",
                                    "0.95"
                                ],
                                [
                                    "1",
                                    "Trophy hunting is horrific. 😥😥😥 Trophy hunting is horrific. 😥😥😥 Trophy hunting is horrific. 😥😥😥 mill\nCo\nThis little guy was rescued after his\nmother was murdered by a hunter.\nHis eyes say it all, don't you think?\nIf you want to ban trophy hunting\nforever, spread this everywhere.\nImage Credit: FB. Changes: cropped, resized, text added. https://bit.ly/3b2vwas",
                                    "This leopard cub's mother was killed by a trophy hunter",
                                    "en",
                                    "0.94",
                                    "en",
                                    "0.99"
                                ],
                                [
                                    "2",
                                    "Magarmacch // Heavy Rain //Hyderabad //Crocodile // Alert Magarmacch // Heavy Rain //Hyderabad //Crocodile // Alert Magarmacch // Heavy Rain //Hyderabad //Crocodile // Alert None",
                                    "Videos show current situation of Hyderabad amid heavy rain",
                                    "uk",
                                    "0.1",
                                    "en",
                                    "0.66"
                                ]
                            ],
                            "shape": {
                                "columns": 6,
                                "rows": 3
                            }
                        },
                        "text/html": [
                            "<div>\n",
                            "<style scoped>\n",
                            "    .dataframe tbody tr th:only-of-type {\n",
                            "        vertical-align: middle;\n",
                            "    }\n",
                            "\n",
                            "    .dataframe tbody tr th {\n",
                            "        vertical-align: top;\n",
                            "    }\n",
                            "\n",
                            "    .dataframe thead th {\n",
                            "        text-align: right;\n",
                            "    }\n",
                            "</style>\n",
                            "<table border=\"1\" class=\"dataframe\">\n",
                            "  <thead>\n",
                            "    <tr style=\"text-align: right;\">\n",
                            "      <th></th>\n",
                            "      <th>text</th>\n",
                            "      <th>reference</th>\n",
                            "      <th>text_lang</th>\n",
                            "      <th>text_lang_score</th>\n",
                            "      <th>reference_lang</th>\n",
                            "      <th>reference_lang_score</th>\n",
                            "    </tr>\n",
                            "  </thead>\n",
                            "  <tbody>\n",
                            "    <tr>\n",
                            "      <th>0</th>\n",
                            "      <td>The Karnofsky Jewish family, who immigrated to the United States from Lithuania, employed a 7-year-old boy and adopted (so to speak) him into their home.  He was originally given homework to get f...</td>\n",
                            "      <td>Photo shows Louis Armstrong as a child</td>\n",
                            "      <td>en</td>\n",
                            "      <td>1.00</td>\n",
                            "      <td>en</td>\n",
                            "      <td>0.95</td>\n",
                            "    </tr>\n",
                            "    <tr>\n",
                            "      <th>1</th>\n",
                            "      <td>Trophy hunting is horrific. 😥😥😥 Trophy hunting is horrific. 😥😥😥 Trophy hunting is horrific. 😥😥😥 mill\\nCo\\nThis little guy was rescued after his\\nmother was murdered by a hunter.\\nHis eyes say it a...</td>\n",
                            "      <td>This leopard cub's mother was killed by a trophy hunter</td>\n",
                            "      <td>en</td>\n",
                            "      <td>0.94</td>\n",
                            "      <td>en</td>\n",
                            "      <td>0.99</td>\n",
                            "    </tr>\n",
                            "    <tr>\n",
                            "      <th>2</th>\n",
                            "      <td>Magarmacch // Heavy Rain //Hyderabad //Crocodile // Alert Magarmacch // Heavy Rain //Hyderabad //Crocodile // Alert Magarmacch // Heavy Rain //Hyderabad //Crocodile // Alert None</td>\n",
                            "      <td>Videos show current situation of Hyderabad amid heavy rain</td>\n",
                            "      <td>uk</td>\n",
                            "      <td>0.10</td>\n",
                            "      <td>en</td>\n",
                            "      <td>0.66</td>\n",
                            "    </tr>\n",
                            "  </tbody>\n",
                            "</table>\n",
                            "</div>"
                        ],
                        "text/plain": [
                            "                                                                                                                                                                                                      text                                                   reference text_lang  text_lang_score reference_lang  reference_lang_score\n",
                            "0  The Karnofsky Jewish family, who immigrated to the United States from Lithuania, employed a 7-year-old boy and adopted (so to speak) him into their home.  He was originally given homework to get f...                      Photo shows Louis Armstrong as a child        en             1.00             en                  0.95\n",
                            "1  Trophy hunting is horrific. 😥😥😥 Trophy hunting is horrific. 😥😥😥 Trophy hunting is horrific. 😥😥😥 mill\\nCo\\nThis little guy was rescued after his\\nmother was murdered by a hunter.\\nHis eyes say it a...     This leopard cub's mother was killed by a trophy hunter        en             0.94             en                  0.99\n",
                            "2                       Magarmacch // Heavy Rain //Hyderabad //Crocodile // Alert Magarmacch // Heavy Rain //Hyderabad //Crocodile // Alert Magarmacch // Heavy Rain //Hyderabad //Crocodile // Alert None  Videos show current situation of Hyderabad amid heavy rain        uk             0.10             en                  0.66"
                        ]
                    },
                    "execution_count": 6,
                    "metadata": {},
                    "output_type": "execute_result"
                }
            ],
            "source": [
                "sample_in = (\n",
                "    PROJECT_ROOT / \"data/01_preprocessed\" / \"dev\" / \"dev-eng\" / \"batch_0000.parquet\"\n",
                ")\n",
                "df = pd.read_parquet(sample_in).head(3)\n",
                "df"
            ]
        },
        {
            "cell_type": "code",
            "execution_count": 7,
            "id": "e54086a8",
            "metadata": {},
            "outputs": [
                {
                    "data": {
                        "text/plain": [
                            "['The Karnofsky Jewish family employed and cared for the boy from age',\n",
                            " 'The Karnofsky Jewish family employed a 7-year-old boy and gave',\n",
                            " 'The Karnofsky family employed a 7-year-old boy and adopted him']"
                        ]
                    },
                    "execution_count": 7,
                    "metadata": {},
                    "output_type": "execute_result"
                }
            ],
            "source": [
                "make_call(llm, \"extract_task\", \"extract_001\", {\"text\": t}, 3)"
            ]
        },
        {
            "cell_type": "code",
            "execution_count": 11,
            "id": "8a25291b",
            "metadata": {},
            "outputs": [
                {
                    "data": {
                        "text/plain": [
                            "['The Karnofsky Jewish family employed and adopted into their home a 7',\n",
                            " 'The Karnofsky Jewish family employed and adopted a 7-year-old starving',\n",
                            " 'The Karnofsky Jewish family employed and adopted a 7-year-old starving',\n",
                            " 'The Karnofsky family employed and adopted a starving 7-year-old boy',\n",
                            " 'The Karnofsky family employed and adopted a starving 7-year-old boy',\n",
                            " 'A mother orca was murdered by a hunter, resulting in the rescue of',\n",
                            " 'A mother of this orphaned animal was murdered by a hunter.',\n",
                            " 'A mother of this little guy was murdered by a hunter.',\n",
                            " 'A mother of this orphaned animal was murdered by a hunter.',\n",
                            " 'A mother of this young animal was murdered by a hunter.',\n",
                            " 'A heavy rain alert has been issued in Hyderabad.',\n",
                            " 'A heavy rain alert has been issued for Hyderabad due to a possible crocodile',\n",
                            " 'A heavy rain alert has been issued for Hyderabad.',\n",
                            " 'Heavy rain is alerting for a crocodile in Hyderabad.',\n",
                            " 'A heavy rain alert has been issued in Hyderabad.']"
                        ]
                    },
                    "execution_count": 11,
                    "metadata": {},
                    "output_type": "execute_result"
                }
            ],
            "source": [
                "df[\"claim\"] = df.apply(\n",
                "    lambda row: make_call(\n",
                "        llm=llm,\n",
                "        step_id=\"extract_task\",\n",
                "        prompt_id=\"extract_001\",\n",
                "        variables={\"text\": row[\"text\"]},\n",
                "        max_iterations=5,\n",
                "    ),\n",
                "    axis=1,\n",
                ")\n",
                "[i for x in df.claim.values for i in x]"
            ]
        },
        {
            "cell_type": "code",
            "execution_count": null,
            "id": "6df5e428",
            "metadata": {},
            "outputs": [
                {
                    "data": {
                        "text/plain": [
                            "['The Karnofsky family employed a 7-year-old starving boy and gave',\n",
                            " 'The Karnofsky Jewish family employed and adopted a 7-year-old starving',\n",
                            " 'The Karnofsky Jewish family employed and adopted a 7-year-old boy',\n",
                            " 'The Karnofsky family employed and supported a starving 7-year-old boy',\n",
                            " 'The Karnofsky Jewish family employed and adopted a 7-year-old boy',\n",
                            " 'A mother of this little guy was murdered by a hunter.',\n",
                            " 'A mother of this orphaned animal was murdered by a hunter.',\n",
                            " 'A hunter murdered the mother of this rescued animal, highlighting the devastating impact of',\n",
                            " 'A mother of this little animal was murdered by a hunter.',\n",
                            " 'A mother of this animal was murdered by a hunter, resulting in the need',\n",
                            " 'A heavy rain alert has been issued in Hyderabad.',\n",
                            " 'A heavy rain alert has been issued for Hyderabad due to a possible crocodile',\n",
                            " 'A crocodile has been spotted in Hyderabad due to the heavy rain.',\n",
                            " 'A heavy rain alert has been issued in Hyderabad due to the presence of a',\n",
                            " 'Heavy rain in Hyderabad has prompted a crocodile alert.']"
                        ]
                    },
                    "execution_count": 10,
                    "metadata": {},
                    "output_type": "execute_result"
                }
            ],
            "source": []
        }
    ],
    "metadata": {
        "kernelspec": {
            "display_name": ".venv",
            "language": "python",
            "name": "python3"
        },
        "language_info": {
            "codemirror_mode": {
                "name": "ipython",
                "version": 3
            },
            "file_extension": ".py",
            "mimetype": "text/x-python",
            "name": "python",
            "nbconvert_exporter": "python",
            "pygments_lexer": "ipython3",
            "version": "3.12.9"
        }
    },
    "nbformat": 4,
    "nbformat_minor": 5
}